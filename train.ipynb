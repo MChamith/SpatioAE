{
  "nbformat": 4,
  "nbformat_minor": 0,
  "metadata": {
    "colab": {
      "name": "train.ipynb",
      "version": "0.3.2",
      "provenance": [],
      "collapsed_sections": [],
      "include_colab_link": true
    },
    "kernelspec": {
      "name": "python3",
      "display_name": "Python 3"
    },
    "accelerator": "GPU"
  },
  "cells": [
    {
      "cell_type": "markdown",
      "metadata": {
        "id": "view-in-github",
        "colab_type": "text"
      },
      "source": [
        "[View in Colaboratory](https://colab.research.google.com/github/MChamith/SpatioAE/blob/master/train.ipynb)"
      ]
    },
    {
      "metadata": {
        "id": "y151b-vy7_Hm",
        "colab_type": "code",
        "colab": {}
      },
      "cell_type": "code",
      "source": [
        "!ls\n",
        "\n",
        "\n"
      ],
      "execution_count": 0,
      "outputs": []
    },
    {
      "metadata": {
        "id": "75hDHxVG7_Dy",
        "colab_type": "code",
        "colab": {},
        "outputId": "369c9eb4-2188-476f-9e3a-03a7152d6b2a"
      },
      "cell_type": "code",
      "source": [
        ""
      ],
      "execution_count": 0,
      "outputs": []
    },
    {
      "metadata": {
        "id": "RsvGa37AgdZZ",
        "colab_type": "code",
        "colab": {}
      },
      "cell_type": "code",
      "source": [
        "from keras.layers import Input, Dense, Conv2D, MaxPooling2D, UpSampling2D\n",
        "from keras.models import Model\n",
        "from keras import backend as K\n",
        "import cv2\n",
        "import numpy as np\n",
        "import os\n",
        "from tqdm import tqdm\n",
        "\n",
        "TRAIN_DIR ='SpatioAE/Train001'\n",
        "\n",
        "\n",
        "\n",
        "def create_training_set():\n",
        "  train_data = []\n",
        "  for img in tqdm(os.listdir(TRAIN_DIR)):\n",
        "    path = os.path.join(TRAIN_DIR, img)\n",
        "    img = cv2.imread(path, cv2.IMREAD_GRAYSCALE)\n",
        "    train_data.append(np.array(img))\n",
        "    \n",
        "    \n",
        "  np.save('training_data.npy' , train_data)\n",
        "  print(train_data)\n",
        "  return train_data\n",
        "\n",
        "\n",
        "  "
      ],
      "execution_count": 0,
      "outputs": []
    },
    {
      "metadata": {
        "id": "ZsQBc8wP7_LY",
        "colab_type": "code",
        "colab": {}
      },
      "cell_type": "code",
      "source": [
        "traindata = create_training_set()"
      ],
      "execution_count": 0,
      "outputs": []
    }
  ]
}