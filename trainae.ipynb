{
  "nbformat": 4,
  "nbformat_minor": 0,
  "metadata": {
    "colab": {
      "name": "trainae.ipynb",
      "version": "0.3.2",
      "provenance": [],
      "toc_visible": true,
      "include_colab_link": true
    },
    "kernelspec": {
      "name": "python3",
      "display_name": "Python 3"
    },
    "accelerator": "GPU"
  },
  "cells": [
    {
      "cell_type": "markdown",
      "metadata": {
        "id": "view-in-github",
        "colab_type": "text"
      },
      "source": [
        "[View in Colaboratory](https://colab.research.google.com/github/MChamith/SpatioAE/blob/master/trainae.ipynb)"
      ]
    },
    {
      "metadata": {
        "id": "ufZ5aF0L1pDy",
        "colab_type": "code",
        "colab": {
          "base_uri": "https://localhost:8080/",
          "height": 143
        },
        "outputId": "0ff35e69-d805-4180-e370-1783af1d4d66"
      },
      "cell_type": "code",
      "source": [
        "!git clone https://github.com/MChamith/SpatioAE"
      ],
      "execution_count": 3,
      "outputs": [
        {
          "output_type": "stream",
          "text": [
            "Cloning into 'SpatioAE'...\n",
            "remote: Counting objects: 7168, done.\u001b[K\n",
            "remote: Compressing objects: 100% (24/24), done.\u001b[K\n",
            "remote: Total 7168 (delta 12), reused 6 (delta 2), pack-reused 7142\u001b[K\n",
            "Receiving objects: 100% (7168/7168), 275.49 MiB | 30.04 MiB/s, done.\n",
            "Resolving deltas: 100% (66/66), done.\n",
            "Checking out files: 100% (7205/7205), done.\n"
          ],
          "name": "stdout"
        }
      ]
    },
    {
      "metadata": {
        "id": "0kSjtgFoq61V",
        "colab_type": "code",
        "colab": {}
      },
      "cell_type": "code",
      "source": [
        "import os\n",
        "os.chdir('SpatioAE')\n",
        "!pwd\n",
        "!git pull https://github.com/MChamith/SpatioAE\n",
        "os.chdir('/content')  \n",
        "!pwd"
      ],
      "execution_count": 0,
      "outputs": []
    },
    {
      "metadata": {
        "id": "qSCjpWxsZX0p",
        "colab_type": "code",
        "colab": {
          "base_uri": "https://localhost:8080/",
          "height": 2503
        },
        "outputId": "5057a2ce-4b0a-4793-e3a9-1ffbc6888c09"
      },
      "cell_type": "code",
      "source": [
        "!apt-get install -y -qq software-properties-common python-software-properties module-init-tools\n",
        "!add-apt-repository -y ppa:alessandro-strada/ppa 2>&1 > /dev/null\n",
        "!apt-get update -qq 2>&1 > /dev/null\n",
        "!apt-get -y install -qq google-drive-ocamlfuse fuse\n",
        "from google.colab import auth\n",
        "auth.authenticate_user()\n",
        "from oauth2client.client import GoogleCredentials\n",
        "creds = GoogleCredentials.get_application_default()\n",
        "import getpass\n",
        "!google-drive-ocamlfuse -headless -id={creds.client_id} -secret={creds.client_secret} < /dev/null 2>&1 | grep URL\n",
        "vcode = getpass.getpass()\n",
        "!echo {vcode} | google-drive-ocamlfuse -headless -id={creds.client_id} -secret={creds.client_secret}"
      ],
      "execution_count": 4,
      "outputs": [
        {
          "output_type": "stream",
          "text": [
            "Preconfiguring packages ...\n",
            "Selecting previously unselected package cron.\n",
            "(Reading database ... 18408 files and directories currently installed.)\n",
            "Preparing to unpack .../00-cron_3.0pl1-128ubuntu5_amd64.deb ...\n",
            "Unpacking cron (3.0pl1-128ubuntu5) ...\n",
            "Selecting previously unselected package libapparmor1:amd64.\n",
            "Preparing to unpack .../01-libapparmor1_2.11.0-2ubuntu17.1_amd64.deb ...\n",
            "Unpacking libapparmor1:amd64 (2.11.0-2ubuntu17.1) ...\n",
            "Selecting previously unselected package libdbus-1-3:amd64.\n",
            "Preparing to unpack .../02-libdbus-1-3_1.10.22-1ubuntu1_amd64.deb ...\n",
            "Unpacking libdbus-1-3:amd64 (1.10.22-1ubuntu1) ...\n",
            "Selecting previously unselected package dbus.\n",
            "Preparing to unpack .../03-dbus_1.10.22-1ubuntu1_amd64.deb ...\n",
            "Unpacking dbus (1.10.22-1ubuntu1) ...\n",
            "Selecting previously unselected package dirmngr.\n",
            "Preparing to unpack .../04-dirmngr_2.1.15-1ubuntu8.1_amd64.deb ...\n",
            "Unpacking dirmngr (2.1.15-1ubuntu8.1) ...\n",
            "Selecting previously unselected package distro-info-data.\n",
            "Preparing to unpack .../05-distro-info-data_0.36ubuntu0.2_all.deb ...\n",
            "Unpacking distro-info-data (0.36ubuntu0.2) ...\n",
            "Selecting previously unselected package libkmod2:amd64.\n",
            "Preparing to unpack .../06-libkmod2_24-1ubuntu2_amd64.deb ...\n",
            "Unpacking libkmod2:amd64 (24-1ubuntu2) ...\n",
            "Selecting previously unselected package kmod.\n",
            "Preparing to unpack .../07-kmod_24-1ubuntu2_amd64.deb ...\n",
            "Unpacking kmod (24-1ubuntu2) ...\n",
            "Selecting previously unselected package lsb-release.\n",
            "Preparing to unpack .../08-lsb-release_9.20160110ubuntu5_all.deb ...\n",
            "Unpacking lsb-release (9.20160110ubuntu5) ...\n",
            "Selecting previously unselected package libgirepository-1.0-1:amd64.\n",
            "Preparing to unpack .../09-libgirepository-1.0-1_1.54.1-1_amd64.deb ...\n",
            "Unpacking libgirepository-1.0-1:amd64 (1.54.1-1) ...\n",
            "Selecting previously unselected package gir1.2-glib-2.0:amd64.\n",
            "Preparing to unpack .../10-gir1.2-glib-2.0_1.54.1-1_amd64.deb ...\n",
            "Unpacking gir1.2-glib-2.0:amd64 (1.54.1-1) ...\n",
            "Selecting previously unselected package iso-codes.\n",
            "Preparing to unpack .../11-iso-codes_3.75-1_all.deb ...\n",
            "Unpacking iso-codes (3.75-1) ...\n",
            "Selecting previously unselected package libdbus-glib-1-2:amd64.\n",
            "Preparing to unpack .../12-libdbus-glib-1-2_0.108-2_amd64.deb ...\n",
            "Unpacking libdbus-glib-1-2:amd64 (0.108-2) ...\n",
            "Selecting previously unselected package python-apt-common.\n",
            "Preparing to unpack .../13-python-apt-common_1.4.0~beta3build2_all.deb ...\n",
            "Unpacking python-apt-common (1.4.0~beta3build2) ...\n",
            "Selecting previously unselected package python3-apt.\n",
            "Preparing to unpack .../14-python3-apt_1.4.0~beta3build2_amd64.deb ...\n",
            "Unpacking python3-apt (1.4.0~beta3build2) ...\n",
            "Selecting previously unselected package python3-dbus.\n",
            "Preparing to unpack .../15-python3-dbus_1.2.4-1build3_amd64.deb ...\n",
            "Unpacking python3-dbus (1.2.4-1build3) ...\n",
            "Selecting previously unselected package python3-gi.\n",
            "Preparing to unpack .../16-python3-gi_3.24.1-2build1_amd64.deb ...\n",
            "Unpacking python3-gi (3.24.1-2build1) ...\n",
            "Selecting previously unselected package module-init-tools.\n",
            "Preparing to unpack .../17-module-init-tools_24-1ubuntu2_all.deb ...\n",
            "Unpacking module-init-tools (24-1ubuntu2) ...\n",
            "Selecting previously unselected package python-apt.\n",
            "Preparing to unpack .../18-python-apt_1.4.0~beta3build2_amd64.deb ...\n",
            "Unpacking python-apt (1.4.0~beta3build2) ...\n",
            "Selecting previously unselected package python-pycurl.\n",
            "Preparing to unpack .../19-python-pycurl_7.43.0-2build2_amd64.deb ...\n",
            "Unpacking python-pycurl (7.43.0-2build2) ...\n",
            "Selecting previously unselected package python-software-properties.\n",
            "Preparing to unpack .../20-python-software-properties_0.96.24.17_all.deb ...\n",
            "Unpacking python-software-properties (0.96.24.17) ...\n",
            "Selecting previously unselected package python3-software-properties.\n",
            "Preparing to unpack .../21-python3-software-properties_0.96.24.17_all.deb ...\n",
            "Unpacking python3-software-properties (0.96.24.17) ...\n",
            "Selecting previously unselected package software-properties-common.\n",
            "Preparing to unpack .../22-software-properties-common_0.96.24.17_all.deb ...\n",
            "Unpacking software-properties-common (0.96.24.17) ...\n",
            "Selecting previously unselected package unattended-upgrades.\n",
            "Preparing to unpack .../23-unattended-upgrades_0.98ubuntu1.1_all.deb ...\n",
            "Unpacking unattended-upgrades (0.98ubuntu1.1) ...\n",
            "Setting up python-apt-common (1.4.0~beta3build2) ...\n",
            "Setting up python3-apt (1.4.0~beta3build2) ...\n",
            "Setting up iso-codes (3.75-1) ...\n",
            "Setting up distro-info-data (0.36ubuntu0.2) ...\n",
            "Setting up python-pycurl (7.43.0-2build2) ...\n",
            "Setting up lsb-release (9.20160110ubuntu5) ...\n",
            "Setting up libgirepository-1.0-1:amd64 (1.54.1-1) ...\n",
            "Setting up libkmod2:amd64 (24-1ubuntu2) ...\n",
            "Setting up gir1.2-glib-2.0:amd64 (1.54.1-1) ...\n",
            "Processing triggers for libc-bin (2.26-0ubuntu2.1) ...\n",
            "Setting up libapparmor1:amd64 (2.11.0-2ubuntu17.1) ...\n",
            "Setting up unattended-upgrades (0.98ubuntu1.1) ...\n",
            "\n",
            "Creating config file /etc/apt/apt.conf.d/20auto-upgrades with new version\n",
            "\n",
            "Creating config file /etc/apt/apt.conf.d/50unattended-upgrades with new version\n",
            "invoke-rc.d: could not determine current runlevel\n",
            "invoke-rc.d: policy-rc.d denied execution of start.\n",
            "Setting up dirmngr (2.1.15-1ubuntu8.1) ...\n",
            "Setting up cron (3.0pl1-128ubuntu5) ...\n",
            "Adding group `crontab' (GID 102) ...\n",
            "Done.\n",
            "update-rc.d: warning: start and stop actions are no longer supported; falling back to defaults\n",
            "update-rc.d: warning: stop runlevel arguments (1) do not match cron Default-Stop values (none)\n",
            "invoke-rc.d: could not determine current runlevel\n",
            "invoke-rc.d: policy-rc.d denied execution of start.\n",
            "Setting up libdbus-1-3:amd64 (1.10.22-1ubuntu1) ...\n",
            "Setting up kmod (24-1ubuntu2) ...\n",
            "Setting up libdbus-glib-1-2:amd64 (0.108-2) ...\n",
            "Setting up python3-gi (3.24.1-2build1) ...\n",
            "Setting up module-init-tools (24-1ubuntu2) ...\n",
            "Setting up python3-software-properties (0.96.24.17) ...\n",
            "Setting up dbus (1.10.22-1ubuntu1) ...\n",
            "Setting up python-apt (1.4.0~beta3build2) ...\n",
            "Setting up python3-dbus (1.2.4-1build3) ...\n",
            "Setting up python-software-properties (0.96.24.17) ...\n",
            "Setting up software-properties-common (0.96.24.17) ...\n",
            "Processing triggers for libc-bin (2.26-0ubuntu2.1) ...\n",
            "Processing triggers for dbus (1.10.22-1ubuntu1) ...\n",
            "gpg: keybox '/tmp/tmp6yorbdbj/pubring.gpg' created\n",
            "gpg: /tmp/tmp6yorbdbj/trustdb.gpg: trustdb created\n",
            "gpg: key AD5F235DF639B041: public key \"Launchpad PPA for Alessandro Strada\" imported\n",
            "gpg: Total number processed: 1\n",
            "gpg:               imported: 1\n",
            "Warning: apt-key output should not be parsed (stdout is not a terminal)\n",
            "Selecting previously unselected package libfuse2:amd64.\n",
            "(Reading database ... 19816 files and directories currently installed.)\n",
            "Preparing to unpack .../libfuse2_2.9.7-1ubuntu1_amd64.deb ...\n",
            "Unpacking libfuse2:amd64 (2.9.7-1ubuntu1) ...\n",
            "Selecting previously unselected package fuse.\n",
            "Preparing to unpack .../fuse_2.9.7-1ubuntu1_amd64.deb ...\n",
            "Unpacking fuse (2.9.7-1ubuntu1) ...\n",
            "Selecting previously unselected package google-drive-ocamlfuse.\n",
            "Preparing to unpack .../google-drive-ocamlfuse_0.6.21-0ubuntu2_amd64.deb ...\n",
            "Unpacking google-drive-ocamlfuse (0.6.21-0ubuntu2) ...\n",
            "Setting up libfuse2:amd64 (2.9.7-1ubuntu1) ...\n",
            "Processing triggers for libc-bin (2.26-0ubuntu2.1) ...\n",
            "Setting up fuse (2.9.7-1ubuntu1) ...\n",
            "Setting up google-drive-ocamlfuse (0.6.21-0ubuntu2) ...\n",
            "Please, open the following URL in a web browser: https://accounts.google.com/o/oauth2/auth?client_id=32555940559.apps.googleusercontent.com&redirect_uri=urn%3Aietf%3Awg%3Aoauth%3A2.0%3Aoob&scope=https%3A%2F%2Fwww.googleapis.com%2Fauth%2Fdrive&response_type=code&access_type=offline&approval_prompt=force\n",
            "··········\n",
            "Please, open the following URL in a web browser: https://accounts.google.com/o/oauth2/auth?client_id=32555940559.apps.googleusercontent.com&redirect_uri=urn%3Aietf%3Awg%3Aoauth%3A2.0%3Aoob&scope=https%3A%2F%2Fwww.googleapis.com%2Fauth%2Fdrive&response_type=code&access_type=offline&approval_prompt=force\n",
            "Please enter the verification code: Access token retrieved correctly.\n"
          ],
          "name": "stdout"
        }
      ]
    },
    {
      "metadata": {
        "id": "Aa0Cs6imaTpA",
        "colab_type": "code",
        "colab": {}
      },
      "cell_type": "code",
      "source": [
        "!mkdir -p drive\n",
        "!google-drive-ocamlfuse drive"
      ],
      "execution_count": 0,
      "outputs": []
    },
    {
      "metadata": {
        "id": "L4LP_pvcWXyC",
        "colab_type": "code",
        "colab": {}
      },
      "cell_type": "code",
      "source": [
        "\n",
        "from keras.layers import Input, Dense, Conv3D, MaxPooling3D, UpSampling3D, Activation, BatchNormalization\n",
        "from keras.models import Model\n",
        "from keras.preprocessing import image\n",
        "from keras import backend as K\n",
        "from keras.optimizers import Adam\n",
        "import cv2\n",
        "import numpy as np\n",
        "import os\n",
        "from tqdm import tqdm\n",
        "import fnmatch\n",
        "import scipy.misc\n",
        "from keras.models import load_model"
      ],
      "execution_count": 0,
      "outputs": []
    },
    {
      "metadata": {
        "id": "vVWGyvWv13fF",
        "colab_type": "code",
        "colab": {}
      },
      "cell_type": "code",
      "source": [
        "\n",
        "from keras.layers import Input, Dense, Conv3D, MaxPooling3D, UpSampling3D, Activation, BatchNormalization\n",
        "from keras.models import Model\n",
        "from keras.preprocessing import image\n",
        "from keras import backend as K\n",
        "import cv2\n",
        "import numpy as np\n",
        "import os\n",
        "from tqdm import tqdm\n",
        "import fnmatch\n",
        "import scipy.misc\n",
        "from keras.models import load_model\n",
        "\n",
        "TRAIN_DIR ='SpatioAE/Train'\n",
        "TEST_DIR = 'drive/Data/datasets/Test032'\n",
        "IMG_SIZE = 128\n",
        "\n",
        "\n",
        "\n",
        "def create_training_set():\n",
        "  train_data = []\n",
        "  matches = []\n",
        "  for root, dirnames, filenames in tqdm(os.walk(TRAIN_DIR)):\n",
        "    for filename in fnmatch.filter(filenames, \"*.tif\"):\n",
        "      path = os.path.join(root, filename)\n",
        "      img = image.load_img(path, target_size=(128,128), grayscale = True)\n",
        "      img_array = image.img_to_array(img)\n",
        "#       print(\"img array size is \" + str(img_array.shape))\n",
        "#       img = cv2.resize(cv2.imread(path, cv2.IMREAD_GRAYSCALE),(IMG_SIZE,IMG_SIZE) )\n",
        "#       img_array = np.expand_dims(img_array, axis = 2)\n",
        "      train_data.append(np.array(img_array))\n",
        "          \n",
        "  np.save('training_data.npy' , train_data)\n",
        "  \n",
        "  return train_data\n",
        "\n",
        "      \n",
        "    \n",
        "    \n",
        "#   for img in tqdm(os.listdir(TRAIN_DIR)):\n",
        "#     path = os.path.join(TRAIN_DIR, img)\n",
        "#     img = cv2.resize(cv2.imread(path, cv2.IMREAD_GRAYSCALE),(IMG_SIZE,IMG_SIZE) )\n",
        "#     img = np.expand_dims(img, axis = 2)\n",
        "#     train_data.append(np.array(img))\n",
        "    \n",
        "    \n",
        "#   np.save('training_data.npy' , train_data)\n",
        "  \n",
        "#   return train_data\n",
        "\n",
        "\n",
        "def create_test_set():\n",
        "  test_data = []\n",
        "  for img in tqdm(os.listdir(TEST_DIR)):\n",
        "    path = os.path.join(TEST_DIR, img)\n",
        "    img = image.load_img(path, target_size=(128,128), grayscale = True)\n",
        "    img_array =image.img_to_array(img)\n",
        "    \n",
        "#     img = cv2.resize(cv2.imread(path, cv2.IMREAD_GRAYSCALE),(IMG_SIZE,IMG_SIZE) )\n",
        "#     img = np.expand_dims(img, axis = 2)\n",
        "    test_data.append(np.array(img_array))\n",
        "    \n",
        "    \n",
        "  np.save('test_data32.npy' , test_data)\n",
        "  return test_data"
      ],
      "execution_count": 0,
      "outputs": []
    },
    {
      "metadata": {
        "id": "m8BDl7HwQVqk",
        "colab_type": "code",
        "colab": {}
      },
      "cell_type": "code",
      "source": [
        "def create_cuboid(input_imgs):\n",
        "  \n",
        "  win_size = 8\n",
        "  m = input_imgs.shape[0]\n",
        "  h = input_imgs.shape[1]\n",
        "  w = input_imgs.shape[2]\n",
        "  c = input_imgs.shape[3]\n",
        "  \n",
        "  a = []                                    # a python list to hold the windows\n",
        "  for i in range(0, input_imgs.shape[0]-win_size+1):\n",
        "    window = input_imgs[i:i+win_size,:,:,:].reshape((-1,h,w,c)) # each individual window\n",
        "    a.append(window)\n",
        "#     print('i = ' + str(i))\n",
        "   \n",
        "#   cuboid = np.hstack(a)\n",
        "  np.save('hyper_cuboid_win8.npy' , a)\n",
        "  return a\n",
        "\n",
        "  \n",
        "  "
      ],
      "execution_count": 0,
      "outputs": []
    },
    {
      "metadata": {
        "id": "m4sTP0uiHbPh",
        "colab_type": "code",
        "colab": {}
      },
      "cell_type": "code",
      "source": [
        "def create_test_cuboid(input_imgs):\n",
        "  \n",
        "  win_size = 8\n",
        "  m = input_imgs.shape[0]\n",
        "  h = input_imgs.shape[1]\n",
        "  w = input_imgs.shape[2]\n",
        "  c = input_imgs.shape[3]\n",
        "  \n",
        "  t = []                                    # a python list to hold the windows\n",
        "  for i in range(0, input_imgs.shape[0]-win_size+1):\n",
        "    window = input_imgs[i:i+win_size,:,:,:].reshape((-1,h,w,c)) # each individual window\n",
        "    t.append(window)\n",
        "   \n",
        "#   cuboid = np.hstack(a)\n",
        "  np.save('test_hyper_cuboid_win8_32.npy' , t)\n",
        "  return t"
      ],
      "execution_count": 0,
      "outputs": []
    },
    {
      "metadata": {
        "id": "M0XdRt3hT87K",
        "colab_type": "code",
        "colab": {
          "base_uri": "https://localhost:8080/",
          "height": 125
        },
        "outputId": "68e02bb8-d234-4774-86a6-f224ddb8d8a3"
      },
      "cell_type": "code",
      "source": [
        "create_training_set()\n",
        "print('started')\n",
        "input_data = np.load('training_data.npy')\n",
        "print('training data loaded')\n",
        "input_data = input_data.astype('float32') / 255\n",
        "print('data normalized')\n",
        "create_cuboid(input_data)\n",
        "print('cuboid created')\n",
        "img_cuboids = np.load('hyper_cuboid_win8.npy')\n",
        "print(img_cuboids.shape)\n"
      ],
      "execution_count": 10,
      "outputs": [
        {
          "output_type": "stream",
          "text": [
            "35it [00:06,  5.45it/s]\n"
          ],
          "name": "stderr"
        },
        {
          "output_type": "stream",
          "text": [
            "started\n",
            "training data loaded\n",
            "data normalized\n",
            "cuboid created\n",
            "(6793, 8, 128, 128, 1)\n"
          ],
          "name": "stdout"
        }
      ]
    },
    {
      "metadata": {
        "id": "cerYwI2RFlLo",
        "colab_type": "code",
        "colab": {}
      },
      "cell_type": "code",
      "source": [
        "input_data = np.load('drive/Data/training_data.npy')"
      ],
      "execution_count": 0,
      "outputs": []
    },
    {
      "metadata": {
        "id": "R1iWpPv5FVUD",
        "colab_type": "code",
        "colab": {}
      },
      "cell_type": "code",
      "source": [
        "\n",
        "input_data = input_data.astype('float32') / 255.\n",
        "create_cuboid(input_data)"
      ],
      "execution_count": 0,
      "outputs": []
    },
    {
      "metadata": {
        "id": "5HzwbnaFFj7q",
        "colab_type": "code",
        "colab": {}
      },
      "cell_type": "code",
      "source": [
        ""
      ],
      "execution_count": 0,
      "outputs": []
    },
    {
      "metadata": {
        "id": "-vpC1FzX0dlx",
        "colab_type": "code",
        "colab": {
          "base_uri": "https://localhost:8080/",
          "height": 34
        },
        "outputId": "fbd25ffa-0bb7-480d-83d1-79ac1def3717"
      },
      "cell_type": "code",
      "source": [
        "print(img_cuboids.shape)"
      ],
      "execution_count": 0,
      "outputs": [
        {
          "output_type": "stream",
          "text": [
            "(6785, 16, 128, 128, 1)\n"
          ],
          "name": "stdout"
        }
      ]
    },
    {
      "metadata": {
        "id": "dU-0lJYruBC2",
        "colab_type": "code",
        "colab": {
          "base_uri": "https://localhost:8080/",
          "height": 34
        },
        "outputId": "c9042828-f6c7-4cb8-bcc7-59996520fa9e"
      },
      "cell_type": "code",
      "source": [
        "print(img_cuboids.shape)"
      ],
      "execution_count": 0,
      "outputs": [
        {
          "output_type": "stream",
          "text": [
            "(6785, 16, 128, 128, 1)\n"
          ],
          "name": "stdout"
        }
      ]
    },
    {
      "metadata": {
        "id": "YsFMyhC32c28",
        "colab_type": "code",
        "colab": {}
      },
      "cell_type": "code",
      "source": [
        "\n",
        "def model_autoencoder():\n",
        "  \n",
        "  input_img  = Input(shape = (8,128,128,1))  #channel last\n",
        "  \n",
        "  x = Conv3D(filters = 32, kernel_size = (3,3,3),strides = (1,1,1) , padding ='same' , kernel_initializer = 'glorot_uniform')(input_img)\n",
        "  x = BatchNormalization(axis = 4)(x)\n",
        "  x = Activation('relu')(x)\n",
        "  x = MaxPooling3D(pool_size = (2,2,2), strides = (2,2,2))(x)\n",
        "  print(\"layer one conv \" + str(x.shape))\n",
        "  \n",
        "  x = Conv3D(filters = 48, kernel_size = (3,3,3),strides = (1,1,1) , padding ='same' , kernel_initializer = 'glorot_uniform')(x)\n",
        "  x = BatchNormalization(axis = 4)(x)\n",
        "  x = Activation('relu')(x)\n",
        "  x = MaxPooling3D(pool_size = (2,2,2), strides = (2,2,2))(x)\n",
        "  print(\"layer two conv \" + str(x.shape))\n",
        "  \n",
        " \n",
        "  x = Conv3D(filters = 64, kernel_size = (3,3,3),strides = (1,1,1) , padding ='same' , kernel_initializer = 'glorot_uniform')(x)\n",
        "  x = BatchNormalization(axis = 4)(x)\n",
        "  x = Activation('relu')(x)\n",
        "  x = MaxPooling3D(pool_size = (2,2,2), strides = (2,2,2), padding= 'same')(x)\n",
        "  print(\"layer three conv \" + str(x.shape))\n",
        "  \n",
        "  x = Conv3D(filters = 64, kernel_size = (3,3,3),strides = (1,1,1) , padding ='same' , kernel_initializer = 'glorot_uniform')(x)\n",
        "  x = BatchNormalization(axis = 4)(x)\n",
        "  x = Activation('relu')(x)\n",
        "  encoded = MaxPooling3D(pool_size = (1,1,1), strides = (1,1,1))(x)\n",
        "  print(\"layer four conv \" + str(encoded.shape))\n",
        "  \n",
        "  \n",
        "  ## decoder branch\n",
        "  \n",
        "  x = Conv3D(filters = 48, kernel_size = (3,3,3),strides = (1,1,1) , padding ='same' , kernel_initializer = 'glorot_uniform')(encoded)\n",
        "  x = UpSampling3D(size = (2,2,2))(x)\n",
        "  x = BatchNormalization(axis = 4)(x)\n",
        "  x = Activation('relu')(x)\n",
        "  print(\"layer one deconv \" + str(x.shape))\n",
        " \n",
        "  x = Conv3D(filters = 32, kernel_size = (3,3,3),strides = (1,1,1) , padding ='same' , kernel_initializer = 'glorot_uniform')(x)\n",
        "  x = UpSampling3D(size = (2,2,2))(x)\n",
        "  x = BatchNormalization(axis = 4)(x)\n",
        "  x = Activation('relu')(x)\n",
        "  print(\"layer two deconv \" + str(x.shape))\n",
        "  \n",
        "  x = Conv3D(filters = 32, kernel_size = (3,3,3),strides = (1,1,1) , padding ='same' , kernel_initializer = 'glorot_uniform')(x)\n",
        "  x = UpSampling3D(size = (2,2,2))(x)\n",
        "  x = BatchNormalization(axis = 4)(x)\n",
        "  x = Activation('relu')(x)\n",
        "  print(\"layer three deconv \" + str(x.shape))\n",
        "  decoded = Conv3D(filters = 1, kernel_size = (3,3,3), strides = (1,1,1), padding = 'same', activation = 'sigmoid')(x)\n",
        "  print(\"output\" + str(decoded.shape))\n",
        "\n",
        "  \n",
        "  \n",
        "  autoencoder = Model(input_img, decoded)\n",
        "  \n",
        "  return autoencoder\n",
        "  "
      ],
      "execution_count": 0,
      "outputs": []
    },
    {
      "metadata": {
        "id": "ZZ1yBJ2F0H-4",
        "colab_type": "code",
        "colab": {}
      },
      "cell_type": "code",
      "source": [
        "os.chdir('SpatioAE')\n",
        "!pwd\n",
        "!git config --global user.email \"charmiemawela02@gmail.com\"\n",
        "!git config --global user.name \"MChamith\"\n",
        "!git add hyper_cuboid.npy\n",
        "!git commit -m \"hyper cuboid\"\n",
        "!git push origin master\n",
        "!pwd\n",
        "os.chdir('/content')  \n",
        "!pwd\n"
      ],
      "execution_count": 0,
      "outputs": []
    },
    {
      "metadata": {
        "id": "CpE59IPNQvQt",
        "colab_type": "code",
        "colab": {
          "base_uri": "https://localhost:8080/",
          "height": 593
        },
        "outputId": "e3335624-a0f1-4656-a35d-537d1f499af1"
      },
      "cell_type": "code",
      "source": [
        "# create_training_set()\n",
        "# input_imgs = np.load('training_data.npy')\n",
        "# create_cuboid(input_imgs)\n",
        "img_cuboids = np.load('hyper_cuboid_win8.npy')\n",
        "print(\"hyper cuboid loaded\")\n",
        "# img_cuboids = img_cuboids.astype('float32') / 255.\n",
        "print(\"data normalized\")\n",
        "K.clear_session()\n",
        "autoencoder = model_autoencoder()\n",
        "autoencoder.compile(optimizer = 'adam' , loss = 'mean_squared_error', metrics = ['acc'])\n",
        "print(\"model compiled\")\n",
        "autoencoder.fit(img_cuboids,img_cuboids,  epochs =10, batch_size= 32)\n",
        "print(\"model fitted\")\n",
        "  \n",
        "    "
      ],
      "execution_count": 4,
      "outputs": [
        {
          "output_type": "stream",
          "text": [
            "hyper cuboid loaded\n",
            "data normalized\n",
            "layer one conv (?, 4, 64, 64, 32)\n",
            "layer two conv (?, 2, 32, 32, 48)\n",
            "layer three conv (?, 1, 16, 16, 64)\n",
            "layer four conv (?, 1, 16, 16, 64)\n",
            "layer one deconv (?, 2, 32, 32, 48)\n",
            "layer two deconv (?, 4, 64, 64, 32)\n",
            "layer three deconv (?, 8, 128, 128, 32)\n",
            "output(?, 8, 128, 128, 1)\n",
            "model compiled\n",
            "Epoch 1/10\n",
            "6793/6793 [==============================] - 385s 57ms/step - loss: 0.0074 - acc: 1.4824e-05\n",
            "Epoch 2/10\n",
            "6793/6793 [==============================] - 374s 55ms/step - loss: 0.0050 - acc: 1.6024e-05\n",
            "Epoch 3/10\n",
            "6793/6793 [==============================] - 374s 55ms/step - loss: 0.0043 - acc: 1.7720e-05\n",
            "Epoch 4/10\n",
            "6793/6793 [==============================] - 374s 55ms/step - loss: 0.0039 - acc: 1.8995e-05\n",
            "Epoch 5/10\n",
            "6793/6793 [==============================] - 374s 55ms/step - loss: 0.0036 - acc: 1.9964e-05\n",
            "Epoch 6/10\n",
            "6793/6793 [==============================] - 375s 55ms/step - loss: 0.0034 - acc: 2.0579e-05\n",
            "Epoch 7/10\n",
            "6793/6793 [==============================] - 375s 55ms/step - loss: 0.0032 - acc: 2.1220e-05\n",
            "Epoch 8/10\n",
            "6793/6793 [==============================] - 374s 55ms/step - loss: 0.0031 - acc: 2.1630e-05\n",
            "Epoch 9/10\n",
            "6793/6793 [==============================] - 375s 55ms/step - loss: 0.0030 - acc: 2.1902e-05\n",
            "Epoch 10/10\n",
            "6793/6793 [==============================] - 374s 55ms/step - loss: 0.0029 - acc: 2.2156e-05\n",
            "model fitted\n"
          ],
          "name": "stdout"
        }
      ]
    },
    {
      "metadata": {
        "id": "OrdqrXMykFAe",
        "colab_type": "code",
        "colab": {}
      },
      "cell_type": "code",
      "source": [
        "autoencoder.save('3d_autoencoder_model_iter1_win4.h5')\n",
        "\n"
      ],
      "execution_count": 0,
      "outputs": []
    },
    {
      "metadata": {
        "id": "NaA9i6zvE-3s",
        "colab_type": "code",
        "colab": {}
      },
      "cell_type": "code",
      "source": [
        "autoencoder.save('drive/Data/3d_autoencoder_model_iter1_win8.h5')"
      ],
      "execution_count": 0,
      "outputs": []
    },
    {
      "metadata": {
        "id": "ah5JPNWxZJQU",
        "colab_type": "code",
        "colab": {}
      },
      "cell_type": "code",
      "source": [
        "from keras.models import load_model \n",
        "K.clear_session()\n",
        "autoencoder_model = load_model('3d_autoencoder_model_iter3_win8.h5')\n",
        "# autoencoder_model.summary()"
      ],
      "execution_count": 0,
      "outputs": []
    },
    {
      "metadata": {
        "id": "H6_d7qELADw-",
        "colab_type": "code",
        "colab": {}
      },
      "cell_type": "code",
      "source": [
        "autoencoder_model.save('drive/Data/3d_autoencoder_model_iter3_win8.h5')"
      ],
      "execution_count": 0,
      "outputs": []
    },
    {
      "metadata": {
        "id": "uBntqoBvCdrE",
        "colab_type": "code",
        "colab": {}
      },
      "cell_type": "code",
      "source": [
        "autoencoder_model.compile(optimizer = 'adam' , loss = 'mean_squared_error', metrics = ['acc','mae'])\n",
        "# print(\"model compiled\")\n",
        "# # autoencoder.fit(img_cuboids,img_cuboids,  epochs =10, batch_size= 32)\n",
        "# print(\"model fitted\")"
      ],
      "execution_count": 0,
      "outputs": []
    },
    {
      "metadata": {
        "id": "b72briwEEzw6",
        "colab_type": "code",
        "colab": {
          "base_uri": "https://localhost:8080/",
          "height": 35
        },
        "outputId": "dcf8b464-8230-4ea6-88bf-dbd81e479953"
      },
      "cell_type": "code",
      "source": [
        "print(K.eval(autoencoder_model.optimizer.lr))"
      ],
      "execution_count": 78,
      "outputs": [
        {
          "output_type": "stream",
          "text": [
            "0.001\n"
          ],
          "name": "stdout"
        }
      ]
    },
    {
      "metadata": {
        "id": "lk1NJ1Q8Mmku",
        "colab_type": "code",
        "colab": {
          "base_uri": "https://localhost:8080/",
          "height": 955
        },
        "outputId": "27463399-e04b-4f69-b6fa-78ce6bebfd88"
      },
      "cell_type": "code",
      "source": [
        "from keras.callbacks import Callback\n",
        "from keras.callbacks import ReduceLROnPlateau\n",
        "class LossHistory(Callback):\n",
        "    def on_train_begin(self, logs={}):\n",
        "        self.losses = []\n",
        "\n",
        "    def on_batch_end(self, batch, logs={}):\n",
        "        self.losses.append(logs.get('loss'))\n",
        "        \n",
        "history = LossHistory()  \n",
        "reduce_lr = ReduceLROnPlateau(monitor='loss', factor=0.2,\n",
        "                              patience=3 ,min_lr=0.00001)\n",
        "\n",
        "img_cuboids = np.load('hyper_cuboid_win8.npy')       \n",
        "model_history = autoencoder_model.fit(img_cuboids,img_cuboids,  epochs =25, batch_size=32, callbacks=[history,reduce_lr],validation_split = 0.1)  \n",
        "autoencoder_model.save('3d_autoencoder_model_iter3_win8.h5')\n",
        "autoencoder_model.save('drive/Data/3d_autoencoder_model_win8_iter4.h5')"
      ],
      "execution_count": 12,
      "outputs": [
        {
          "output_type": "stream",
          "text": [
            "Train on 6113 samples, validate on 680 samples\n",
            "Epoch 1/25\n",
            "6113/6113 [==============================] - 371s 61ms/step - loss: 0.0021 - acc: 2.6981e-05 - val_loss: 0.0011 - val_acc: 9.4245e-06\n",
            "Epoch 2/25\n",
            "6113/6113 [==============================] - 364s 59ms/step - loss: 0.0021 - acc: 2.7029e-05 - val_loss: 0.0016 - val_acc: 8.0557e-06\n",
            "Epoch 3/25\n",
            "6113/6113 [==============================] - 364s 59ms/step - loss: 0.0021 - acc: 2.7102e-05 - val_loss: 0.0091 - val_acc: 1.1433e-05\n",
            "Epoch 4/25\n",
            "6113/6113 [==============================] - 364s 59ms/step - loss: 0.0022 - acc: 2.6884e-05 - val_loss: 0.0019 - val_acc: 1.1063e-05\n",
            "Epoch 5/25\n",
            "6113/6113 [==============================] - 364s 59ms/step - loss: 0.0020 - acc: 2.7275e-05 - val_loss: 9.8487e-04 - val_acc: 1.0154e-05\n",
            "Epoch 6/25\n",
            "6113/6113 [==============================] - 364s 59ms/step - loss: 0.0020 - acc: 2.7316e-05 - val_loss: 9.6878e-04 - val_acc: 1.0266e-05\n",
            "Epoch 7/25\n",
            "6113/6113 [==============================] - 364s 59ms/step - loss: 0.0020 - acc: 2.7401e-05 - val_loss: 0.0011 - val_acc: 1.0737e-05\n",
            "Epoch 8/25\n",
            "6113/6113 [==============================] - 363s 59ms/step - loss: 0.0020 - acc: 2.7396e-05 - val_loss: 0.0010 - val_acc: 1.0446e-05\n",
            "Epoch 9/25\n",
            "6113/6113 [==============================] - 364s 59ms/step - loss: 0.0020 - acc: 2.7429e-05 - val_loss: 9.6883e-04 - val_acc: 1.0210e-05\n",
            "Epoch 10/25\n",
            "6113/6113 [==============================] - 363s 59ms/step - loss: 0.0020 - acc: 2.7386e-05 - val_loss: 0.0013 - val_acc: 1.1208e-05\n",
            "Epoch 11/25\n",
            "6113/6113 [==============================] - 363s 59ms/step - loss: 0.0020 - acc: 2.7436e-05 - val_loss: 9.4768e-04 - val_acc: 1.0479e-05\n",
            "Epoch 12/25\n",
            "6113/6113 [==============================] - 364s 59ms/step - loss: 0.0020 - acc: 2.7396e-05 - val_loss: 9.5652e-04 - val_acc: 1.0603e-05\n",
            "Epoch 13/25\n",
            "6113/6113 [==============================] - 364s 59ms/step - loss: 0.0020 - acc: 2.7422e-05 - val_loss: 9.5282e-04 - val_acc: 1.0502e-05\n",
            "Epoch 14/25\n",
            "6113/6113 [==============================] - 363s 59ms/step - loss: 0.0020 - acc: 2.7504e-05 - val_loss: 9.4444e-04 - val_acc: 1.0434e-05\n",
            "Epoch 15/25\n",
            "6113/6113 [==============================] - 364s 59ms/step - loss: 0.0020 - acc: 2.7513e-05 - val_loss: 9.4338e-04 - val_acc: 1.0401e-05\n",
            "Epoch 16/25\n",
            "6113/6113 [==============================] - 363s 59ms/step - loss: 0.0020 - acc: 2.7447e-05 - val_loss: 9.4312e-04 - val_acc: 1.0378e-05\n",
            "Epoch 17/25\n",
            "6113/6113 [==============================] - 364s 59ms/step - loss: 0.0020 - acc: 2.7477e-05 - val_loss: 9.4350e-04 - val_acc: 1.0322e-05\n",
            "Epoch 18/25\n",
            "6113/6113 [==============================] - 364s 60ms/step - loss: 0.0020 - acc: 2.7477e-05 - val_loss: 9.4556e-04 - val_acc: 1.0558e-05\n",
            "Epoch 19/25\n",
            "6113/6113 [==============================] - 363s 59ms/step - loss: 0.0020 - acc: 2.7495e-05 - val_loss: 9.4448e-04 - val_acc: 1.0490e-05\n",
            "Epoch 20/25\n",
            "6113/6113 [==============================] - 363s 59ms/step - loss: 0.0020 - acc: 2.7515e-05 - val_loss: 9.4247e-04 - val_acc: 1.0401e-05\n",
            "Epoch 21/25\n",
            "6113/6113 [==============================] - 364s 59ms/step - loss: 0.0020 - acc: 2.7485e-05 - val_loss: 9.4737e-04 - val_acc: 1.0591e-05\n",
            "Epoch 22/25\n",
            "6113/6113 [==============================] - 363s 59ms/step - loss: 0.0020 - acc: 2.7512e-05 - val_loss: 9.4372e-04 - val_acc: 1.0423e-05\n",
            "Epoch 23/25\n",
            "6113/6113 [==============================] - 363s 59ms/step - loss: 0.0020 - acc: 2.7489e-05 - val_loss: 9.4533e-04 - val_acc: 1.0490e-05\n",
            "Epoch 24/25\n",
            "6113/6113 [==============================] - 364s 59ms/step - loss: 0.0020 - acc: 2.7502e-05 - val_loss: 9.4219e-04 - val_acc: 1.0434e-05\n",
            "Epoch 25/25\n",
            "6113/6113 [==============================] - 363s 59ms/step - loss: 0.0020 - acc: 2.7510e-05 - val_loss: 9.4391e-04 - val_acc: 1.0244e-05\n"
          ],
          "name": "stdout"
        }
      ]
    },
    {
      "metadata": {
        "id": "VFOQ0OHv0zMk",
        "colab_type": "code",
        "colab": {
          "base_uri": "https://localhost:8080/",
          "height": 190
        },
        "outputId": "15bffdc1-b252-48ec-d220-1f94447f42d0"
      },
      "cell_type": "code",
      "source": [
        "autoencoder_model.save('3d_autoencoder_model_iter2.h5')\n"
      ],
      "execution_count": 0,
      "outputs": [
        {
          "output_type": "error",
          "ename": "NameError",
          "evalue": "ignored",
          "traceback": [
            "\u001b[0;31m---------------------------------------------------------------------------\u001b[0m",
            "\u001b[0;31mNameError\u001b[0m                                 Traceback (most recent call last)",
            "\u001b[0;32m<ipython-input-1-306c045e2588>\u001b[0m in \u001b[0;36m<module>\u001b[0;34m()\u001b[0m\n\u001b[0;32m----> 1\u001b[0;31m \u001b[0mautoencoder_model\u001b[0m\u001b[0;34m.\u001b[0m\u001b[0msave\u001b[0m\u001b[0;34m(\u001b[0m\u001b[0;34m'3d_autoencoder_model_iter2.h5'\u001b[0m\u001b[0;34m)\u001b[0m\u001b[0;34m\u001b[0m\u001b[0m\n\u001b[0m\u001b[1;32m      2\u001b[0m \u001b[0mautoencoder_model\u001b[0m\u001b[0;34m.\u001b[0m\u001b[0msummary\u001b[0m\u001b[0;34m(\u001b[0m\u001b[0;34m)\u001b[0m\u001b[0;34m\u001b[0m\u001b[0m\n",
            "\u001b[0;31mNameError\u001b[0m: name 'autoencoder_model' is not defined"
          ]
        }
      ]
    },
    {
      "metadata": {
        "id": "GZ-7OkUc1DGE",
        "colab_type": "code",
        "colab": {
          "base_uri": "https://localhost:8080/",
          "height": 34
        },
        "outputId": "67b4de80-371a-4f7d-85ba-900f12b24535"
      },
      "cell_type": "code",
      "source": [
        "train_loss = np.array(history.losses)\n",
        "# train_loss = train_loss[16965-6785:16965]\n",
        "# train_loss_normed = np.linalg.norm(train_loss)\n",
        "min_ex = min(train_loss)\n",
        "max_ex = max(train_loss)\n",
        "\n",
        "print('minimum loss = ' + str(min_ex) + 'maximum loss= ' + str(max_ex)+ 'train losss = '+str(train_loss.shape))"
      ],
      "execution_count": 0,
      "outputs": [
        {
          "output_type": "stream",
          "text": [
            "minimum loss = 0.0006428565maximum loss= 0.0050993245train losss = (1697,)\n"
          ],
          "name": "stdout"
        }
      ]
    },
    {
      "metadata": {
        "id": "aTSQcBIGHE9f",
        "colab_type": "code",
        "colab": {
          "base_uri": "https://localhost:8080/",
          "height": 1619
        },
        "outputId": "9b7b2f0d-b065-4701-a3c8-dd3d88566bcb"
      },
      "cell_type": "code",
      "source": [
        "get_test_data = create_test_set()\n",
        "test_imgs = np.load('test_data32.npy')\n",
        "test_imgs = test_imgs.astype('float32') / 255.\n",
        "create_test_cuboid(test_imgs)\n",
        "test_cuboid = np.load('test_hyper_cuboid_win8_32.npy')\n",
        "\n",
        "print(test_cuboid.shape)\n",
        "\n",
        "\n"
      ],
      "execution_count": 59,
      "outputs": [
        {
          "output_type": "stream",
          "text": [
            "\n",
            "  0%|          | 0/200 [00:00<?, ?it/s]\u001b[A\n",
            "  6%|▌         | 12/200 [00:00<00:01, 111.86it/s]\u001b[A\n",
            " 11%|█         | 22/200 [00:00<00:01, 107.24it/s]\u001b[A\n",
            " 16%|█▋        | 33/200 [00:00<00:01, 106.20it/s]\u001b[A\n",
            " 22%|██▏       | 44/200 [00:00<00:01, 104.70it/s]\u001b[A\n",
            " 27%|██▋       | 54/200 [00:00<00:01, 100.65it/s]\u001b[A\n",
            " 32%|███▎      | 65/200 [00:00<00:01, 101.54it/s]\u001b[A\n",
            " 38%|███▊      | 76/200 [00:00<00:01, 101.67it/s]\u001b[A\n",
            " 44%|████▎     | 87/200 [00:00<00:01, 102.87it/s]\u001b[A\n",
            " 48%|████▊     | 97/200 [00:00<00:01, 100.94it/s]\u001b[A\n",
            " 54%|█████▎    | 107/200 [00:05<00:13,  7.00it/s]\u001b[A\n",
            " 57%|█████▋    | 114/200 [00:10<00:28,  3.00it/s]\u001b[A\n",
            " 60%|█████▉    | 119/200 [00:14<00:37,  2.13it/s]\u001b[A\n",
            " 62%|██████▏   | 123/200 [00:17<00:41,  1.86it/s]\u001b[A\n",
            " 63%|██████▎   | 126/200 [00:19<00:42,  1.72it/s]\u001b[A\n",
            " 64%|██████▍   | 128/200 [00:21<00:48,  1.48it/s]\u001b[A\n",
            " 65%|██████▌   | 130/200 [00:22<00:45,  1.53it/s]\u001b[A\n",
            " 66%|██████▌   | 131/200 [00:23<00:45,  1.52it/s]\u001b[A\n",
            " 66%|██████▌   | 132/200 [00:24<00:46,  1.47it/s]\u001b[A\n",
            " 66%|██████▋   | 133/200 [00:24<00:44,  1.50it/s]\u001b[A\n",
            " 67%|██████▋   | 134/200 [00:25<00:41,  1.60it/s]\u001b[A\n",
            " 68%|██████▊   | 135/200 [00:25<00:41,  1.57it/s]\u001b[A\n",
            " 68%|██████▊   | 136/200 [00:26<00:43,  1.47it/s]\u001b[A\n",
            " 68%|██████▊   | 137/200 [00:27<00:44,  1.41it/s]\u001b[A\n",
            " 69%|██████▉   | 138/200 [00:28<00:45,  1.37it/s]\u001b[A\n",
            " 70%|██████▉   | 139/200 [00:29<00:46,  1.31it/s]\u001b[A\n",
            " 70%|███████   | 140/200 [00:29<00:48,  1.23it/s]\u001b[A\n",
            " 70%|███████   | 141/200 [00:30<00:42,  1.38it/s]\u001b[A\n",
            " 71%|███████   | 142/200 [00:31<00:43,  1.34it/s]\u001b[A\n",
            " 72%|███████▏  | 143/200 [00:32<00:45,  1.26it/s]\u001b[A\n",
            " 72%|███████▏  | 144/200 [00:33<00:48,  1.16it/s]\u001b[A\n",
            " 72%|███████▎  | 145/200 [00:33<00:44,  1.24it/s]\u001b[A\n",
            " 73%|███████▎  | 146/200 [00:34<00:41,  1.31it/s]\u001b[A\n",
            " 74%|███████▎  | 147/200 [00:35<00:40,  1.30it/s]\u001b[A\n",
            " 74%|███████▍  | 148/200 [00:36<00:40,  1.29it/s]\u001b[A\n",
            " 74%|███████▍  | 149/200 [00:36<00:38,  1.33it/s]\u001b[A\n",
            " 75%|███████▌  | 150/200 [00:37<00:37,  1.32it/s]\u001b[A\n",
            " 76%|███████▌  | 151/200 [00:38<00:37,  1.31it/s]\u001b[A\n",
            " 76%|███████▌  | 152/200 [00:39<00:35,  1.34it/s]\u001b[A\n",
            " 76%|███████▋  | 153/200 [00:39<00:33,  1.39it/s]\u001b[A\n",
            " 77%|███████▋  | 154/200 [00:40<00:33,  1.36it/s]\u001b[A\n",
            " 78%|███████▊  | 155/200 [00:41<00:30,  1.46it/s]\u001b[A\n",
            " 78%|███████▊  | 156/200 [00:41<00:29,  1.51it/s]\u001b[A\n",
            " 78%|███████▊  | 157/200 [00:42<00:28,  1.50it/s]\u001b[A\n",
            " 79%|███████▉  | 158/200 [00:43<00:29,  1.45it/s]\u001b[A\n",
            " 80%|███████▉  | 159/200 [00:43<00:29,  1.39it/s]\u001b[A\n",
            " 80%|████████  | 160/200 [00:44<00:29,  1.36it/s]\u001b[A\n",
            " 80%|████████  | 161/200 [00:45<00:29,  1.33it/s]\u001b[A\n",
            " 81%|████████  | 162/200 [00:46<00:28,  1.31it/s]\u001b[A\n",
            " 82%|████████▏ | 163/200 [00:47<00:29,  1.28it/s]\u001b[A\n",
            " 82%|████████▏ | 164/200 [00:47<00:25,  1.40it/s]\u001b[A\n",
            " 82%|████████▎ | 165/200 [00:48<00:25,  1.35it/s]\u001b[A\n",
            " 83%|████████▎ | 166/200 [00:49<00:23,  1.45it/s]\u001b[A\n",
            " 84%|████████▎ | 167/200 [00:49<00:23,  1.38it/s]\u001b[A\n",
            " 84%|████████▍ | 168/200 [00:50<00:25,  1.28it/s]\u001b[A\n",
            " 84%|████████▍ | 169/200 [00:51<00:25,  1.21it/s]\u001b[A\n",
            " 85%|████████▌ | 170/200 [00:52<00:24,  1.21it/s]\u001b[A\n",
            " 86%|████████▌ | 171/200 [00:53<00:23,  1.21it/s]\u001b[A\n",
            " 86%|████████▌ | 172/200 [00:54<00:22,  1.23it/s]\u001b[A\n",
            " 86%|████████▋ | 173/200 [00:54<00:21,  1.27it/s]\u001b[A\n",
            " 87%|████████▋ | 174/200 [00:55<00:20,  1.26it/s]\u001b[A\n",
            " 88%|████████▊ | 175/200 [00:56<00:19,  1.27it/s]\u001b[A\n",
            " 88%|████████▊ | 176/200 [00:57<00:17,  1.34it/s]\u001b[A\n",
            " 88%|████████▊ | 177/200 [00:57<00:17,  1.31it/s]\u001b[A\n",
            " 89%|████████▉ | 178/200 [00:58<00:17,  1.29it/s]\u001b[A\n",
            " 90%|████████▉ | 179/200 [00:59<00:16,  1.25it/s]\u001b[A\n",
            " 90%|█████████ | 180/200 [01:00<00:15,  1.28it/s]\u001b[A\n",
            " 90%|█████████ | 181/200 [01:01<00:14,  1.27it/s]\u001b[A\n",
            " 91%|█████████ | 182/200 [01:01<00:13,  1.31it/s]\u001b[A\n",
            " 92%|█████████▏| 183/200 [01:02<00:12,  1.35it/s]\u001b[A\n",
            " 92%|█████████▏| 184/200 [01:03<00:11,  1.40it/s]\u001b[A\n",
            " 92%|█████████▎| 185/200 [01:03<00:11,  1.32it/s]\u001b[A\n",
            " 93%|█████████▎| 186/200 [01:04<00:10,  1.38it/s]\u001b[A\n",
            " 94%|█████████▎| 187/200 [01:05<00:09,  1.36it/s]\u001b[A\n",
            " 94%|█████████▍| 188/200 [01:05<00:08,  1.49it/s]\u001b[A\n",
            " 94%|█████████▍| 189/200 [01:06<00:07,  1.44it/s]\u001b[A\n",
            " 95%|█████████▌| 190/200 [01:07<00:07,  1.31it/s]\u001b[A\n",
            " 96%|█████████▌| 191/200 [01:08<00:07,  1.26it/s]\u001b[A\n",
            " 96%|█████████▌| 192/200 [01:09<00:06,  1.33it/s]\u001b[A\n",
            " 96%|█████████▋| 193/200 [01:09<00:05,  1.32it/s]\u001b[A\n",
            " 97%|█████████▋| 194/200 [01:10<00:04,  1.45it/s]\u001b[A\n",
            " 98%|█████████▊| 195/200 [01:11<00:03,  1.47it/s]\u001b[A\n",
            " 98%|█████████▊| 196/200 [01:11<00:02,  1.49it/s]\u001b[A\n",
            " 98%|█████████▊| 197/200 [01:12<00:02,  1.41it/s]\u001b[A\n",
            " 99%|█████████▉| 198/200 [01:13<00:01,  1.46it/s]\u001b[A\n",
            "100%|█████████▉| 199/200 [01:13<00:00,  1.48it/s]\u001b[A\n",
            "100%|██████████| 200/200 [01:14<00:00,  1.53it/s]\u001b[A\n",
            "\u001b[A"
          ],
          "name": "stderr"
        },
        {
          "output_type": "stream",
          "text": [
            "(193, 8, 128, 128, 1)\n"
          ],
          "name": "stdout"
        }
      ]
    },
    {
      "metadata": {
        "id": "Uw3pz12GwE98",
        "colab_type": "code",
        "colab": {}
      },
      "cell_type": "code",
      "source": [
        "for i in range(2):\n",
        "  for j in range(8):\n",
        "    scipy.misc.imsave('drive/Data/testimage'+str(n)+'.png', np.squeeze(test_cuboid[i][j], axis = 2))\n",
        "#   sq_img = np.squeeze(test_cuboid[n][1], axis = 2)\n",
        "#   sq_img = sq_img*255\n",
        "#   sq_img = sq_img.astype('uint8')\n",
        "\n",
        "#   dec_img = np.squeeze(decode_imgs[n][1], axis = 2)\n",
        "#   dec_img = dec_img*255\n",
        "#   dec_img = dec_img.astype('uint8')\n",
        "\n",
        "  \n",
        "#   scipy.misc.imsave('drive/Data/dec'+str(n)+'.png', dec_img)\n",
        "  "
      ],
      "execution_count": 0,
      "outputs": []
    },
    {
      "metadata": {
        "id": "3FtwjpLWiDK3",
        "colab_type": "code",
        "colab": {}
      },
      "cell_type": "code",
      "source": [
        "decode_imgs = autoencoder_model.predict(test_cuboid)"
      ],
      "execution_count": 0,
      "outputs": []
    },
    {
      "metadata": {
        "id": "N-DVJ0-4I1Py",
        "colab_type": "code",
        "colab": {
          "base_uri": "https://localhost:8080/",
          "height": 269
        },
        "outputId": "0f870824-c13d-4f1b-a8fb-dcee64ca979b"
      },
      "cell_type": "code",
      "source": [
        "print(np.squeeze(decode_imgs[1][1]))\n",
        "print(np.squeeze(test_cuboid[1][1]))"
      ],
      "execution_count": 48,
      "outputs": [
        {
          "output_type": "stream",
          "text": [
            "[[0.3665918  0.31407773 0.4027053  ... 0.33415452 0.15355128 0.2725734 ]\n",
            " [0.28767076 0.25165272 0.4176241  ... 0.33526462 0.19010405 0.32217863]\n",
            " [0.3285036  0.36008832 0.26042366 ... 0.3353285  0.29230455 0.4493007 ]\n",
            " ...\n",
            " [0.41672572 0.41849038 0.41418377 ... 0.6470401  0.66060466 0.75101554]\n",
            " [0.43709612 0.44734138 0.4424473  ... 0.6860009  0.67404884 0.7712986 ]\n",
            " [0.439424   0.4661526  0.475611   ... 0.72254467 0.70244664 0.7338248 ]]\n",
            "[[0.34901962 0.30588236 0.3882353  ... 0.31764707 0.16078432 0.26666668]\n",
            " [0.2509804  0.26666668 0.41568628 ... 0.32156864 0.1764706  0.31764707]\n",
            " [0.30980393 0.36862746 0.2627451  ... 0.34117648 0.2784314  0.49803922]\n",
            " ...\n",
            " [0.40784314 0.4        0.40784314 ... 0.654902   0.6627451  0.7137255 ]\n",
            " [0.44705883 0.4627451  0.45490196 ... 0.67058825 0.64705884 0.72156864]\n",
            " [0.4627451  0.4627451  0.4745098  ... 0.69411767 0.6666667  0.7372549 ]]\n"
          ],
          "name": "stdout"
        }
      ]
    },
    {
      "metadata": {
        "id": "AsGATYK79HnP",
        "colab_type": "code",
        "colab": {}
      },
      "cell_type": "code",
      "source": [
        "real_img = np.load('test_data.npy')\n",
        "\tdiff=x1-x2\n",
        "\ta,b,c,d,e=diff.shape\n",
        "\tn_samples=a*b*c*d*e\n",
        "\tsq_diff=diff**2\n",
        "\tSum=sq_diff.sum()\n",
        "\tdist=np.sqrt(Sum)\n",
        "\tmean_dist=dist/n_samples\n",
        "\n",
        "\treturn mean_dist"
      ],
      "execution_count": 0,
      "outputs": []
    },
    {
      "metadata": {
        "id": "IOgtugVD23y7",
        "colab_type": "code",
        "colab": {}
      },
      "cell_type": "code",
      "source": [
        "def calculate_score(input_img, reconstructed_img):\n",
        "  diff = input_img - reconstructed_img\n",
        "  a,b,c=diff.shape\n",
        "  n_samples=a*b*c\n",
        "  sq_diff=diff**2\n",
        "  Sum=sq_diff.sum()\n",
        "  dist=np.sqrt(Sum)\n",
        "  mean_dist=dist/n_samples\n",
        "  return mean_dist\n",
        "  "
      ],
      "execution_count": 0,
      "outputs": []
    },
    {
      "metadata": {
        "id": "Dcv6mNCeZBWW",
        "colab_type": "code",
        "colab": {}
      },
      "cell_type": "code",
      "source": [
        "def calculate_costs(img_size, win_size):\n",
        "  \n",
        "  input_size = img_size+win_size\n",
        "  costs = np.zeros(img_size+win_size-1, dtype= float)\n",
        "#   if img_size+win_size > num_input:\n",
        "#     break\n",
        "    \n",
        "  for i in range(0, img_size):\n",
        "    for k in range(win_size):\n",
        "      temp = np.squeeze(test_cuboid[i][k])-np.squeeze(decode_imgs[i][k])\n",
        "      costs[i+k]= np.linalg.norm(temp)\n",
        "\t\t\t\n",
        "  \n",
        "  np.save('test_costs_win8_iter3_win8_32.npy',costs)\n",
        "  return costs\n",
        "    \n",
        "  \n",
        "  \n",
        "  \n",
        "  "
      ],
      "execution_count": 0,
      "outputs": []
    },
    {
      "metadata": {
        "id": "fW7wqYVX3_wN",
        "colab_type": "code",
        "colab": {}
      },
      "cell_type": "code",
      "source": [
        "def calculate_costs_tset(img_size, win_size):\n",
        "  \n",
        "  input_size = img_size+win_size\n",
        "  costs = np.zeros(img_size+win_size-1, dtype= float)\n",
        "#   if img_size+win_size > num_input:\n",
        "#     break\n",
        "    \n",
        "  for i in range(0, img_size):\n",
        "    for k in range(win_size):\n",
        "#       temp = np.squeeze(test_cuboid[i][k])-np.squeeze(decode_imgs[i][k])\n",
        "      temp = calculate_score(test_cuboid[i][k],decode_imgs[i][k])\n",
        "      costs[i+k]= np.linalg.norm(temp)\n",
        "\t\t\t\n",
        "  \n",
        "  np.save('test_costs_test.npy',costs)\n",
        "  return costs\n",
        "    "
      ],
      "execution_count": 0,
      "outputs": []
    },
    {
      "metadata": {
        "id": "LX2SbSKdiYY-",
        "colab_type": "code",
        "colab": {
          "base_uri": "https://localhost:8080/",
          "height": 34
        },
        "outputId": "8eab56bf-a622-4e73-8ae1-9d21b5f97ff5"
      },
      "cell_type": "code",
      "source": [
        "print(np.linalg.norm(np.squeeze(decode_imgs[1][2])-np.squeeze(test_cuboid[1][2])))"
      ],
      "execution_count": 0,
      "outputs": [
        {
          "output_type": "stream",
          "text": [
            "7.740723\n"
          ],
          "name": "stdout"
        }
      ]
    },
    {
      "metadata": {
        "id": "sIoIMEsGfQ8o",
        "colab_type": "code",
        "colab": {
          "base_uri": "https://localhost:8080/",
          "height": 629
        },
        "outputId": "fc11f86d-a87d-4629-b3ef-c47a5262b3b2"
      },
      "cell_type": "code",
      "source": [
        "calculate_costs(test_cuboid.shape[0],8)\n",
        "cost_val = np.load('test_costs_win8_iter3_win8_32.npy')\n",
        "print(cost_val)\n"
      ],
      "execution_count": 62,
      "outputs": [
        {
          "output_type": "stream",
          "text": [
            "[5.13968801 4.77176142 5.00905561 4.87235069 5.19633389 5.09359264\n",
            " 4.95774126 5.3462553  5.37490892 5.50062943 5.53952265 5.49219275\n",
            " 5.59302092 5.42133617 5.37792063 5.15066624 5.40193272 5.52312326\n",
            " 5.58845377 5.61018467 5.45976734 5.38231945 5.45798254 5.78264809\n",
            " 5.5308938  5.35694504 5.43949413 5.40849733 5.39176846 5.45431137\n",
            " 5.50270796 5.45689344 5.96370411 5.80574036 6.01445866 5.56583595\n",
            " 6.06569386 6.07551384 6.04292202 5.89630938 6.08906507 6.01948261\n",
            " 6.07816839 6.29827213 5.92442942 5.89037943 5.88822174 5.83101416\n",
            " 5.79096842 5.62632895 5.5578742  5.55884171 5.53967524 5.51844835\n",
            " 5.04489183 5.14048576 5.35209894 5.75465775 5.46656322 5.57003355\n",
            " 5.36084366 5.80832338 5.29727888 5.46780586 5.56552029 5.93322945\n",
            " 5.3498435  5.56148243 5.55051756 5.7942028  6.06483316 6.00889492\n",
            " 5.03166962 5.70615911 5.94242811 5.65538597 5.24247265 5.91222239\n",
            " 5.71304512 5.71121693 5.71503067 5.93039513 5.86846018 5.51714993\n",
            " 5.5589819  5.55991411 5.53260183 5.84738111 5.13376522 5.19582605\n",
            " 5.3504467  5.15429974 5.07160044 5.15999889 5.03400278 5.34559774\n",
            " 4.99932337 5.044559   5.14354324 5.27259398 5.39499712 5.59505939\n",
            " 5.90974569 5.7492137  5.73309231 5.84405184 5.84619427 5.81851721\n",
            " 5.9213295  5.98074484 5.5908618  5.63471079 5.84084797 5.82646704\n",
            " 5.93190765 5.90270615 5.78670692 6.21615696 6.30637884 6.28435183\n",
            " 6.23240328 6.08511209 6.01616478 6.15217161 5.98462534 5.95790434\n",
            " 6.11798382 6.04014301 5.90751219 5.83234787 5.90562487 6.16428423\n",
            " 5.74354744 4.9953723  5.12654495 5.12638998 6.04670048 5.28374767\n",
            " 5.34333038 5.29243565 5.46933126 5.37351322 5.34105253 5.37191057\n",
            " 5.38898277 5.493433   5.41876936 5.4109993  5.3540554  5.13396454\n",
            " 5.25076771 5.41109467 5.10757875 5.2126627  4.98844099 4.79068661\n",
            " 4.9379735  5.40801334 5.26622772 5.3909564  5.18188    5.09237862\n",
            " 5.05263519 5.27266979 5.01521301 5.089046   5.27690601 5.47083998\n",
            " 5.16368628 5.94400072 5.73297167 5.62947512 5.66457319 5.77880287\n",
            " 5.93557787 5.7588892  5.73142815 5.74164772 5.63944292 5.56278467\n",
            " 5.71699953 5.82471657 5.59559965 5.7003355  5.43010283 5.62573385\n",
            " 5.81348085 6.06460381 5.54791451 5.57129192 5.63744974 5.8039031\n",
            " 5.57188082 5.67863703 5.92176485 4.80302382 5.93834543 4.68835878\n",
            " 4.82085323 4.8759222 ]\n"
          ],
          "name": "stdout"
        }
      ]
    },
    {
      "metadata": {
        "id": "daCMtk648ijC",
        "colab_type": "code",
        "colab": {}
      },
      "cell_type": "code",
      "source": [
        "print(cost_val)"
      ],
      "execution_count": 0,
      "outputs": []
    },
    {
      "metadata": {
        "id": "DzbEhh2OgobR",
        "colab_type": "code",
        "colab": {}
      },
      "cell_type": "code",
      "source": [
        "cost_val1 = np.load('test_costs_win8_iter2.npy')"
      ],
      "execution_count": 0,
      "outputs": []
    },
    {
      "metadata": {
        "id": "IBvqBf4Z4p9A",
        "colab_type": "code",
        "colab": {
          "base_uri": "https://localhost:8080/",
          "height": 35
        },
        "outputId": "4dbc84da-f19a-4ca5-a102-75572a16a409"
      },
      "cell_type": "code",
      "source": [
        "score = cost_val - min(cost_val)\n",
        "score = 1 - (score/max(score))\n",
        "print('maximum score = ' +str(max(score))+ 'min score = ' + str(min(score)))"
      ],
      "execution_count": 66,
      "outputs": [
        {
          "output_type": "stream",
          "text": [
            "maximum score = 1.0min score = 0.0\n"
          ],
          "name": "stdout"
        }
      ]
    },
    {
      "metadata": {
        "id": "CTCiZGEegvY-",
        "colab_type": "code",
        "colab": {}
      },
      "cell_type": "code",
      "source": [
        "score1 = cost_val1 - min(cost_val1)\n",
        "score1 = 1 - (score1/max(score1)) "
      ],
      "execution_count": 0,
      "outputs": []
    },
    {
      "metadata": {
        "id": "3CwLp55F5FTQ",
        "colab_type": "code",
        "colab": {
          "base_uri": "https://localhost:8080/",
          "height": 629
        },
        "outputId": "62a5f80e-1e1c-4e44-f5b4-5406ab2f43b2"
      },
      "cell_type": "code",
      "source": [
        "print(score)"
      ],
      "execution_count": 64,
      "outputs": [
        {
          "output_type": "stream",
          "text": [
            "[0.9284329  0.98677488 0.94914723 0.97082448 0.91945059 0.93574223\n",
            " 0.95728413 0.89567761 0.89113402 0.87119857 0.86503128 0.87253637\n",
            " 0.85654808 0.88377206 0.89065645 0.92669209 0.88684886 0.86763173\n",
            " 0.85727229 0.85382643 0.87767805 0.88995893 0.87796107 0.82647898\n",
            " 0.86639956 0.89398254 0.88089276 0.88580791 0.88846061 0.8785432\n",
            " 0.87086897 0.87813376 0.797769   0.82281725 0.78972087 0.86085879\n",
            " 0.78159652 0.78003937 0.78520744 0.80845575 0.77789056 0.78892422\n",
            " 0.77961844 0.74471668 0.80399677 0.80939606 0.80973821 0.81880959\n",
            " 0.82515963 0.85126644 0.86212128 0.86196787 0.86500709 0.86837303\n",
            " 0.9434647  0.9283064  0.89475099 0.8309174  0.87660043 0.86019318\n",
            " 0.89336434 0.82240766 0.90344378 0.87640338 0.86090885 0.80260135\n",
            " 0.89510863 0.86154913 0.86328782 0.82464675 0.781733   0.79060311\n",
            " 0.94556134 0.8386078  0.80114272 0.84665888 0.91213438 0.80593243\n",
            " 0.83751589 0.83780579 0.83720104 0.80305079 0.81287179 0.86857892\n",
            " 0.86194564 0.86179782 0.86612871 0.81621429 0.92937208 0.91953112\n",
            " 0.89501298 0.92611593 0.93922952 0.92521221 0.94519137 0.89578188\n",
            " 0.95069047 0.94351747 0.92782158 0.90735806 0.88794864 0.85622484\n",
            " 0.80632516 0.83178066 0.83433702 0.81674221 0.81640249 0.82079123\n",
            " 0.80448832 0.79506685 0.85689045 0.84993734 0.81725025 0.81953062\n",
            " 0.80281095 0.80744142 0.82583537 0.75773765 0.7434312  0.74692401\n",
            " 0.75516147 0.77851738 0.78945033 0.76788378 0.79445152 0.79868866\n",
            " 0.77330492 0.78564811 0.80667933 0.8185981  0.8069786  0.76596309\n",
            " 0.83267915 0.95131699 0.93051699 0.93054157 0.78460829 0.90558942\n",
            " 0.89614141 0.90421177 0.8761615  0.89135533 0.89650261 0.89160946\n",
            " 0.88890233 0.8723397  0.88417908 0.88541118 0.89444075 0.92934047\n",
            " 0.91081904 0.88539606 0.93352445 0.91686134 0.95241608 0.98377392\n",
            " 0.96041869 0.88588466 0.90836755 0.88858937 0.92174254 0.93593473\n",
            " 0.94223683 0.90734603 0.94817085 0.93646319 0.9066743  0.87592227\n",
            " 0.92462751 0.80089335 0.83435615 0.85076756 0.84520207 0.82708871\n",
            " 0.80222896 0.83024642 0.8346009  0.83298039 0.84918696 0.86134263\n",
            " 0.83688884 0.8198082  0.85613917 0.83953125 0.88238194 0.85136081\n",
            " 0.82158984 0.78176937 0.86370059 0.85999364 0.84950302 0.82310858\n",
            " 0.85990026 0.84297197 0.80441929 0.98181761 0.80179011 1.\n",
            " 0.97899041 0.97025814]\n"
          ],
          "name": "stdout"
        }
      ]
    },
    {
      "metadata": {
        "id": "27uyGTNWc61q",
        "colab_type": "code",
        "colab": {
          "base_uri": "https://localhost:8080/",
          "height": 347
        },
        "outputId": "d051d08e-9245-4e11-a2dc-8d1d2d379d59"
      },
      "cell_type": "code",
      "source": [
        "import matplotlib.pyplot as plt\n",
        "# plt.plot(score1)\n",
        "plt.plot(score)\n",
        "# plt.legend(['epoch 47', 'epoch 35'], loc='upper left')\n",
        "plt.show()\n"
      ],
      "execution_count": 67,
      "outputs": [
        {
          "output_type": "display_data",
          "data": {
            "image/png": "[encoded data removed]",
            "text/plain": [
              "<matplotlib.figure.Figure at 0x7f48cafbac88>"
            ]
          },
          "metadata": {
            "tags": []
          }
        }
      ]
    },
    {
      "metadata": {
        "id": "Q7hdos1PS9UW",
        "colab_type": "code",
        "colab": {}
      },
      "cell_type": "code",
      "source": [
        "import matplotlib.pyplot as plt\n",
        "from PIL import Image\n",
        "\n",
        "for n in range(100,125):\n",
        "  sq_img = np.squeeze(test_cuboid[n][1], axis = 2)\n",
        "  sq_img = sq_img*255\n",
        "  sq_img = sq_img.astype('uint8')\n",
        "\n",
        "  dec_img = np.squeeze(decode_imgs[n][1], axis = 2)\n",
        "  dec_img = dec_img*255\n",
        "  dec_img = dec_img.astype('uint8')\n",
        "\n",
        "  scipy.misc.imsave('drive/Data/testimage'+str(n)+'.png', sq_img)\n",
        "  scipy.misc.imsave('drive/Data/dec'+str(n)+'.png', dec_img)\n",
        "\n",
        "\n",
        "# plt.imshow(sq_img)"
      ],
      "execution_count": 0,
      "outputs": []
    },
    {
      "metadata": {
        "id": "kwHY8hK-xENB",
        "colab_type": "code",
        "colab": {
          "base_uri": "https://localhost:8080/",
          "height": 367
        },
        "outputId": "d53d3b70-fb45-4f05-b282-94d363633c94"
      },
      "cell_type": "code",
      "source": [
        "plt.imshow(np.squeeze(decode_imgs[1][1], axis = 2))\n",
        "  "
      ],
      "execution_count": 0,
      "outputs": [
        {
          "output_type": "execute_result",
          "data": {
            "text/plain": [
              "<matplotlib.image.AxesImage at 0x7fc73874b588>"
            ]
          },
          "metadata": {
            "tags": []
          },
          "execution_count": 52
        },
        {
          "output_type": "display_data",
          "data": {
            "image/png": "[encoded data removed]",
            "text/plain": [
              "<matplotlib.figure.Figure at 0x7fc7511c9f60>"
            ]
          },
          "metadata": {
            "tags": []
          }
        }
      ]
    },
    {
      "metadata": {
        "id": "2TIYGRB0f57D",
        "colab_type": "code",
        "colab": {
          "base_uri": "https://localhost:8080/",
          "height": 53
        },
        "outputId": "f2c61b49-6b13-41fe-8c72-32b4640fafab"
      },
      "cell_type": "code",
      "source": [
        "autoencoder_model.evaluate(test_cuboid, test_cuboid)\n"
      ],
      "execution_count": 75,
      "outputs": [
        {
          "output_type": "stream",
          "text": [
            "193/193 [==============================] - 4s 21ms/step\n"
          ],
          "name": "stdout"
        },
        {
          "output_type": "execute_result",
          "data": {
            "text/plain": [
              "[0.00776640931385632, 1.1977754108646373e-05, 0.05647316436075794]"
            ]
          },
          "metadata": {
            "tags": []
          },
          "execution_count": 75
        }
      ]
    },
    {
      "metadata": {
        "id": "awEV6CRBIMaY",
        "colab_type": "text"
      },
      "cell_type": "markdown",
      "source": [
        ""
      ]
    },
    {
      "metadata": {
        "id": "48DhaLLsgQm9",
        "colab_type": "code",
        "colab": {}
      },
      "cell_type": "code",
      "source": [
        "import pydot\n",
        "import graphviz\n",
        "from keras.utils import plot_model\n",
        "plot_model(autoencoder, to_file='model.png',show_shapes=True)"
      ],
      "execution_count": 0,
      "outputs": []
    },
    {
      "metadata": {
        "id": "0TQJNbY3mnoR",
        "colab_type": "code",
        "colab": {
          "base_uri": "https://localhost:8080/",
          "height": 107
        },
        "outputId": "1fa32cd6-75f2-4d9f-91e4-263f19636495"
      },
      "cell_type": "code",
      "source": [
        "!apt-get install -q graphviz"
      ],
      "execution_count": 0,
      "outputs": [
        {
          "output_type": "stream",
          "text": [
            "Reading package lists...\n",
            "Building dependency tree...\n",
            "Reading state information...\n",
            "graphviz is already the newest version (2.38.0-16ubuntu2).\n",
            "0 upgraded, 0 newly installed, 0 to remove and 0 not upgraded.\n"
          ],
          "name": "stdout"
        }
      ]
    },
    {
      "metadata": {
        "id": "OTJG031Wnv1H",
        "colab_type": "code",
        "colab": {}
      },
      "cell_type": "code",
      "source": [
        ""
      ],
      "execution_count": 0,
      "outputs": []
    }
  ]
}