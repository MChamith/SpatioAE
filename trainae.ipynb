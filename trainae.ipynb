{
  "nbformat": 4,
  "nbformat_minor": 0,
  "metadata": {
    "colab": {
      "name": "trainae.ipynb",
      "version": "0.3.2",
      "provenance": [],
      "include_colab_link": true
    },
    "kernelspec": {
      "name": "python3",
      "display_name": "Python 3"
    },
    "accelerator": "GPU"
  },
  "cells": [
    {
      "cell_type": "markdown",
      "metadata": {
        "id": "view-in-github",
        "colab_type": "text"
      },
      "source": [
        "[View in Colaboratory](https://colab.research.google.com/github/MChamith/SpatioAE/blob/master/trainae.ipynb)"
      ]
    },
    {
      "metadata": {
        "id": "ufZ5aF0L1pDy",
        "colab_type": "code",
        "colab": {
          "base_uri": "https://localhost:8080/",
          "height": 143
        },
        "outputId": "68c976ca-3701-4568-d72d-433116c49bf7"
      },
      "cell_type": "code",
      "source": [
        "!git clone https://github.com/MChamith/SpatioAE"
      ],
      "execution_count": 1,
      "outputs": [
        {
          "output_type": "stream",
          "text": [
            "Cloning into 'SpatioAE'...\n",
            "remote: Counting objects: 7091, done.\u001b[K\n",
            "remote: Compressing objects: 100% (15/15), done.\u001b[K\n",
            "remote: Total 7091 (delta 6), reused 0 (delta 0), pack-reused 7076\u001b[K\n",
            "Receiving objects: 100% (7091/7091), 219.96 MiB | 26.30 MiB/s, done.\n",
            "Resolving deltas: 100% (22/22), done.\n",
            "Checking out files: 100% (7204/7204), done.\n"
          ],
          "name": "stdout"
        }
      ]
    },
    {
      "metadata": {
        "id": "vVWGyvWv13fF",
        "colab_type": "code",
        "colab": {
          "base_uri": "https://localhost:8080/",
          "height": 35
        },
        "outputId": "e271fe4b-5a6c-4648-a974-aba70aa4ccfc"
      },
      "cell_type": "code",
      "source": [
        "\n",
        "from keras.layers import Input, Dense, Conv2D, MaxPooling2D, UpSampling2D, Activation, BatchNormalization\n",
        "from keras.models import Model\n",
        "from keras import backend as K\n",
        "import cv2\n",
        "import numpy as np\n",
        "import os\n",
        "from tqdm import tqdm\n",
        "import fnmatch\n",
        "\n",
        "TRAIN_DIR ='SpatioAE/Train'\n",
        "TEST_DIR = 'SpatioAE/Test'\n",
        "IMG_SIZE = 128\n",
        "\n",
        "\n",
        "\n",
        "def create_training_set():\n",
        "  train_data = []\n",
        "  matches = []\n",
        "  for root, dirnames, filenames in tqdm(os.walk(TRAIN_DIR)):\n",
        "    for filename in fnmatch.filter(filenames, \"*.tif\"):\n",
        "      path = os.path.join(root, filename)\n",
        "      img = cv2.resize(cv2.imread(path, cv2.IMREAD_GRAYSCALE),(IMG_SIZE,IMG_SIZE) )\n",
        "      img = np.expand_dims(img, axis = 2)\n",
        "      train_data.append(np.array(img))\n",
        "          \n",
        "  np.save('training_data.npy' , train_data)\n",
        "  \n",
        "  return train_data\n",
        "\n",
        "      \n",
        "    \n",
        "    \n",
        "#   for img in tqdm(os.listdir(TRAIN_DIR)):\n",
        "#     path = os.path.join(TRAIN_DIR, img)\n",
        "#     img = cv2.resize(cv2.imread(path, cv2.IMREAD_GRAYSCALE),(IMG_SIZE,IMG_SIZE) )\n",
        "#     img = np.expand_dims(img, axis = 2)\n",
        "#     train_data.append(np.array(img))\n",
        "    \n",
        "    \n",
        "#   np.save('training_data.npy' , train_data)\n",
        "  \n",
        "#   return train_data\n",
        "\n",
        "\n",
        "def create_test_set():\n",
        "  test_data = []\n",
        "  for img in tqdm(os.listdir(TEST_DIR)):\n",
        "    path = os.path.join(TEST_DIR, img)\n",
        "    img = cv2.resize(cv2.imread(path, cv2.IMREAD_GRAYSCALE),(IMG_SIZE,IMG_SIZE) )\n",
        "    img = np.expand_dims(img, axis = 2)\n",
        "    test_data.append(np.array(img))\n",
        "    \n",
        "    \n",
        "  np.save('test_data.npy' , test_data)\n",
        "  return test_data"
      ],
      "execution_count": 2,
      "outputs": [
        {
          "output_type": "stream",
          "text": [
            "Using TensorFlow backend.\n"
          ],
          "name": "stderr"
        }
      ]
    },
    {
      "metadata": {
        "id": "YsFMyhC32c28",
        "colab_type": "code",
        "colab": {}
      },
      "cell_type": "code",
      "source": [
        "\n",
        "def model_autoencoder():\n",
        "  \n",
        "  input_img  = Input(shape = (128,128,1))  #channel last\n",
        "  \n",
        "  x = Conv2D(filters = 32, kernel_size = (3,3),strides = (1,1) , padding ='same' , kernel_initializer = 'glorot_uniform')(input_img)\n",
        "  x = BatchNormalization(axis = 3)(x)\n",
        "  x = Activation('relu')(x)\n",
        "  x = MaxPooling2D(pool_size = (2,2), strides = (2,2))(x)\n",
        "  print(\"layer one conv \" + str(x.shape))\n",
        "  \n",
        "  x = Conv2D(filters = 48, kernel_size = (3,3),strides = (1,1) , padding ='same' , kernel_initializer = 'glorot_uniform')(x)\n",
        "  x = BatchNormalization(axis = 3)(x)\n",
        "  x = Activation('relu')(x)\n",
        "  x = MaxPooling2D(pool_size = (2,2), strides = (2,2))(x)\n",
        "  print(\"layer two conv \" + str(x.shape))\n",
        "  \n",
        " \n",
        "  x = Conv2D(filters = 64, kernel_size = (3,3),strides = (1,1) , padding ='same' , kernel_initializer = 'glorot_uniform')(x)\n",
        "  x = BatchNormalization(axis = 3)(x)\n",
        "  x = Activation('relu')(x)\n",
        "  x = MaxPooling2D(pool_size = (2,2), strides = (2,2))(x)\n",
        "  print(\"layer three conv \" + str(x.shape))\n",
        "  \n",
        "  x = Conv2D(filters = 64, kernel_size = (3,3),strides = (1,1) , padding ='same' , kernel_initializer = 'glorot_uniform')(x)\n",
        "  x = BatchNormalization(axis = 3)(x)\n",
        "  x = Activation('relu')(x)\n",
        "  encoded = MaxPooling2D(pool_size = (1,1), strides = (1,1))(x)\n",
        "  print(\"layer four conv \" + str(encoded.shape))\n",
        "  \n",
        "  \n",
        "  ## decoder branch\n",
        "  \n",
        "  x = Conv2D(filters = 48, kernel_size = (3,3),strides = (1,1) , padding ='same' , kernel_initializer = 'glorot_uniform')(encoded)\n",
        "  x = UpSampling2D(size = (2,2))(x)\n",
        "  x = BatchNormalization(axis = 3)(x)\n",
        "  x = Activation('relu')(x)\n",
        "  print(\"layer one deconv \" + str(x.shape))\n",
        " \n",
        "  x = Conv2D(filters = 32, kernel_size = (3,3),strides = (1,1) , padding ='same' , kernel_initializer = 'glorot_uniform')(x)\n",
        "  x = UpSampling2D(size = (2,2))(x)\n",
        "  x = BatchNormalization(axis = 3)(x)\n",
        "  x = Activation('relu')(x)\n",
        "  print(\"layer two deconv \" + str(x.shape))\n",
        "  \n",
        "  x = Conv2D(filters = 32, kernel_size = (3,3),strides = (1,1) , padding ='same' , kernel_initializer = 'glorot_uniform')(x)\n",
        "  x = UpSampling2D(size = (2,2))(x)\n",
        "  x = BatchNormalization(axis = 3)(x)\n",
        "  x = Activation('relu')(x)\n",
        "  print(\"layer three deconv \" + str(x.shape))\n",
        "  decoded = Conv2D(filters = 1, kernel_size = (3,3), strides = (1,1), padding = 'same', activation = 'sigmoid')(x)\n",
        "  print(\"output\" + str(decoded.shape))\n",
        "\n",
        "  \n",
        "  \n",
        "  autoencoder = Model(input_img, decoded)\n",
        "  \n",
        "  return autoencoder\n",
        "  "
      ],
      "execution_count": 0,
      "outputs": []
    },
    {
      "metadata": {
        "id": "CpE59IPNQvQt",
        "colab_type": "code",
        "colab": {}
      },
      "cell_type": "code",
      "source": [
        "get_data = create_training_set()\n",
        "input_imgs = np.load('training_data.npy')\n",
        "input_imgs = input_imgs.astype('float32') / 255.\n",
        "print(input_imgs.shape)\n",
        "K.clear_session()\n",
        "autoencoder = model_autoencoder()\n",
        "autoencoder.compile(optimizer = 'adam' , loss = 'mean_squared_error')\n",
        "\n",
        "autoencoder.fit(input_imgs,input_imgs,  epochs =50, batch_size= 100)\n",
        "  \n",
        "    "
      ],
      "execution_count": 0,
      "outputs": []
    },
    {
      "metadata": {
        "id": "_ZXDm8xgoz8a",
        "colab_type": "code",
        "colab": {
          "base_uri": "https://localhost:8080/",
          "height": 899
        },
        "outputId": "4e35dbf7-7c2b-41ac-81b1-3e4d573d8d10"
      },
      "cell_type": "code",
      "source": [
        "import matplotlib.pyplot as plt\n",
        "\n",
        "print(input_imgs[1])"
      ],
      "execution_count": 51,
      "outputs": [
        {
          "output_type": "stream",
          "text": [
            "[[[0.35686275]\n",
            "  [0.31764707]\n",
            "  [0.4117647 ]\n",
            "  ...\n",
            "  [0.33333334]\n",
            "  [0.16862746]\n",
            "  [0.23529412]]\n",
            "\n",
            " [[0.3019608 ]\n",
            "  [0.30980393]\n",
            "  [0.43137255]\n",
            "  ...\n",
            "  [0.34509805]\n",
            "  [0.21568628]\n",
            "  [0.25490198]]\n",
            "\n",
            " [[0.34509805]\n",
            "  [0.38039216]\n",
            "  [0.34509805]\n",
            "  ...\n",
            "  [0.34901962]\n",
            "  [0.28235295]\n",
            "  [0.32156864]]\n",
            "\n",
            " ...\n",
            "\n",
            " [[0.41960785]\n",
            "  [0.42745098]\n",
            "  [0.43137255]\n",
            "  ...\n",
            "  [0.64705884]\n",
            "  [0.6509804 ]\n",
            "  [0.68235296]]\n",
            "\n",
            " [[0.4392157 ]\n",
            "  [0.4509804 ]\n",
            "  [0.45882353]\n",
            "  ...\n",
            "  [0.65882355]\n",
            "  [0.64705884]\n",
            "  [0.6784314 ]]\n",
            "\n",
            " [[0.45490196]\n",
            "  [0.47058824]\n",
            "  [0.47058824]\n",
            "  ...\n",
            "  [0.6784314 ]\n",
            "  [0.65882355]\n",
            "  [0.6862745 ]]]\n"
          ],
          "name": "stdout"
        }
      ]
    },
    {
      "metadata": {
        "id": "aTSQcBIGHE9f",
        "colab_type": "code",
        "colab": {}
      },
      "cell_type": "code",
      "source": [
        "get_test_data = create_test_set()\n",
        "test_imgs = np.load('test_data.npy')\n",
        "test_imgs = input_imgs.astype('float32') / 255.\n",
        "print(input_imgs.shape)\n",
        "\n",
        "decode_imgs = autoencoder.predict(test_imgs)"
      ],
      "execution_count": 0,
      "outputs": []
    }
  ]
}