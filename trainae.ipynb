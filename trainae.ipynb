{
  "nbformat": 4,
  "nbformat_minor": 0,
  "metadata": {
    "colab": {
      "name": "trainae.ipynb",
      "version": "0.3.2",
      "provenance": [],
      "toc_visible": true,
      "include_colab_link": true
    },
    "kernelspec": {
      "name": "python3",
      "display_name": "Python 3"
    },
    "accelerator": "GPU"
  },
  "cells": [
    {
      "cell_type": "markdown",
      "metadata": {
        "id": "view-in-github",
        "colab_type": "text"
      },
      "source": [
        "[View in Colaboratory](https://colab.research.google.com/github/TharinduMalith/SpatioAE/blob/master/trainae.ipynb)"
      ]
    },
    {
      "metadata": {
        "id": "ufZ5aF0L1pDy",
        "colab_type": "code",
        "colab": {
          "base_uri": "https://localhost:8080/",
          "height": 138
        },
        "outputId": "f0b49760-5693-47ba-a2ab-fcce49239e8a"
      },
      "cell_type": "code",
      "source": [
        "!git clone https://github.com/MChamith/SpatioAE"
      ],
      "execution_count": 1,
      "outputs": [
        {
          "output_type": "stream",
          "text": [
            "Cloning into 'SpatioAE'...\n",
            "remote: Counting objects: 7165, done.\u001b[K\n",
            "remote: Compressing objects: 100% (21/21), done.\u001b[K\n",
            "remote: Total 7165 (delta 11), reused 6 (delta 2), pack-reused 7142\u001b[K\n",
            "Receiving objects: 100% (7165/7165), 275.44 MiB | 28.40 MiB/s, done.\n",
            "Resolving deltas: 100% (65/65), done.\n",
            "Checking out files: 100% (7205/7205), done.\n"
          ],
          "name": "stdout"
        }
      ]
    },
    {
      "metadata": {
        "id": "0kSjtgFoq61V",
        "colab_type": "code",
        "colab": {
          "base_uri": "https://localhost:8080/",
          "height": 244
        },
        "outputId": "e9c36b34-c202-44f1-ceba-f6b2afb8e3b4"
      },
      "cell_type": "code",
      "source": [
        "import os\n",
        "os.chdir('SpatioAE')\n",
        "!pwd\n",
        "!git pull https://github.com/MChamith/SpatioAE\n",
        "os.chdir('/content')  \n",
        "!pwd"
      ],
      "execution_count": 0,
      "outputs": [
        {
          "output_type": "error",
          "ename": "FileNotFoundError",
          "evalue": "ignored",
          "traceback": [
            "\u001b[0;31m---------------------------------------------------------------------------\u001b[0m",
            "\u001b[0;31mFileNotFoundError\u001b[0m                         Traceback (most recent call last)",
            "\u001b[0;32m<ipython-input-12-e6fcf3aac035>\u001b[0m in \u001b[0;36m<module>\u001b[0;34m()\u001b[0m\n\u001b[1;32m      1\u001b[0m \u001b[0;32mimport\u001b[0m \u001b[0mos\u001b[0m\u001b[0;34m\u001b[0m\u001b[0m\n\u001b[0;32m----> 2\u001b[0;31m \u001b[0mos\u001b[0m\u001b[0;34m.\u001b[0m\u001b[0mchdir\u001b[0m\u001b[0;34m(\u001b[0m\u001b[0;34m'SpatioAE'\u001b[0m\u001b[0;34m)\u001b[0m\u001b[0;34m\u001b[0m\u001b[0m\n\u001b[0m\u001b[1;32m      3\u001b[0m \u001b[0mget_ipython\u001b[0m\u001b[0;34m(\u001b[0m\u001b[0;34m)\u001b[0m\u001b[0;34m.\u001b[0m\u001b[0msystem\u001b[0m\u001b[0;34m(\u001b[0m\u001b[0;34m'pwd'\u001b[0m\u001b[0;34m)\u001b[0m\u001b[0;34m\u001b[0m\u001b[0m\n\u001b[1;32m      4\u001b[0m \u001b[0mget_ipython\u001b[0m\u001b[0;34m(\u001b[0m\u001b[0;34m)\u001b[0m\u001b[0;34m.\u001b[0m\u001b[0msystem\u001b[0m\u001b[0;34m(\u001b[0m\u001b[0;34m'git pull https://github.com/MChamith/SpatioAE'\u001b[0m\u001b[0;34m)\u001b[0m\u001b[0;34m\u001b[0m\u001b[0m\n\u001b[1;32m      5\u001b[0m \u001b[0mos\u001b[0m\u001b[0;34m.\u001b[0m\u001b[0mchdir\u001b[0m\u001b[0;34m(\u001b[0m\u001b[0;34m'/content'\u001b[0m\u001b[0;34m)\u001b[0m\u001b[0;34m\u001b[0m\u001b[0m\n",
            "\u001b[0;31mFileNotFoundError\u001b[0m: [Errno 2] No such file or directory: 'SpatioAE'"
          ]
        }
      ]
    },
    {
      "metadata": {
        "id": "qSCjpWxsZX0p",
        "colab_type": "code",
        "colab": {
          "base_uri": "https://localhost:8080/",
          "height": 2404
        },
        "outputId": "b7c3c71b-3dd7-4c8b-e88a-dac1d093ba0e"
      },
      "cell_type": "code",
      "source": [
        "!apt-get install -y -qq software-properties-common python-software-properties module-init-tools\n",
        "!add-apt-repository -y ppa:alessandro-strada/ppa 2>&1 > /dev/null\n",
        "!apt-get update -qq 2>&1 > /dev/null\n",
        "!apt-get -y install -qq google-drive-ocamlfuse fuse\n",
        "from google.colab import auth\n",
        "auth.authenticate_user()\n",
        "from oauth2client.client import GoogleCredentials\n",
        "creds = GoogleCredentials.get_application_default()\n",
        "import getpass\n",
        "!google-drive-ocamlfuse -headless -id={creds.client_id} -secret={creds.client_secret} < /dev/null 2>&1 | grep URL\n",
        "vcode = getpass.getpass()\n",
        "!echo {vcode} | google-drive-ocamlfuse -headless -id={creds.client_id} -secret={creds.client_secret}"
      ],
      "execution_count": 2,
      "outputs": [
        {
          "output_type": "stream",
          "text": [
            "Preconfiguring packages ...\n",
            "Selecting previously unselected package cron.\n",
            "(Reading database ... 18408 files and directories currently installed.)\n",
            "Preparing to unpack .../00-cron_3.0pl1-128ubuntu5_amd64.deb ...\n",
            "Unpacking cron (3.0pl1-128ubuntu5) ...\n",
            "Selecting previously unselected package libapparmor1:amd64.\n",
            "Preparing to unpack .../01-libapparmor1_2.11.0-2ubuntu17.1_amd64.deb ...\n",
            "Unpacking libapparmor1:amd64 (2.11.0-2ubuntu17.1) ...\n",
            "Selecting previously unselected package libdbus-1-3:amd64.\n",
            "Preparing to unpack .../02-libdbus-1-3_1.10.22-1ubuntu1_amd64.deb ...\n",
            "Unpacking libdbus-1-3:amd64 (1.10.22-1ubuntu1) ...\n",
            "Selecting previously unselected package dbus.\n",
            "Preparing to unpack .../03-dbus_1.10.22-1ubuntu1_amd64.deb ...\n",
            "Unpacking dbus (1.10.22-1ubuntu1) ...\n",
            "Selecting previously unselected package dirmngr.\n",
            "Preparing to unpack .../04-dirmngr_2.1.15-1ubuntu8.1_amd64.deb ...\n",
            "Unpacking dirmngr (2.1.15-1ubuntu8.1) ...\n",
            "Selecting previously unselected package distro-info-data.\n",
            "Preparing to unpack .../05-distro-info-data_0.36ubuntu0.2_all.deb ...\n",
            "Unpacking distro-info-data (0.36ubuntu0.2) ...\n",
            "Selecting previously unselected package libkmod2:amd64.\n",
            "Preparing to unpack .../06-libkmod2_24-1ubuntu2_amd64.deb ...\n",
            "Unpacking libkmod2:amd64 (24-1ubuntu2) ...\n",
            "Selecting previously unselected package kmod.\n",
            "Preparing to unpack .../07-kmod_24-1ubuntu2_amd64.deb ...\n",
            "Unpacking kmod (24-1ubuntu2) ...\n",
            "Selecting previously unselected package lsb-release.\n",
            "Preparing to unpack .../08-lsb-release_9.20160110ubuntu5_all.deb ...\n",
            "Unpacking lsb-release (9.20160110ubuntu5) ...\n",
            "Selecting previously unselected package libgirepository-1.0-1:amd64.\n",
            "Preparing to unpack .../09-libgirepository-1.0-1_1.54.1-1_amd64.deb ...\n",
            "Unpacking libgirepository-1.0-1:amd64 (1.54.1-1) ...\n",
            "Selecting previously unselected package gir1.2-glib-2.0:amd64.\n",
            "Preparing to unpack .../10-gir1.2-glib-2.0_1.54.1-1_amd64.deb ...\n",
            "Unpacking gir1.2-glib-2.0:amd64 (1.54.1-1) ...\n",
            "Selecting previously unselected package iso-codes.\n",
            "Preparing to unpack .../11-iso-codes_3.75-1_all.deb ...\n",
            "Unpacking iso-codes (3.75-1) ...\n",
            "Selecting previously unselected package libdbus-glib-1-2:amd64.\n",
            "Preparing to unpack .../12-libdbus-glib-1-2_0.108-2_amd64.deb ...\n",
            "Unpacking libdbus-glib-1-2:amd64 (0.108-2) ...\n",
            "Selecting previously unselected package python-apt-common.\n",
            "Preparing to unpack .../13-python-apt-common_1.4.0~beta3build2_all.deb ...\n",
            "Unpacking python-apt-common (1.4.0~beta3build2) ...\n",
            "Selecting previously unselected package python3-apt.\n",
            "Preparing to unpack .../14-python3-apt_1.4.0~beta3build2_amd64.deb ...\n",
            "Unpacking python3-apt (1.4.0~beta3build2) ...\n",
            "Selecting previously unselected package python3-dbus.\n",
            "Preparing to unpack .../15-python3-dbus_1.2.4-1build3_amd64.deb ...\n",
            "Unpacking python3-dbus (1.2.4-1build3) ...\n",
            "Selecting previously unselected package python3-gi.\n",
            "Preparing to unpack .../16-python3-gi_3.24.1-2build1_amd64.deb ...\n",
            "Unpacking python3-gi (3.24.1-2build1) ...\n",
            "Selecting previously unselected package module-init-tools.\n",
            "Preparing to unpack .../17-module-init-tools_24-1ubuntu2_all.deb ...\n",
            "Unpacking module-init-tools (24-1ubuntu2) ...\n",
            "Selecting previously unselected package python-apt.\n",
            "Preparing to unpack .../18-python-apt_1.4.0~beta3build2_amd64.deb ...\n",
            "Unpacking python-apt (1.4.0~beta3build2) ...\n",
            "Selecting previously unselected package python-pycurl.\n",
            "Preparing to unpack .../19-python-pycurl_7.43.0-2build2_amd64.deb ...\n",
            "Unpacking python-pycurl (7.43.0-2build2) ...\n",
            "Selecting previously unselected package python-software-properties.\n",
            "Preparing to unpack .../20-python-software-properties_0.96.24.17_all.deb ...\n",
            "Unpacking python-software-properties (0.96.24.17) ...\n",
            "Selecting previously unselected package python3-software-properties.\n",
            "Preparing to unpack .../21-python3-software-properties_0.96.24.17_all.deb ...\n",
            "Unpacking python3-software-properties (0.96.24.17) ...\n",
            "Selecting previously unselected package software-properties-common.\n",
            "Preparing to unpack .../22-software-properties-common_0.96.24.17_all.deb ...\n",
            "Unpacking software-properties-common (0.96.24.17) ...\n",
            "Selecting previously unselected package unattended-upgrades.\n",
            "Preparing to unpack .../23-unattended-upgrades_0.98ubuntu1.1_all.deb ...\n",
            "Unpacking unattended-upgrades (0.98ubuntu1.1) ...\n",
            "Setting up python-apt-common (1.4.0~beta3build2) ...\n",
            "Setting up python3-apt (1.4.0~beta3build2) ...\n",
            "Setting up iso-codes (3.75-1) ...\n",
            "Setting up distro-info-data (0.36ubuntu0.2) ...\n",
            "Setting up python-pycurl (7.43.0-2build2) ...\n",
            "Setting up lsb-release (9.20160110ubuntu5) ...\n",
            "Setting up libgirepository-1.0-1:amd64 (1.54.1-1) ...\n",
            "Setting up libkmod2:amd64 (24-1ubuntu2) ...\n",
            "Setting up gir1.2-glib-2.0:amd64 (1.54.1-1) ...\n",
            "Processing triggers for libc-bin (2.26-0ubuntu2.1) ...\n",
            "Setting up libapparmor1:amd64 (2.11.0-2ubuntu17.1) ...\n",
            "Setting up unattended-upgrades (0.98ubuntu1.1) ...\n",
            "\n",
            "Creating config file /etc/apt/apt.conf.d/20auto-upgrades with new version\n",
            "\n",
            "Creating config file /etc/apt/apt.conf.d/50unattended-upgrades with new version\n",
            "invoke-rc.d: could not determine current runlevel\n",
            "invoke-rc.d: policy-rc.d denied execution of start.\n",
            "Setting up dirmngr (2.1.15-1ubuntu8.1) ...\n",
            "Setting up cron (3.0pl1-128ubuntu5) ...\n",
            "Adding group `crontab' (GID 102) ...\n",
            "Done.\n",
            "update-rc.d: warning: start and stop actions are no longer supported; falling back to defaults\n",
            "update-rc.d: warning: stop runlevel arguments (1) do not match cron Default-Stop values (none)\n",
            "invoke-rc.d: could not determine current runlevel\n",
            "invoke-rc.d: policy-rc.d denied execution of start.\n",
            "Setting up libdbus-1-3:amd64 (1.10.22-1ubuntu1) ...\n",
            "Setting up kmod (24-1ubuntu2) ...\n",
            "Setting up libdbus-glib-1-2:amd64 (0.108-2) ...\n",
            "Setting up python3-gi (3.24.1-2build1) ...\n",
            "Setting up module-init-tools (24-1ubuntu2) ...\n",
            "Setting up python3-software-properties (0.96.24.17) ...\n",
            "Setting up dbus (1.10.22-1ubuntu1) ...\n",
            "Setting up python-apt (1.4.0~beta3build2) ...\n",
            "Setting up python3-dbus (1.2.4-1build3) ...\n",
            "Setting up python-software-properties (0.96.24.17) ...\n",
            "Setting up software-properties-common (0.96.24.17) ...\n",
            "Processing triggers for libc-bin (2.26-0ubuntu2.1) ...\n",
            "Processing triggers for dbus (1.10.22-1ubuntu1) ...\n",
            "gpg: keybox '/tmp/tmpkrvwdy8k/pubring.gpg' created\n",
            "gpg: /tmp/tmpkrvwdy8k/trustdb.gpg: trustdb created\n",
            "gpg: key AD5F235DF639B041: public key \"Launchpad PPA for Alessandro Strada\" imported\n",
            "gpg: Total number processed: 1\n",
            "gpg:               imported: 1\n",
            "Warning: apt-key output should not be parsed (stdout is not a terminal)\n",
            "Selecting previously unselected package libfuse2:amd64.\n",
            "(Reading database ... 19816 files and directories currently installed.)\n",
            "Preparing to unpack .../libfuse2_2.9.7-1ubuntu1_amd64.deb ...\n",
            "Unpacking libfuse2:amd64 (2.9.7-1ubuntu1) ...\n",
            "Selecting previously unselected package fuse.\n",
            "Preparing to unpack .../fuse_2.9.7-1ubuntu1_amd64.deb ...\n",
            "Unpacking fuse (2.9.7-1ubuntu1) ...\n",
            "Selecting previously unselected package google-drive-ocamlfuse.\n",
            "Preparing to unpack .../google-drive-ocamlfuse_0.6.21-0ubuntu2_amd64.deb ...\n",
            "Unpacking google-drive-ocamlfuse (0.6.21-0ubuntu2) ...\n",
            "Setting up libfuse2:amd64 (2.9.7-1ubuntu1) ...\n",
            "Processing triggers for libc-bin (2.26-0ubuntu2.1) ...\n",
            "Setting up fuse (2.9.7-1ubuntu1) ...\n",
            "Setting up google-drive-ocamlfuse (0.6.21-0ubuntu2) ...\n",
            "Please, open the following URL in a web browser: https://accounts.google.com/o/oauth2/auth?client_id=32555940559.apps.googleusercontent.com&redirect_uri=urn%3Aietf%3Awg%3Aoauth%3A2.0%3Aoob&scope=https%3A%2F%2Fwww.googleapis.com%2Fauth%2Fdrive&response_type=code&access_type=offline&approval_prompt=force\n",
            "··········\n",
            "Please, open the following URL in a web browser: https://accounts.google.com/o/oauth2/auth?client_id=32555940559.apps.googleusercontent.com&redirect_uri=urn%3Aietf%3Awg%3Aoauth%3A2.0%3Aoob&scope=https%3A%2F%2Fwww.googleapis.com%2Fauth%2Fdrive&response_type=code&access_type=offline&approval_prompt=force\n",
            "Please enter the verification code: Access token retrieved correctly.\n"
          ],
          "name": "stdout"
        }
      ]
    },
    {
      "metadata": {
        "id": "Aa0Cs6imaTpA",
        "colab_type": "code",
        "colab": {}
      },
      "cell_type": "code",
      "source": [
        "!mkdir -p drive\n",
        "!google-drive-ocamlfuse drive"
      ],
      "execution_count": 0,
      "outputs": []
    },
    {
      "metadata": {
        "id": "L4LP_pvcWXyC",
        "colab_type": "code",
        "colab": {
          "base_uri": "https://localhost:8080/",
          "height": 34
        },
        "outputId": "23515d80-32da-4989-ed33-cdfee14679e9"
      },
      "cell_type": "code",
      "source": [
        "\n",
        "from keras.layers import Input, Dense, Conv3D, MaxPooling3D, UpSampling3D, Activation, BatchNormalization\n",
        "from keras.models import Model\n",
        "from keras.preprocessing import image\n",
        "from keras import backend as K\n",
        "import cv2\n",
        "import numpy as np\n",
        "import os\n",
        "from tqdm import tqdm\n",
        "import fnmatch\n",
        "import scipy.misc\n",
        "from keras.models import load_model"
      ],
      "execution_count": 4,
      "outputs": [
        {
          "output_type": "stream",
          "text": [
            "Using TensorFlow backend.\n"
          ],
          "name": "stderr"
        }
      ]
    },
    {
      "metadata": {
        "id": "vVWGyvWv13fF",
        "colab_type": "code",
        "colab": {}
      },
      "cell_type": "code",
      "source": [
        "\n",
        "from keras.layers import Input, Dense, Conv3D, MaxPooling3D, UpSampling3D, Activation, BatchNormalization\n",
        "from keras.models import Model\n",
        "from keras.preprocessing import image\n",
        "from keras import backend as K\n",
        "import cv2\n",
        "import numpy as np\n",
        "import os\n",
        "from tqdm import tqdm\n",
        "import fnmatch\n",
        "import scipy.misc\n",
        "from keras.models import load_model\n",
        "\n",
        "TRAIN_DIR ='SpatioAE/Train'\n",
        "TEST_DIR = 'SpatioAE/Test'\n",
        "IMG_SIZE = 128\n",
        "\n",
        "\n",
        "\n",
        "def create_training_set():\n",
        "  train_data = []\n",
        "  matches = []\n",
        "  for root, dirnames, filenames in tqdm(os.walk(TRAIN_DIR)):\n",
        "    for filename in fnmatch.filter(filenames, \"*.tif\"):\n",
        "      path = os.path.join(root, filename)\n",
        "      img = image.load_img(path, target_size=(128,128), grayscale = True)\n",
        "      img_array = image.img_to_array(img)\n",
        "#       print(\"img array size is \" + str(img_array.shape))\n",
        "#       img = cv2.resize(cv2.imread(path, cv2.IMREAD_GRAYSCALE),(IMG_SIZE,IMG_SIZE) )\n",
        "#       img_array = np.expand_dims(img_array, axis = 2)\n",
        "      train_data.append(np.array(img_array))\n",
        "          \n",
        "  np.save('training_data.npy' , train_data)\n",
        "  \n",
        "  return train_data\n",
        "\n",
        "      \n",
        "    \n",
        "    \n",
        "#   for img in tqdm(os.listdir(TRAIN_DIR)):\n",
        "#     path = os.path.join(TRAIN_DIR, img)\n",
        "#     img = cv2.resize(cv2.imread(path, cv2.IMREAD_GRAYSCALE),(IMG_SIZE,IMG_SIZE) )\n",
        "#     img = np.expand_dims(img, axis = 2)\n",
        "#     train_data.append(np.array(img))\n",
        "    \n",
        "    \n",
        "#   np.save('training_data.npy' , train_data)\n",
        "  \n",
        "#   return train_data\n",
        "\n",
        "\n",
        "def create_test_set():\n",
        "  test_data = []\n",
        "  for img in tqdm(os.listdir(TEST_DIR)):\n",
        "    path = os.path.join(TEST_DIR, img)\n",
        "    img = image.load_img(path, target_size=(128,128), grayscale = True)\n",
        "    img_array =image.img_to_array(img)\n",
        "    \n",
        "#     img = cv2.resize(cv2.imread(path, cv2.IMREAD_GRAYSCALE),(IMG_SIZE,IMG_SIZE) )\n",
        "#     img = np.expand_dims(img, axis = 2)\n",
        "    test_data.append(np.array(img_array))\n",
        "    \n",
        "    \n",
        "  np.save('test_data.npy' , test_data)\n",
        "  return test_data"
      ],
      "execution_count": 0,
      "outputs": []
    },
    {
      "metadata": {
        "id": "m8BDl7HwQVqk",
        "colab_type": "code",
        "colab": {}
      },
      "cell_type": "code",
      "source": [
        "def create_cuboid(input_imgs):\n",
        "  \n",
        "  win_size = 4\n",
        "  m = input_imgs.shape[0]\n",
        "  h = input_imgs.shape[1]\n",
        "  w = input_imgs.shape[2]\n",
        "  c = input_imgs.shape[3]\n",
        "  \n",
        "  a = []                                    # a python list to hold the windows\n",
        "  for i in range(0, input_imgs.shape[0]-win_size+1):\n",
        "    window = input_imgs[i:i+win_size,:,:,:].reshape((-1,h,w,c)) # each individual window\n",
        "    a.append(window)\n",
        "    print('i = ' + str(i))\n",
        "   \n",
        "#   cuboid = np.hstack(a)\n",
        "  np.save('hyper_cuboid_win4.npy' , a)\n",
        "  return a\n",
        "\n",
        "  \n",
        "  "
      ],
      "execution_count": 0,
      "outputs": []
    },
    {
      "metadata": {
        "id": "m4sTP0uiHbPh",
        "colab_type": "code",
        "colab": {}
      },
      "cell_type": "code",
      "source": [
        "def create_test_cuboid(input_imgs):\n",
        "  \n",
        "  win_size = 4\n",
        "  m = input_imgs.shape[0]\n",
        "  h = input_imgs.shape[1]\n",
        "  w = input_imgs.shape[2]\n",
        "  c = input_imgs.shape[3]\n",
        "  \n",
        "  t = []                                    # a python list to hold the windows\n",
        "  for i in range(0, input_imgs.shape[0]-win_size+1):\n",
        "    window = input_imgs[i:i+win_size,:,:,:].reshape((-1,h,w,c)) # each individual window\n",
        "    t.append(window)\n",
        "   \n",
        "#   cuboid = np.hstack(a)\n",
        "  np.save('test_hyper_cuboid_win4.npy' , t)\n",
        "  return t"
      ],
      "execution_count": 0,
      "outputs": []
    },
    {
      "metadata": {
        "id": "M0XdRt3hT87K",
        "colab_type": "code",
        "colab": {}
      },
      "cell_type": "code",
      "source": [
        "create_training_set()\n",
        "print('started')\n",
        "input_data = np.load('training_data.npy')\n",
        "print('training data loaded')\n",
        "input_data = input_data.astype('float32') / 255\n",
        "print('data normalized')\n",
        "create_cuboid(input_data)\n",
        "print('cuboid created')\n",
        "img_cuboids = np.load('hyper_cuboid_win4.npy')\n",
        "print(img_cuboids.shape)\n"
      ],
      "execution_count": 0,
      "outputs": []
    },
    {
      "metadata": {
        "id": "cerYwI2RFlLo",
        "colab_type": "code",
        "colab": {}
      },
      "cell_type": "code",
      "source": [
        "input_data = np.load('drive/Data/training_data.npy')"
      ],
      "execution_count": 0,
      "outputs": []
    },
    {
      "metadata": {
        "id": "R1iWpPv5FVUD",
        "colab_type": "code",
        "colab": {}
      },
      "cell_type": "code",
      "source": [
        "\n",
        "input_data = input_data.astype('float32') / 255.\n",
        "create_cuboid(input_data)"
      ],
      "execution_count": 0,
      "outputs": []
    },
    {
      "metadata": {
        "id": "5HzwbnaFFj7q",
        "colab_type": "code",
        "colab": {}
      },
      "cell_type": "code",
      "source": [
        ""
      ],
      "execution_count": 0,
      "outputs": []
    },
    {
      "metadata": {
        "id": "-vpC1FzX0dlx",
        "colab_type": "code",
        "colab": {
          "base_uri": "https://localhost:8080/",
          "height": 34
        },
        "outputId": "fbd25ffa-0bb7-480d-83d1-79ac1def3717"
      },
      "cell_type": "code",
      "source": [
        "print(img_cuboids.shape)"
      ],
      "execution_count": 18,
      "outputs": [
        {
          "output_type": "stream",
          "text": [
            "(6785, 16, 128, 128, 1)\n"
          ],
          "name": "stdout"
        }
      ]
    },
    {
      "metadata": {
        "id": "dU-0lJYruBC2",
        "colab_type": "code",
        "colab": {
          "base_uri": "https://localhost:8080/",
          "height": 34
        },
        "outputId": "c9042828-f6c7-4cb8-bcc7-59996520fa9e"
      },
      "cell_type": "code",
      "source": [
        "print(img_cuboids.shape)"
      ],
      "execution_count": 9,
      "outputs": [
        {
          "output_type": "stream",
          "text": [
            "(6785, 16, 128, 128, 1)\n"
          ],
          "name": "stdout"
        }
      ]
    },
    {
      "metadata": {
        "id": "YsFMyhC32c28",
        "colab_type": "code",
        "colab": {}
      },
      "cell_type": "code",
      "source": [
        "\n",
        "def model_autoencoder():\n",
        "  \n",
        "  input_img  = Input(shape = (4,128,128,1))  #channel last\n",
        "  \n",
        "  x = Conv3D(filters = 32, kernel_size = (3,3,3),strides = (1,1,1) , padding ='same' , kernel_initializer = 'glorot_uniform')(input_img)\n",
        "  x = BatchNormalization(axis = 4)(x)\n",
        "  x = Activation('relu')(x)\n",
        "  x = MaxPooling3D(pool_size = (2,2,2), strides = (2,2,2))(x)\n",
        "  print(\"layer one conv \" + str(x.shape))\n",
        "  \n",
        "  x = Conv3D(filters = 48, kernel_size = (3,3,3),strides = (1,1,1) , padding ='same' , kernel_initializer = 'glorot_uniform')(x)\n",
        "  x = BatchNormalization(axis = 4)(x)\n",
        "  x = Activation('relu')(x)\n",
        "  x = MaxPooling3D(pool_size = (2,2,2), strides = (2,2,2))(x)\n",
        "  print(\"layer two conv \" + str(x.shape))\n",
        "  \n",
        " \n",
        "  x = Conv3D(filters = 64, kernel_size = (3,3,3),strides = (1,1,1) , padding ='same' , kernel_initializer = 'glorot_uniform')(x)\n",
        "  x = BatchNormalization(axis = 4)(x)\n",
        "  x = Activation('relu')(x)\n",
        "  x = MaxPooling3D(pool_size = (1,2,2), strides = (2,2,2), padding= 'same')(x)\n",
        "  print(\"layer three conv \" + str(x.shape))\n",
        "  \n",
        "  x = Conv3D(filters = 64, kernel_size = (3,3,3),strides = (1,1,1) , padding ='same' , kernel_initializer = 'glorot_uniform')(x)\n",
        "  x = BatchNormalization(axis = 4)(x)\n",
        "  x = Activation('relu')(x)\n",
        "  encoded = MaxPooling3D(pool_size = (1,1,1), strides = (1,1,1))(x)\n",
        "  print(\"layer four conv \" + str(encoded.shape))\n",
        "  \n",
        "  \n",
        "  ## decoder branch\n",
        "  \n",
        "  x = Conv3D(filters = 48, kernel_size = (3,3,3),strides = (1,1,1) , padding ='same' , kernel_initializer = 'glorot_uniform')(encoded)\n",
        "  x = UpSampling3D(size = (2,2,2))(x)\n",
        "  x = BatchNormalization(axis = 4)(x)\n",
        "  x = Activation('relu')(x)\n",
        "  print(\"layer one deconv \" + str(x.shape))\n",
        " \n",
        "  x = Conv3D(filters = 32, kernel_size = (3,3,3),strides = (1,1,1) , padding ='same' , kernel_initializer = 'glorot_uniform')(x)\n",
        "  x = UpSampling3D(size = (2,2,2))(x)\n",
        "  x = BatchNormalization(axis = 4)(x)\n",
        "  x = Activation('relu')(x)\n",
        "  print(\"layer two deconv \" + str(x.shape))\n",
        "  \n",
        "  x = Conv3D(filters = 32, kernel_size = (3,3,3),strides = (1,1,1) , padding ='same' , kernel_initializer = 'glorot_uniform')(x)\n",
        "  x = UpSampling3D(size = (1,2,2))(x)\n",
        "  x = BatchNormalization(axis = 4)(x)\n",
        "  x = Activation('relu')(x)\n",
        "  print(\"layer three deconv \" + str(x.shape))\n",
        "  decoded = Conv3D(filters = 1, kernel_size = (3,3,3), strides = (1,1,1), padding = 'same', activation = 'sigmoid')(x)\n",
        "  print(\"output\" + str(decoded.shape))\n",
        "\n",
        "  \n",
        "  \n",
        "  autoencoder = Model(input_img, decoded)\n",
        "  \n",
        "  return autoencoder\n",
        "  "
      ],
      "execution_count": 0,
      "outputs": []
    },
    {
      "metadata": {
        "id": "ZZ1yBJ2F0H-4",
        "colab_type": "code",
        "colab": {}
      },
      "cell_type": "code",
      "source": [
        "os.chdir('SpatioAE')\n",
        "!pwd\n",
        "!git config --global user.email \"charmiemawela02@gmail.com\"\n",
        "!git config --global user.name \"MChamith\"\n",
        "!git add hyper_cuboid.npy\n",
        "!git commit -m \"hyper cuboid\"\n",
        "!git push origin master\n",
        "!pwd\n",
        "os.chdir('/content')  \n",
        "!pwd\n"
      ],
      "execution_count": 0,
      "outputs": []
    },
    {
      "metadata": {
        "id": "CpE59IPNQvQt",
        "colab_type": "code",
        "colab": {
          "base_uri": "https://localhost:8080/",
          "height": 570
        },
        "outputId": "848e0d26-7c79-4694-ae49-da4d92a1d814"
      },
      "cell_type": "code",
      "source": [
        "# create_training_set()\n",
        "# input_imgs = np.load('training_data.npy')\n",
        "# create_cuboid(input_imgs)\n",
        "img_cuboids = np.load('hyper_cuboid_win4.npy')\n",
        "print(\"hyper cuboid loaded\")\n",
        "# img_cuboids = img_cuboids.astype('float32') / 255.\n",
        "print(\"data normalized\")\n",
        "K.clear_session()\n",
        "autoencoder = model_autoencoder()\n",
        "autoencoder.compile(optimizer = 'adam' , loss = 'mean_squared_error')\n",
        "print(\"model compiled\")\n",
        "autoencoder.fit(img_cuboids,img_cuboids,  epochs =10, batch_size= 16)\n",
        "print(\"model fitted\")\n",
        "  \n",
        "    "
      ],
      "execution_count": 14,
      "outputs": [
        {
          "output_type": "stream",
          "text": [
            "hyper cuboid loaded\n",
            "data normalized\n",
            "layer one conv (?, 2, 64, 64, 32)\n",
            "layer two conv (?, 1, 32, 32, 48)\n",
            "layer three conv (?, 1, 16, 16, 64)\n",
            "layer four conv (?, 1, 16, 16, 64)\n",
            "layer one deconv (?, 2, 32, 32, 48)\n",
            "layer two deconv (?, 4, 64, 64, 32)\n",
            "layer three deconv (?, 4, 128, 128, 32)\n",
            "output(?, 4, 128, 128, 1)\n",
            "model compiled\n",
            "Epoch 1/10\n",
            "6797/6797 [==============================] - 233s 34ms/step - loss: 0.0054\n",
            "Epoch 2/10\n",
            "6797/6797 [==============================] - 229s 34ms/step - loss: 0.0034\n",
            "Epoch 3/10\n",
            "6797/6797 [==============================] - 228s 34ms/step - loss: 0.0028\n",
            "Epoch 4/10\n",
            "6797/6797 [==============================] - 227s 33ms/step - loss: 0.0025\n",
            "Epoch 5/10\n",
            "6797/6797 [==============================] - 227s 33ms/step - loss: 0.0023\n",
            "Epoch 6/10\n",
            "6797/6797 [==============================] - 228s 34ms/step - loss: 0.0022\n",
            "Epoch 7/10\n",
            "6797/6797 [==============================] - 228s 34ms/step - loss: 0.0020\n",
            "Epoch 8/10\n",
            "6797/6797 [==============================] - 227s 33ms/step - loss: 0.0019\n",
            "Epoch 9/10\n",
            "6797/6797 [==============================] - 227s 33ms/step - loss: 0.0019\n",
            "Epoch 10/10\n",
            "6797/6797 [==============================] - 228s 34ms/step - loss: 0.0018\n",
            "model fitted\n"
          ],
          "name": "stdout"
        }
      ]
    },
    {
      "metadata": {
        "id": "OrdqrXMykFAe",
        "colab_type": "code",
        "colab": {}
      },
      "cell_type": "code",
      "source": [
        "autoencoder.save('3d_autoencoder_model_iter1_win4.h5')\n",
        "\n"
      ],
      "execution_count": 0,
      "outputs": []
    },
    {
      "metadata": {
        "id": "NaA9i6zvE-3s",
        "colab_type": "code",
        "colab": {}
      },
      "cell_type": "code",
      "source": [
        "autoencoder.save('drive/Data/3d_autoencoder_model_iter1_win4.h5')"
      ],
      "execution_count": 0,
      "outputs": []
    },
    {
      "metadata": {
        "id": "ah5JPNWxZJQU",
        "colab_type": "code",
        "colab": {
          "base_uri": "https://localhost:8080/",
          "height": 1175
        },
        "outputId": "ba1481f5-7996-4f9e-b62f-05b9a9135976"
      },
      "cell_type": "code",
      "source": [
        "from keras.models import load_model \n",
        "autoencoder_model = load_model('3d_autoencoder_model_iter1_win4.h5')\n",
        "autoencoder_model.summary()"
      ],
      "execution_count": 17,
      "outputs": [
        {
          "output_type": "stream",
          "text": [
            "_________________________________________________________________\n",
            "Layer (type)                 Output Shape              Param #   \n",
            "=================================================================\n",
            "input_1 (InputLayer)         (None, 4, 128, 128, 1)    0         \n",
            "_________________________________________________________________\n",
            "conv3d_1 (Conv3D)            (None, 4, 128, 128, 32)   896       \n",
            "_________________________________________________________________\n",
            "batch_normalization_1 (Batch (None, 4, 128, 128, 32)   128       \n",
            "_________________________________________________________________\n",
            "activation_1 (Activation)    (None, 4, 128, 128, 32)   0         \n",
            "_________________________________________________________________\n",
            "max_pooling3d_1 (MaxPooling3 (None, 2, 64, 64, 32)     0         \n",
            "_________________________________________________________________\n",
            "conv3d_2 (Conv3D)            (None, 2, 64, 64, 48)     41520     \n",
            "_________________________________________________________________\n",
            "batch_normalization_2 (Batch (None, 2, 64, 64, 48)     192       \n",
            "_________________________________________________________________\n",
            "activation_2 (Activation)    (None, 2, 64, 64, 48)     0         \n",
            "_________________________________________________________________\n",
            "max_pooling3d_2 (MaxPooling3 (None, 1, 32, 32, 48)     0         \n",
            "_________________________________________________________________\n",
            "conv3d_3 (Conv3D)            (None, 1, 32, 32, 64)     83008     \n",
            "_________________________________________________________________\n",
            "batch_normalization_3 (Batch (None, 1, 32, 32, 64)     256       \n",
            "_________________________________________________________________\n",
            "activation_3 (Activation)    (None, 1, 32, 32, 64)     0         \n",
            "_________________________________________________________________\n",
            "max_pooling3d_3 (MaxPooling3 (None, 1, 16, 16, 64)     0         \n",
            "_________________________________________________________________\n",
            "conv3d_4 (Conv3D)            (None, 1, 16, 16, 64)     110656    \n",
            "_________________________________________________________________\n",
            "batch_normalization_4 (Batch (None, 1, 16, 16, 64)     256       \n",
            "_________________________________________________________________\n",
            "activation_4 (Activation)    (None, 1, 16, 16, 64)     0         \n",
            "_________________________________________________________________\n",
            "max_pooling3d_4 (MaxPooling3 (None, 1, 16, 16, 64)     0         \n",
            "_________________________________________________________________\n",
            "conv3d_5 (Conv3D)            (None, 1, 16, 16, 48)     82992     \n",
            "_________________________________________________________________\n",
            "up_sampling3d_1 (UpSampling3 (None, 2, 32, 32, 48)     0         \n",
            "_________________________________________________________________\n",
            "batch_normalization_5 (Batch (None, 2, 32, 32, 48)     192       \n",
            "_________________________________________________________________\n",
            "activation_5 (Activation)    (None, 2, 32, 32, 48)     0         \n",
            "_________________________________________________________________\n",
            "conv3d_6 (Conv3D)            (None, 2, 32, 32, 32)     41504     \n",
            "_________________________________________________________________\n",
            "up_sampling3d_2 (UpSampling3 (None, 4, 64, 64, 32)     0         \n",
            "_________________________________________________________________\n",
            "batch_normalization_6 (Batch (None, 4, 64, 64, 32)     128       \n",
            "_________________________________________________________________\n",
            "activation_6 (Activation)    (None, 4, 64, 64, 32)     0         \n",
            "_________________________________________________________________\n",
            "conv3d_7 (Conv3D)            (None, 4, 64, 64, 32)     27680     \n",
            "_________________________________________________________________\n",
            "up_sampling3d_3 (UpSampling3 (None, 4, 128, 128, 32)   0         \n",
            "_________________________________________________________________\n",
            "batch_normalization_7 (Batch (None, 4, 128, 128, 32)   128       \n",
            "_________________________________________________________________\n",
            "activation_7 (Activation)    (None, 4, 128, 128, 32)   0         \n",
            "_________________________________________________________________\n",
            "conv3d_8 (Conv3D)            (None, 4, 128, 128, 1)    865       \n",
            "=================================================================\n",
            "Total params: 390,401\n",
            "Trainable params: 389,761\n",
            "Non-trainable params: 640\n",
            "_________________________________________________________________\n"
          ],
          "name": "stdout"
        }
      ]
    },
    {
      "metadata": {
        "id": "b72briwEEzw6",
        "colab_type": "code",
        "colab": {
          "base_uri": "https://localhost:8080/",
          "height": 34
        },
        "outputId": "0a0bd16d-fb6d-460a-a8fb-410351c84451"
      },
      "cell_type": "code",
      "source": [
        "print(img_cuboids.shape)"
      ],
      "execution_count": 63,
      "outputs": [
        {
          "output_type": "stream",
          "text": [
            "(6785, 16, 128, 128, 1)\n"
          ],
          "name": "stdout"
        }
      ]
    },
    {
      "metadata": {
        "id": "lk1NJ1Q8Mmku",
        "colab_type": "code",
        "colab": {
          "base_uri": "https://localhost:8080/",
          "height": 881
        },
        "outputId": "3c8669a4-168f-46f3-d5f1-59a0fefa31c1"
      },
      "cell_type": "code",
      "source": [
        "from keras.callbacks import Callback\n",
        "class LossHistory(Callback):\n",
        "    def on_train_begin(self, logs={}):\n",
        "        self.losses = []\n",
        "\n",
        "    def on_batch_end(self, batch, logs={}):\n",
        "        self.losses.append(logs.get('loss'))\n",
        "        \n",
        "history = LossHistory()        \n",
        "img_cuboids = np.load('hyper_cuboid_win4.npy')       \n",
        "autoencoder_model.fit(img_cuboids,img_cuboids,  epochs =25, batch_size=16, callbacks=[history])  \n",
        "autoencoder_model.save('3d_autoencoder_model_iter2_win4.h5')\n",
        "autoencoder_model.save('drive/Data/3d_autoencoder_model_iter2_win4.h5')"
      ],
      "execution_count": 31,
      "outputs": [
        {
          "output_type": "stream",
          "text": [
            "Epoch 1/25\n",
            "6797/6797 [==============================] - 236s 35ms/step - loss: 0.0018\n",
            "Epoch 2/25\n",
            "6797/6797 [==============================] - 234s 34ms/step - loss: 0.0017\n",
            "Epoch 3/25\n",
            "6797/6797 [==============================] - 238s 35ms/step - loss: 0.0017\n",
            "Epoch 4/25\n",
            "6797/6797 [==============================] - 235s 35ms/step - loss: 0.0016\n",
            "Epoch 5/25\n",
            "6797/6797 [==============================] - 234s 34ms/step - loss: 0.0016\n",
            "Epoch 6/25\n",
            "6797/6797 [==============================] - 234s 34ms/step - loss: 0.0016\n",
            "Epoch 7/25\n",
            "6797/6797 [==============================] - 235s 35ms/step - loss: 0.0016\n",
            "Epoch 8/25\n",
            "6797/6797 [==============================] - 237s 35ms/step - loss: 0.0016\n",
            "Epoch 9/25\n",
            "6797/6797 [==============================] - 234s 34ms/step - loss: 0.0015\n",
            "Epoch 10/25\n",
            "6797/6797 [==============================] - 234s 34ms/step - loss: 0.0015\n",
            "Epoch 11/25\n",
            "6797/6797 [==============================] - 235s 35ms/step - loss: 0.0015\n",
            "Epoch 12/25\n",
            "6797/6797 [==============================] - 235s 35ms/step - loss: 0.0015\n",
            "Epoch 13/25\n",
            "6797/6797 [==============================] - 235s 35ms/step - loss: 0.0015\n",
            "Epoch 14/25\n",
            "6797/6797 [==============================] - 234s 34ms/step - loss: 0.0015\n",
            "Epoch 15/25\n",
            "6797/6797 [==============================] - 236s 35ms/step - loss: 0.0015\n",
            "Epoch 16/25\n",
            "6797/6797 [==============================] - 234s 34ms/step - loss: 0.0014\n",
            "Epoch 17/25\n",
            "6797/6797 [==============================] - 234s 34ms/step - loss: 0.0014\n",
            "Epoch 18/25\n",
            "6797/6797 [==============================] - 235s 35ms/step - loss: 0.0014\n",
            "Epoch 19/25\n",
            "6797/6797 [==============================] - 237s 35ms/step - loss: 0.0014\n",
            "Epoch 20/25\n",
            "6797/6797 [==============================] - 235s 35ms/step - loss: 0.0014\n",
            "Epoch 21/25\n",
            "6797/6797 [==============================] - 233s 34ms/step - loss: 0.0014\n",
            "Epoch 22/25\n",
            "6797/6797 [==============================] - 234s 34ms/step - loss: 0.0014\n",
            "Epoch 23/25\n",
            "6797/6797 [==============================] - 235s 35ms/step - loss: 0.0014\n",
            "Epoch 24/25\n",
            "6797/6797 [==============================] - 235s 35ms/step - loss: 0.0014\n",
            "Epoch 25/25\n",
            "6797/6797 [==============================] - 234s 34ms/step - loss: 0.0014\n"
          ],
          "name": "stdout"
        }
      ]
    },
    {
      "metadata": {
        "id": "VFOQ0OHv0zMk",
        "colab_type": "code",
        "colab": {
          "base_uri": "https://localhost:8080/",
          "height": 190
        },
        "outputId": "15bffdc1-b252-48ec-d220-1f94447f42d0"
      },
      "cell_type": "code",
      "source": [
        "autoencoder_model.save('3d_autoencoder_model_iter2.h5')\n"
      ],
      "execution_count": 0,
      "outputs": [
        {
          "output_type": "error",
          "ename": "NameError",
          "evalue": "ignored",
          "traceback": [
            "\u001b[0;31m---------------------------------------------------------------------------\u001b[0m",
            "\u001b[0;31mNameError\u001b[0m                                 Traceback (most recent call last)",
            "\u001b[0;32m<ipython-input-1-306c045e2588>\u001b[0m in \u001b[0;36m<module>\u001b[0;34m()\u001b[0m\n\u001b[0;32m----> 1\u001b[0;31m \u001b[0mautoencoder_model\u001b[0m\u001b[0;34m.\u001b[0m\u001b[0msave\u001b[0m\u001b[0;34m(\u001b[0m\u001b[0;34m'3d_autoencoder_model_iter2.h5'\u001b[0m\u001b[0;34m)\u001b[0m\u001b[0;34m\u001b[0m\u001b[0m\n\u001b[0m\u001b[1;32m      2\u001b[0m \u001b[0mautoencoder_model\u001b[0m\u001b[0;34m.\u001b[0m\u001b[0msummary\u001b[0m\u001b[0;34m(\u001b[0m\u001b[0;34m)\u001b[0m\u001b[0;34m\u001b[0m\u001b[0m\n",
            "\u001b[0;31mNameError\u001b[0m: name 'autoencoder_model' is not defined"
          ]
        }
      ]
    },
    {
      "metadata": {
        "id": "GZ-7OkUc1DGE",
        "colab_type": "code",
        "colab": {
          "base_uri": "https://localhost:8080/",
          "height": 34
        },
        "outputId": "67b4de80-371a-4f7d-85ba-900f12b24535"
      },
      "cell_type": "code",
      "source": [
        "train_loss = np.array(history.losses)\n",
        "# train_loss = train_loss[16965-6785:16965]\n",
        "# train_loss_normed = np.linalg.norm(train_loss)\n",
        "min_ex = min(train_loss)\n",
        "max_ex = max(train_loss)\n",
        "\n",
        "print('minimum loss = ' + str(min_ex) + 'maximum loss= ' + str(max_ex)+ 'train losss = '+str(train_loss.shape))"
      ],
      "execution_count": 19,
      "outputs": [
        {
          "output_type": "stream",
          "text": [
            "minimum loss = 0.0006428565maximum loss= 0.0050993245train losss = (1697,)\n"
          ],
          "name": "stdout"
        }
      ]
    },
    {
      "metadata": {
        "id": "aTSQcBIGHE9f",
        "colab_type": "code",
        "colab": {
          "base_uri": "https://localhost:8080/",
          "height": 52
        },
        "outputId": "1667a6ea-3152-4594-88ce-ba4076565d5e"
      },
      "cell_type": "code",
      "source": [
        "get_test_data = create_test_set()\n",
        "test_imgs = np.load('test_data.npy')\n",
        "test_imgs = test_imgs.astype('float32') / 255.\n",
        "create_test_cuboid(test_imgs)\n",
        "test_cuboid = np.load('test_hyper_cuboid_win4.npy')\n",
        "\n",
        "print(test_cuboid.shape)\n",
        "\n",
        "\n"
      ],
      "execution_count": 20,
      "outputs": [
        {
          "output_type": "stream",
          "text": [
            "100%|██████████| 200/200 [00:00<00:00, 389.39it/s]\n"
          ],
          "name": "stderr"
        },
        {
          "output_type": "stream",
          "text": [
            "(197, 4, 128, 128, 1)\n"
          ],
          "name": "stdout"
        }
      ]
    },
    {
      "metadata": {
        "id": "3FtwjpLWiDK3",
        "colab_type": "code",
        "colab": {}
      },
      "cell_type": "code",
      "source": [
        "decode_imgs = autoencoder_model.predict(test_cuboid)"
      ],
      "execution_count": 0,
      "outputs": []
    },
    {
      "metadata": {
        "id": "N-DVJ0-4I1Py",
        "colab_type": "code",
        "colab": {
          "base_uri": "https://localhost:8080/",
          "height": 34
        },
        "outputId": "5d032889-8409-4431-de91-f525f4c33032"
      },
      "cell_type": "code",
      "source": [
        "print(decode_imgs.shape)"
      ],
      "execution_count": 22,
      "outputs": [
        {
          "output_type": "stream",
          "text": [
            "(197, 4, 128, 128, 1)\n"
          ],
          "name": "stdout"
        }
      ]
    },
    {
      "metadata": {
        "id": "AsGATYK79HnP",
        "colab_type": "code",
        "colab": {}
      },
      "cell_type": "code",
      "source": [
        "real_img = np.load('test_data.npy')"
      ],
      "execution_count": 0,
      "outputs": []
    },
    {
      "metadata": {
        "id": "Dcv6mNCeZBWW",
        "colab_type": "code",
        "colab": {}
      },
      "cell_type": "code",
      "source": [
        "def calculate_costs(img_size, win_size):\n",
        "  \n",
        "  input_size = img_size+win_size\n",
        "  costs = np.zeros(img_size+win_size-1, dtype= float)\n",
        "#   if img_size+win_size > num_input:\n",
        "#     break\n",
        "    \n",
        "  for i in range(0, img_size):\n",
        "    for k in range(win_size):\n",
        "      temp = np.squeeze(decode_imgs[i][k])-np.squeeze(test_cuboid[1][2])\n",
        "      costs[i+k]= np.linalg.norm(temp)\n",
        "\t\t\t\n",
        "  \n",
        "  np.save('test_costs.npy',costs)\n",
        "  return costs\n",
        "    \n",
        "  \n",
        "  \n",
        "  \n",
        "  "
      ],
      "execution_count": 0,
      "outputs": []
    },
    {
      "metadata": {
        "id": "LX2SbSKdiYY-",
        "colab_type": "code",
        "colab": {
          "base_uri": "https://localhost:8080/",
          "height": 34
        },
        "outputId": "8eab56bf-a622-4e73-8ae1-9d21b5f97ff5"
      },
      "cell_type": "code",
      "source": [
        "print(np.linalg.norm(np.squeeze(decode_imgs[1][2])-np.squeeze(test_cuboid[1][2])))"
      ],
      "execution_count": 49,
      "outputs": [
        {
          "output_type": "stream",
          "text": [
            "7.740723\n"
          ],
          "name": "stdout"
        }
      ]
    },
    {
      "metadata": {
        "id": "sIoIMEsGfQ8o",
        "colab_type": "code",
        "colab": {
          "base_uri": "https://localhost:8080/",
          "height": 605
        },
        "outputId": "ca0df25f-0e88-419d-fd69-c8439869fb9c"
      },
      "cell_type": "code",
      "source": [
        "calculate_costs(test_cuboid.shape[0],4)\n",
        "cost_val = np.load('test_costs.npy')\n",
        "print(cost_val)\n"
      ],
      "execution_count": 28,
      "outputs": [
        {
          "output_type": "stream",
          "text": [
            "[14.81550598 14.38746738 15.55695248  7.03995752 13.36971474 15.72782326\n",
            " 15.62898922 14.73552799 11.38418674 14.5626297  15.15230751 15.62269115\n",
            " 12.45580769 12.40813732 15.89472675 15.03737926 15.48090553 14.53730774\n",
            " 14.93556786 15.09719181 14.3026638  10.19758892 11.49519348 14.29030895\n",
            " 15.32126713 14.90421104 11.51299572 15.40782261 15.34265614 14.60814476\n",
            " 14.91068268 15.1506424  14.97198772 13.07252598  9.03304291 14.39830589\n",
            " 15.20929909  7.30146742 15.67504597 11.83159256 14.97236347 15.93923759\n",
            " 14.87499905 13.27960491 14.5099802  15.24864578 14.99918079 16.22912598\n",
            " 15.95874023 16.2449646  15.71914864 10.51504326 13.91819096 15.28686428\n",
            " 11.36357975 14.61401939 14.82629776 14.27689743 14.37368584  9.53960037\n",
            " 15.50590324 15.82750034 15.22186661 15.6137228  10.2309885  14.9799118\n",
            " 15.76368427 14.33715153 13.51450062 14.84618568 15.54426479 11.58069992\n",
            " 15.827384   12.65304756 15.40196323 15.56344986 15.18065643 13.9101162\n",
            "  8.03422165 14.4392643  13.124547   15.71425438 14.65986538 14.62030411\n",
            " 13.89177799  7.42513084 15.83762836 15.69345284 13.05672264 14.45127392\n",
            " 14.97267246 15.1700182  14.37523174 11.37973595 15.97616768 15.11849213\n",
            " 14.23915482 15.40536976 15.3389225   9.32365704 15.62267876  7.97219849\n",
            " 15.66680336 12.27497482 12.45038986 11.43201065 11.6583786  11.79920769\n",
            " 12.84815216 16.00826263 14.52428722 15.67246819 16.05093002 14.80463505\n",
            " 15.68629456 14.82737446 15.74197483 14.55228424 15.88446522 15.06757164\n",
            " 14.49137688 15.74671364 14.94847202 14.50928402 11.44518471 14.90022469\n",
            " 14.39235592 15.35971928 15.53432083 14.4693079  15.75883865 12.91750336\n",
            " 14.60472679 15.18308163 15.27301979 15.24326515 15.76551151 11.07040024\n",
            " 14.71894932 15.45020294 10.81106281  8.25743198 14.61328411 15.04561424\n",
            "  9.30808926 14.84794998 14.82172012 15.88673115 14.73698044 15.80539608\n",
            " 15.18749332 14.7253828  15.56041908 15.77100468 15.97875786 11.61701775\n",
            " 14.55966949 14.99086475 12.07585812 14.50289917 15.38784218 14.43819046\n",
            " 14.82014084  8.27865791  9.81988716 15.45957088 14.68053913 13.03296852\n",
            " 14.53795433 12.38500309 10.52803326 15.02963448 12.38242817 15.25720024\n",
            " 14.62536716 15.72232246 15.03475475 14.51793289 14.93813801 13.14529896\n",
            " 14.29967022 15.26528072 14.04696178 15.71566486 12.76160908 16.20302391\n",
            " 14.45540714 15.50298309 15.4567461  15.08395958 14.95482731 11.35634136\n",
            " 15.63518333 12.90360737 15.05181789 15.65603733 14.75188255 15.38130474\n",
            " 16.5934906  15.67283058]\n"
          ],
          "name": "stdout"
        }
      ]
    },
    {
      "metadata": {
        "id": "daCMtk648ijC",
        "colab_type": "code",
        "colab": {
          "base_uri": "https://localhost:8080/",
          "height": 605
        },
        "outputId": "2335120d-a8c7-4939-8556-8d61e0a8e93a"
      },
      "cell_type": "code",
      "source": [
        "print(cost_val)"
      ],
      "execution_count": 58,
      "outputs": [
        {
          "output_type": "stream",
          "text": [
            "[10.98891163 15.01766205 14.52577209  7.57727432 15.10706329 10.74244308\n",
            " 12.87235069  9.5606966  15.08488846 15.36161613 13.97982216 14.89676094\n",
            " 14.9264679  14.167202   15.00793743 14.38681984 11.11405182 14.85769367\n",
            " 13.91903114 13.70259094 14.08737183 15.58161449 14.59569073 12.86972523\n",
            " 15.05270863 14.90626526 14.56619644  8.1476202  15.76069736 12.31843567\n",
            " 14.30083942 13.80075455 14.72713852 14.86004448 15.0462532  10.97443771\n",
            " 13.90947628 13.90060043 14.61499405 14.2467823  14.78143597 14.54149628\n",
            " 14.870574   14.96071148 15.91969776 14.33840275 15.3761282  13.33113194\n",
            " 14.60479546 15.04526424 14.46797848 15.18430901 15.08746719 13.72343063\n",
            " 14.96550941 15.1945076  15.11062813 15.34947968 13.1603241  13.62597656\n",
            " 15.9060297  14.65037441 14.85596657 13.46414471 15.2412262  13.91477776\n",
            " 15.63109016 13.58391666 13.45775127 15.30047703 15.36619186 14.95969963\n",
            " 15.75593376 14.69528961 14.83323097 14.7902956  13.97977638  9.30869675\n",
            " 15.43408775 14.73176193 12.77324009 13.50435829 14.36709499  8.0382719\n",
            " 15.04168129 15.65422058 14.54947567 10.7726841  13.95004654 15.3148098\n",
            " 14.6839838  14.86962318 14.9256115  15.09276962 14.47149467 15.06949234\n",
            " 13.68413162 14.37117195 15.42990017 15.28834724 14.59017086 15.14791584\n",
            " 14.8633337  15.12302113 15.20144558 12.77771378 15.30029583 15.16421604\n",
            " 14.87653065 15.84850311 11.95637035 14.91201687 15.24119854 15.44662285\n",
            " 10.60801315  9.5331955  15.0279789  13.15049458 10.23284245 14.65980244\n",
            " 15.22967052 14.90162945 15.39483356 13.87393665 15.44792843 15.35885429\n",
            " 15.49937153 14.57055092 14.88088417 10.20210457 15.11703587 14.64573097\n",
            " 14.71546268 15.10202789 14.49946022 11.99686241 13.22050762 14.92179298\n",
            " 13.44185734 14.94262314 15.21325302 15.21476078 13.48611832 15.0843153\n",
            " 12.43466663 14.6112175   9.75702953 14.04820061 15.61898422 15.73407745\n",
            " 13.84225178 14.37280178 15.255723   14.25567818 14.84257126 14.10986996\n",
            " 14.77268696 13.95852947 14.61853313 15.01526737 13.31871796 14.72894764\n",
            " 15.31664753 14.36296654 14.39663029 14.95076942 14.79896545 14.51680374\n",
            " 14.7953949  14.88109875 15.15854359 15.34098434 13.64961243 15.18671513\n",
            " 14.47953796 15.01738834 14.97431946 14.33019543 15.39707851 14.90664673\n",
            " 13.99249268 15.10726357 15.22510147 15.50927734 14.76976395 12.23622704\n",
            " 13.673419   13.81126118 10.49886036 14.18991852 14.58797169 11.61346817\n",
            " 14.06940842 14.53020287 13.14735508  8.54425621 14.01512623 14.84377766\n",
            "  9.3756628  15.55967426]\n"
          ],
          "name": "stdout"
        }
      ]
    },
    {
      "metadata": {
        "id": "IBvqBf4Z4p9A",
        "colab_type": "code",
        "colab": {
          "base_uri": "https://localhost:8080/",
          "height": 34
        },
        "outputId": "15d1341d-25ab-4f5e-c4c7-abba6e2dabd4"
      },
      "cell_type": "code",
      "source": [
        "\n",
        "score = cost_val - min(cost_val)\n",
        "score = 1 - (score/max(cost_val))\n",
        "print('maximum score = ' +str(max(score))+ 'min score = ' + str(min(score)))"
      ],
      "execution_count": 29,
      "outputs": [
        {
          "output_type": "stream",
          "text": [
            "maximum score = 1.0min score = 0.4242601929154892\n"
          ],
          "name": "stdout"
        }
      ]
    },
    {
      "metadata": {
        "id": "3CwLp55F5FTQ",
        "colab_type": "code",
        "colab": {
          "base_uri": "https://localhost:8080/",
          "height": 605
        },
        "outputId": "fca6760d-fe07-4cc3-eb24-42d08f567e7c"
      },
      "cell_type": "code",
      "source": [
        "print(score)"
      ],
      "execution_count": 30,
      "outputs": [
        {
          "output_type": "stream",
          "text": [
            "[0.53140972 0.55720529 0.48672674 1.         0.61853974 0.47642929\n",
            " 0.48238548 0.53622956 0.73819678 0.5466492  0.51111251 0.48276503\n",
            " 0.67361598 0.67648882 0.46637091 0.51803861 0.49130968 0.54817522\n",
            " 0.52417424 0.51443403 0.56231594 0.80970662 0.73150701 0.5630605\n",
            " 0.50093023 0.52606394 0.73043416 0.49571399 0.49964123 0.54390626\n",
            " 0.52567393 0.51121286 0.52197941 0.6364497  0.87988752 0.55655211\n",
            " 0.50767793 0.98424021 0.47960989 0.71123405 0.52195676 0.46368849\n",
            " 0.52782439 0.62397017 0.5498221  0.50530672 0.52034063 0.44621848\n",
            " 0.46251317 0.44526397 0.47695206 0.79057536 0.58548604 0.5030035\n",
            " 0.73943866 0.54355222 0.53075935 0.56386874 0.55803583 0.84936003\n",
            " 0.48980321 0.47042229 0.50692056 0.4833055  0.80769381 0.52150187\n",
            " 0.47426814 0.56023755 0.60981428 0.52956082 0.48749136 0.726354\n",
            " 0.4704293  0.6617294  0.49606711 0.48633518 0.50940407 0.58597267\n",
            " 0.94008107 0.55408377 0.63331468 0.47724701 0.54078933 0.54317348\n",
            " 0.58707781 0.97678769 0.46981192 0.4785006  0.63740208 0.55336001\n",
            " 0.52193814 0.51004518 0.55794267 0.73846501 0.46146291 0.51315038\n",
            " 0.56614329 0.49586181 0.49986623 0.86237377 0.48276578 0.94381888\n",
            " 0.48010662 0.6845138  0.67394248 0.73531469 0.72167272 0.71318571\n",
            " 0.6499715  0.45952872 0.5489599  0.47976524 0.45695739 0.53206485\n",
            " 0.478932   0.53069447 0.47557645 0.54727267 0.46698932 0.51621908\n",
            " 0.55094323 0.47529086 0.52339657 0.54986406 0.73452077 0.52630418\n",
            " 0.55691068 0.49861292 0.48809063 0.5522732  0.47456015 0.64579208\n",
            " 0.54411224 0.50925792 0.50383783 0.50563098 0.47415802 0.757107\n",
            " 0.53722867 0.49315996 0.77273586 0.92662939 0.54359654 0.51754234\n",
            " 0.86331196 0.52945449 0.53103522 0.46685277 0.53614203 0.47175439\n",
            " 0.50899205 0.53684095 0.48651783 0.47382697 0.46130681 0.72416532\n",
            " 0.5468276  0.52084179 0.69651349 0.55024884 0.49691811 0.55414848\n",
            " 0.5311304  0.92535022 0.83246866 0.49259541 0.53954344 0.63883362\n",
            " 0.54813625 0.67788299 0.78979253 0.51850535 0.67803817 0.50479119\n",
            " 0.54286836 0.47676079 0.51819678 0.54934284 0.52401935 0.63206407\n",
            " 0.56249635 0.50430422 0.57772572 0.47716201 0.65518698 0.44779151\n",
            " 0.55311093 0.48997919 0.49276564 0.51523147 0.52301357 0.73987487\n",
            " 0.48201219 0.64662951 0.51716848 0.48075544 0.53524396 0.49731208\n",
            " 0.42426019 0.4797434 ]\n"
          ],
          "name": "stdout"
        }
      ]
    },
    {
      "metadata": {
        "id": "Q7hdos1PS9UW",
        "colab_type": "code",
        "colab": {}
      },
      "cell_type": "code",
      "source": [
        "import matplotlib.pyplot as plt\n",
        "from PIL import Image\n",
        "\n",
        "for n in range(10):\n",
        "  sq_img = np.squeeze(test_cuboid[n][1], axis = 2)\n",
        "  sq_img = sq_img*255\n",
        "  sq_img = sq_img.astype('uint8')\n",
        "\n",
        "  dec_img = np.squeeze(decode_imgs[n][1], axis = 2)\n",
        "  dec_img = dec_img*255\n",
        "  dec_img = dec_img.astype('uint8')\n",
        "\n",
        "  scipy.misc.imsave('testimage'+str(n)+'.png', sq_img)\n",
        "  scipy.misc.imsave('dec'+str(n)+'.png', dec_img)\n",
        "\n",
        "\n",
        "# plt.imshow(sq_img)"
      ],
      "execution_count": 0,
      "outputs": []
    },
    {
      "metadata": {
        "id": "kwHY8hK-xENB",
        "colab_type": "code",
        "colab": {
          "base_uri": "https://localhost:8080/",
          "height": 367
        },
        "outputId": "d53d3b70-fb45-4f05-b282-94d363633c94"
      },
      "cell_type": "code",
      "source": [
        "plt.imshow(np.squeeze(decode_imgs[1][1], axis = 2))\n",
        "  "
      ],
      "execution_count": 52,
      "outputs": [
        {
          "output_type": "execute_result",
          "data": {
            "text/plain": [
              "<matplotlib.image.AxesImage at 0x7fc73874b588>"
            ]
          },
          "metadata": {
            "tags": []
          },
          "execution_count": 52
        },
        {
          "output_type": "display_data",
          "data": {
            "image/png": "[encoded data removed]",
            "text/plain": [
              "<matplotlib.figure.Figure at 0x7fc7511c9f60>"
            ]
          },
          "metadata": {
            "tags": []
          }
        }
      ]
    },
    {
      "metadata": {
        "id": "2TIYGRB0f57D",
        "colab_type": "code",
        "colab": {
          "base_uri": "https://localhost:8080/",
          "height": 52
        },
        "outputId": "d35111c4-8630-4dfb-988f-43ca3514ab63"
      },
      "cell_type": "code",
      "source": [
        "autoencoder_model.evaluate(test_cuboid, test_cuboid)\n"
      ],
      "execution_count": 50,
      "outputs": [
        {
          "output_type": "stream",
          "text": [
            "185/185 [==============================] - 9s 47ms/step\n"
          ],
          "name": "stdout"
        },
        {
          "output_type": "execute_result",
          "data": {
            "text/plain": [
              "0.003747839407642951"
            ]
          },
          "metadata": {
            "tags": []
          },
          "execution_count": 50
        }
      ]
    },
    {
      "metadata": {
        "id": "awEV6CRBIMaY",
        "colab_type": "text"
      },
      "cell_type": "markdown",
      "source": [
        ""
      ]
    },
    {
      "metadata": {
        "id": "48DhaLLsgQm9",
        "colab_type": "code",
        "colab": {}
      },
      "cell_type": "code",
      "source": [
        "import pydot\n",
        "import graphviz\n",
        "from keras.utils import plot_model\n",
        "plot_model(autoencoder, to_file='model.png',show_shapes=True)"
      ],
      "execution_count": 0,
      "outputs": []
    },
    {
      "metadata": {
        "id": "0TQJNbY3mnoR",
        "colab_type": "code",
        "colab": {
          "base_uri": "https://localhost:8080/",
          "height": 107
        },
        "outputId": "1fa32cd6-75f2-4d9f-91e4-263f19636495"
      },
      "cell_type": "code",
      "source": [
        "!apt-get install -q graphviz"
      ],
      "execution_count": 0,
      "outputs": [
        {
          "output_type": "stream",
          "text": [
            "Reading package lists...\n",
            "Building dependency tree...\n",
            "Reading state information...\n",
            "graphviz is already the newest version (2.38.0-16ubuntu2).\n",
            "0 upgraded, 0 newly installed, 0 to remove and 0 not upgraded.\n"
          ],
          "name": "stdout"
        }
      ]
    },
    {
      "metadata": {
        "id": "OTJG031Wnv1H",
        "colab_type": "code",
        "colab": {}
      },
      "cell_type": "code",
      "source": [
        ""
      ],
      "execution_count": 0,
      "outputs": []
    }
  ]
}