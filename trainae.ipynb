{
  "nbformat": 4,
  "nbformat_minor": 0,
  "metadata": {
    "colab": {
      "name": "trainae.ipynb",
      "version": "0.3.2",
      "provenance": [],
      "toc_visible": true,
      "include_colab_link": true
    },
    "kernelspec": {
      "name": "python3",
      "display_name": "Python 3"
    },
    "accelerator": "GPU"
  },
  "cells": [
    {
      "cell_type": "markdown",
      "metadata": {
        "id": "view-in-github",
        "colab_type": "text"
      },
      "source": [
        "[View in Colaboratory](https://colab.research.google.com/github/MChamith/SpatioAE/blob/master/trainae.ipynb)"
      ]
    },
    {
      "metadata": {
        "id": "ufZ5aF0L1pDy",
        "colab_type": "code",
        "colab": {
          "base_uri": "https://localhost:8080/",
          "height": 143
        },
        "outputId": "aec0ee17-c869-4df7-e80b-b49e520643b0"
      },
      "cell_type": "code",
      "source": [
        "!git clone https://github.com/MChamith/SpatioAE"
      ],
      "execution_count": 1,
      "outputs": [
        {
          "output_type": "stream",
          "text": [
            "Cloning into 'SpatioAE'...\n",
            "remote: Counting objects: 7174, done.\u001b[K\n",
            "remote: Compressing objects: 100% (30/30), done.\u001b[K\n",
            "remote: Total 7174 (delta 16), reused 6 (delta 2), pack-reused 7142\u001b[K\n",
            "Receiving objects: 100% (7174/7174), 275.57 MiB | 29.46 MiB/s, done.\n",
            "Resolving deltas: 100% (70/70), done.\n",
            "Checking out files: 100% (7205/7205), done.\n"
          ],
          "name": "stdout"
        }
      ]
    },
    {
      "metadata": {
        "id": "0kSjtgFoq61V",
        "colab_type": "code",
        "colab": {}
      },
      "cell_type": "code",
      "source": [
        "import os\n",
        "os.chdir('SpatioAE')\n",
        "!pwd\n",
        "!git pull https://github.com/MChamith/SpatioAE\n",
        "os.chdir('/content')  \n",
        "!pwd"
      ],
      "execution_count": 0,
      "outputs": []
    },
    {
      "metadata": {
        "id": "qSCjpWxsZX0p",
        "colab_type": "code",
        "colab": {
          "base_uri": "https://localhost:8080/",
          "height": 2503
        },
        "outputId": "6b5b3ac5-c320-40f2-e7b8-2c12786eb5e1"
      },
      "cell_type": "code",
      "source": [
        "!apt-get install -y -qq software-properties-common python-software-properties module-init-tools\n",
        "!add-apt-repository -y ppa:alessandro-strada/ppa 2>&1 > /dev/null\n",
        "!apt-get update -qq 2>&1 > /dev/null\n",
        "!apt-get -y install -qq google-drive-ocamlfuse fuse\n",
        "from google.colab import auth\n",
        "auth.authenticate_user()\n",
        "from oauth2client.client import GoogleCredentials\n",
        "creds = GoogleCredentials.get_application_default()\n",
        "import getpass\n",
        "!google-drive-ocamlfuse -headless -id={creds.client_id} -secret={creds.client_secret} < /dev/null 2>&1 | grep URL\n",
        "vcode = getpass.getpass()\n",
        "!echo {vcode} | google-drive-ocamlfuse -headless -id={creds.client_id} -secret={creds.client_secret}"
      ],
      "execution_count": 2,
      "outputs": [
        {
          "output_type": "stream",
          "text": [
            "Preconfiguring packages ...\n",
            "Selecting previously unselected package cron.\n",
            "(Reading database ... 18408 files and directories currently installed.)\n",
            "Preparing to unpack .../00-cron_3.0pl1-128ubuntu5_amd64.deb ...\n",
            "Unpacking cron (3.0pl1-128ubuntu5) ...\n",
            "Selecting previously unselected package libapparmor1:amd64.\n",
            "Preparing to unpack .../01-libapparmor1_2.11.0-2ubuntu17.1_amd64.deb ...\n",
            "Unpacking libapparmor1:amd64 (2.11.0-2ubuntu17.1) ...\n",
            "Selecting previously unselected package libdbus-1-3:amd64.\n",
            "Preparing to unpack .../02-libdbus-1-3_1.10.22-1ubuntu1_amd64.deb ...\n",
            "Unpacking libdbus-1-3:amd64 (1.10.22-1ubuntu1) ...\n",
            "Selecting previously unselected package dbus.\n",
            "Preparing to unpack .../03-dbus_1.10.22-1ubuntu1_amd64.deb ...\n",
            "Unpacking dbus (1.10.22-1ubuntu1) ...\n",
            "Selecting previously unselected package dirmngr.\n",
            "Preparing to unpack .../04-dirmngr_2.1.15-1ubuntu8.1_amd64.deb ...\n",
            "Unpacking dirmngr (2.1.15-1ubuntu8.1) ...\n",
            "Selecting previously unselected package distro-info-data.\n",
            "Preparing to unpack .../05-distro-info-data_0.36ubuntu0.2_all.deb ...\n",
            "Unpacking distro-info-data (0.36ubuntu0.2) ...\n",
            "Selecting previously unselected package libkmod2:amd64.\n",
            "Preparing to unpack .../06-libkmod2_24-1ubuntu2_amd64.deb ...\n",
            "Unpacking libkmod2:amd64 (24-1ubuntu2) ...\n",
            "Selecting previously unselected package kmod.\n",
            "Preparing to unpack .../07-kmod_24-1ubuntu2_amd64.deb ...\n",
            "Unpacking kmod (24-1ubuntu2) ...\n",
            "Selecting previously unselected package lsb-release.\n",
            "Preparing to unpack .../08-lsb-release_9.20160110ubuntu5_all.deb ...\n",
            "Unpacking lsb-release (9.20160110ubuntu5) ...\n",
            "Selecting previously unselected package libgirepository-1.0-1:amd64.\n",
            "Preparing to unpack .../09-libgirepository-1.0-1_1.54.1-1_amd64.deb ...\n",
            "Unpacking libgirepository-1.0-1:amd64 (1.54.1-1) ...\n",
            "Selecting previously unselected package gir1.2-glib-2.0:amd64.\n",
            "Preparing to unpack .../10-gir1.2-glib-2.0_1.54.1-1_amd64.deb ...\n",
            "Unpacking gir1.2-glib-2.0:amd64 (1.54.1-1) ...\n",
            "Selecting previously unselected package iso-codes.\n",
            "Preparing to unpack .../11-iso-codes_3.75-1_all.deb ...\n",
            "Unpacking iso-codes (3.75-1) ...\n",
            "Selecting previously unselected package libdbus-glib-1-2:amd64.\n",
            "Preparing to unpack .../12-libdbus-glib-1-2_0.108-2_amd64.deb ...\n",
            "Unpacking libdbus-glib-1-2:amd64 (0.108-2) ...\n",
            "Selecting previously unselected package python-apt-common.\n",
            "Preparing to unpack .../13-python-apt-common_1.4.0~beta3build2_all.deb ...\n",
            "Unpacking python-apt-common (1.4.0~beta3build2) ...\n",
            "Selecting previously unselected package python3-apt.\n",
            "Preparing to unpack .../14-python3-apt_1.4.0~beta3build2_amd64.deb ...\n",
            "Unpacking python3-apt (1.4.0~beta3build2) ...\n",
            "Selecting previously unselected package python3-dbus.\n",
            "Preparing to unpack .../15-python3-dbus_1.2.4-1build3_amd64.deb ...\n",
            "Unpacking python3-dbus (1.2.4-1build3) ...\n",
            "Selecting previously unselected package python3-gi.\n",
            "Preparing to unpack .../16-python3-gi_3.24.1-2build1_amd64.deb ...\n",
            "Unpacking python3-gi (3.24.1-2build1) ...\n",
            "Selecting previously unselected package module-init-tools.\n",
            "Preparing to unpack .../17-module-init-tools_24-1ubuntu2_all.deb ...\n",
            "Unpacking module-init-tools (24-1ubuntu2) ...\n",
            "Selecting previously unselected package python-apt.\n",
            "Preparing to unpack .../18-python-apt_1.4.0~beta3build2_amd64.deb ...\n",
            "Unpacking python-apt (1.4.0~beta3build2) ...\n",
            "Selecting previously unselected package python-pycurl.\n",
            "Preparing to unpack .../19-python-pycurl_7.43.0-2build2_amd64.deb ...\n",
            "Unpacking python-pycurl (7.43.0-2build2) ...\n",
            "Selecting previously unselected package python-software-properties.\n",
            "Preparing to unpack .../20-python-software-properties_0.96.24.17_all.deb ...\n",
            "Unpacking python-software-properties (0.96.24.17) ...\n",
            "Selecting previously unselected package python3-software-properties.\n",
            "Preparing to unpack .../21-python3-software-properties_0.96.24.17_all.deb ...\n",
            "Unpacking python3-software-properties (0.96.24.17) ...\n",
            "Selecting previously unselected package software-properties-common.\n",
            "Preparing to unpack .../22-software-properties-common_0.96.24.17_all.deb ...\n",
            "Unpacking software-properties-common (0.96.24.17) ...\n",
            "Selecting previously unselected package unattended-upgrades.\n",
            "Preparing to unpack .../23-unattended-upgrades_0.98ubuntu1.1_all.deb ...\n",
            "Unpacking unattended-upgrades (0.98ubuntu1.1) ...\n",
            "Setting up python-apt-common (1.4.0~beta3build2) ...\n",
            "Setting up python3-apt (1.4.0~beta3build2) ...\n",
            "Setting up iso-codes (3.75-1) ...\n",
            "Setting up distro-info-data (0.36ubuntu0.2) ...\n",
            "Setting up python-pycurl (7.43.0-2build2) ...\n",
            "Setting up lsb-release (9.20160110ubuntu5) ...\n",
            "Setting up libgirepository-1.0-1:amd64 (1.54.1-1) ...\n",
            "Setting up libkmod2:amd64 (24-1ubuntu2) ...\n",
            "Setting up gir1.2-glib-2.0:amd64 (1.54.1-1) ...\n",
            "Processing triggers for libc-bin (2.26-0ubuntu2.1) ...\n",
            "Setting up libapparmor1:amd64 (2.11.0-2ubuntu17.1) ...\n",
            "Setting up unattended-upgrades (0.98ubuntu1.1) ...\n",
            "\n",
            "Creating config file /etc/apt/apt.conf.d/20auto-upgrades with new version\n",
            "\n",
            "Creating config file /etc/apt/apt.conf.d/50unattended-upgrades with new version\n",
            "invoke-rc.d: could not determine current runlevel\n",
            "invoke-rc.d: policy-rc.d denied execution of start.\n",
            "Setting up dirmngr (2.1.15-1ubuntu8.1) ...\n",
            "Setting up cron (3.0pl1-128ubuntu5) ...\n",
            "Adding group `crontab' (GID 102) ...\n",
            "Done.\n",
            "update-rc.d: warning: start and stop actions are no longer supported; falling back to defaults\n",
            "update-rc.d: warning: stop runlevel arguments (1) do not match cron Default-Stop values (none)\n",
            "invoke-rc.d: could not determine current runlevel\n",
            "invoke-rc.d: policy-rc.d denied execution of start.\n",
            "Setting up libdbus-1-3:amd64 (1.10.22-1ubuntu1) ...\n",
            "Setting up kmod (24-1ubuntu2) ...\n",
            "Setting up libdbus-glib-1-2:amd64 (0.108-2) ...\n",
            "Setting up python3-gi (3.24.1-2build1) ...\n",
            "Setting up module-init-tools (24-1ubuntu2) ...\n",
            "Setting up python3-software-properties (0.96.24.17) ...\n",
            "Setting up dbus (1.10.22-1ubuntu1) ...\n",
            "Setting up python-apt (1.4.0~beta3build2) ...\n",
            "Setting up python3-dbus (1.2.4-1build3) ...\n",
            "Setting up python-software-properties (0.96.24.17) ...\n",
            "Setting up software-properties-common (0.96.24.17) ...\n",
            "Processing triggers for libc-bin (2.26-0ubuntu2.1) ...\n",
            "Processing triggers for dbus (1.10.22-1ubuntu1) ...\n",
            "gpg: keybox '/tmp/tmpz_f3_9k3/pubring.gpg' created\n",
            "gpg: /tmp/tmpz_f3_9k3/trustdb.gpg: trustdb created\n",
            "gpg: key AD5F235DF639B041: public key \"Launchpad PPA for Alessandro Strada\" imported\n",
            "gpg: Total number processed: 1\n",
            "gpg:               imported: 1\n",
            "Warning: apt-key output should not be parsed (stdout is not a terminal)\n",
            "Selecting previously unselected package libfuse2:amd64.\n",
            "(Reading database ... 19816 files and directories currently installed.)\n",
            "Preparing to unpack .../libfuse2_2.9.7-1ubuntu1_amd64.deb ...\n",
            "Unpacking libfuse2:amd64 (2.9.7-1ubuntu1) ...\n",
            "Selecting previously unselected package fuse.\n",
            "Preparing to unpack .../fuse_2.9.7-1ubuntu1_amd64.deb ...\n",
            "Unpacking fuse (2.9.7-1ubuntu1) ...\n",
            "Selecting previously unselected package google-drive-ocamlfuse.\n",
            "Preparing to unpack .../google-drive-ocamlfuse_0.6.21-0ubuntu2_amd64.deb ...\n",
            "Unpacking google-drive-ocamlfuse (0.6.21-0ubuntu2) ...\n",
            "Setting up libfuse2:amd64 (2.9.7-1ubuntu1) ...\n",
            "Processing triggers for libc-bin (2.26-0ubuntu2.1) ...\n",
            "Setting up fuse (2.9.7-1ubuntu1) ...\n",
            "Setting up google-drive-ocamlfuse (0.6.21-0ubuntu2) ...\n",
            "Please, open the following URL in a web browser: https://accounts.google.com/o/oauth2/auth?client_id=32555940559.apps.googleusercontent.com&redirect_uri=urn%3Aietf%3Awg%3Aoauth%3A2.0%3Aoob&scope=https%3A%2F%2Fwww.googleapis.com%2Fauth%2Fdrive&response_type=code&access_type=offline&approval_prompt=force\n",
            "··········\n",
            "Please, open the following URL in a web browser: https://accounts.google.com/o/oauth2/auth?client_id=32555940559.apps.googleusercontent.com&redirect_uri=urn%3Aietf%3Awg%3Aoauth%3A2.0%3Aoob&scope=https%3A%2F%2Fwww.googleapis.com%2Fauth%2Fdrive&response_type=code&access_type=offline&approval_prompt=force\n",
            "Please enter the verification code: Access token retrieved correctly.\n"
          ],
          "name": "stdout"
        }
      ]
    },
    {
      "metadata": {
        "id": "Aa0Cs6imaTpA",
        "colab_type": "code",
        "colab": {}
      },
      "cell_type": "code",
      "source": [
        "!mkdir -p drive\n",
        "!google-drive-ocamlfuse drive"
      ],
      "execution_count": 0,
      "outputs": []
    },
    {
      "metadata": {
        "id": "L4LP_pvcWXyC",
        "colab_type": "code",
        "colab": {
          "base_uri": "https://localhost:8080/",
          "height": 35
        },
        "outputId": "54d0c097-afef-4179-8ea5-828a02864205"
      },
      "cell_type": "code",
      "source": [
        "\n",
        "from keras.layers import Input, Dense, Conv3D, MaxPooling3D, UpSampling3D, Activation, BatchNormalization\n",
        "from keras.models import Model\n",
        "from keras.preprocessing import image\n",
        "from keras import backend as K\n",
        "from keras.optimizers import Adam\n",
        "import cv2\n",
        "import numpy as np\n",
        "import os\n",
        "from tqdm import tqdm\n",
        "import fnmatch\n",
        "import scipy.misc\n",
        "from keras.models import load_model\n",
        "from keras import regularizers"
      ],
      "execution_count": 2,
      "outputs": [
        {
          "output_type": "stream",
          "text": [
            "Using TensorFlow backend.\n"
          ],
          "name": "stderr"
        }
      ]
    },
    {
      "metadata": {
        "id": "vVWGyvWv13fF",
        "colab_type": "code",
        "colab": {}
      },
      "cell_type": "code",
      "source": [
        "\n",
        "from keras.layers import Input, Dense, Conv3D, MaxPooling3D, UpSampling3D, Activation, BatchNormalization\n",
        "from keras.models import Model\n",
        "from keras.preprocessing import image\n",
        "from keras import backend as K\n",
        "import cv2\n",
        "import numpy as np\n",
        "import os\n",
        "from tqdm import tqdm\n",
        "import fnmatch\n",
        "import scipy.misc\n",
        "from keras.models import load_model\n",
        "\n",
        "TRAIN_DIR ='SpatioAE/Train'\n",
        "TEST_DIR = 'drive/Data/datasets/Test032'\n",
        "IMG_SIZE = 128\n",
        "\n",
        "\n",
        "\n",
        "def create_training_set():\n",
        "  train_data = []\n",
        "  matches = []\n",
        "  for root, dirnames, filenames in tqdm(os.walk(TRAIN_DIR)):\n",
        "    for filename in fnmatch.filter(filenames, \"*.tif\"):\n",
        "      path = os.path.join(root, filename)\n",
        "      img = image.load_img(path, target_size=(128,128), grayscale = True)\n",
        "      img_array = image.img_to_array(img)\n",
        "#       print(\"img array size is \" + str(img_array.shape))\n",
        "#       img = cv2.resize(cv2.imread(path, cv2.IMREAD_GRAYSCALE),(IMG_SIZE,IMG_SIZE) )\n",
        "#       img_array = np.expand_dims(img_array, axis = 2)\n",
        "      train_data.append(np.array(img_array))\n",
        "          \n",
        "  np.save('training_data.npy' , train_data)\n",
        "  \n",
        "  return train_data\n",
        "\n",
        "      \n",
        "    \n",
        "    \n",
        "#   for img in tqdm(os.listdir(TRAIN_DIR)):\n",
        "#     path = os.path.join(TRAIN_DIR, img)\n",
        "#     img = cv2.resize(cv2.imread(path, cv2.IMREAD_GRAYSCALE),(IMG_SIZE,IMG_SIZE) )\n",
        "#     img = np.expand_dims(img, axis = 2)\n",
        "#     train_data.append(np.array(img))\n",
        "    \n",
        "    \n",
        "#   np.save('training_data.npy' , train_data)\n",
        "  \n",
        "#   return train_data\n",
        "\n",
        "\n",
        "def create_test_set():\n",
        "  test_data = []\n",
        "  for img in tqdm(os.listdir(TEST_DIR)):\n",
        "    path = os.path.join(TEST_DIR, img)\n",
        "    img = image.load_img(path, target_size=(128,128), grayscale = True)\n",
        "    img_array =image.img_to_array(img)\n",
        "    \n",
        "#     img = cv2.resize(cv2.imread(path, cv2.IMREAD_GRAYSCALE),(IMG_SIZE,IMG_SIZE) )\n",
        "#     img = np.expand_dims(img, axis = 2)\n",
        "    test_data.append(np.array(img_array))\n",
        "    \n",
        "    \n",
        "  np.save('test_data32.npy' , test_data)\n",
        "  return test_data"
      ],
      "execution_count": 0,
      "outputs": []
    },
    {
      "metadata": {
        "id": "m8BDl7HwQVqk",
        "colab_type": "code",
        "colab": {}
      },
      "cell_type": "code",
      "source": [
        "def create_cuboid(input_imgs):\n",
        "  \n",
        "  win_size = 16\n",
        "  m = input_imgs.shape[0]\n",
        "  h = input_imgs.shape[1]\n",
        "  w = input_imgs.shape[2]\n",
        "  c = input_imgs.shape[3]\n",
        "  \n",
        "  a = []                                    # a python list to hold the windows\n",
        "  for i in range(0, input_imgs.shape[0]-win_size+1):\n",
        "    window = input_imgs[i:i+win_size,:,:,:].reshape((-1,h,w,c)) # each individual window\n",
        "    a.append(window)\n",
        "#     print('i = ' + str(i))\n",
        "   \n",
        "#   cuboid = np.hstack(a)\n",
        "  np.save('hyper_cuboid_win16.npy' , a)\n",
        "  return a\n",
        "\n",
        "  \n",
        "  "
      ],
      "execution_count": 0,
      "outputs": []
    },
    {
      "metadata": {
        "id": "m4sTP0uiHbPh",
        "colab_type": "code",
        "colab": {}
      },
      "cell_type": "code",
      "source": [
        "def create_test_cuboid(input_imgs):\n",
        "  \n",
        "  win_size = 8\n",
        "  m = input_imgs.shape[0]\n",
        "  h = input_imgs.shape[1]\n",
        "  w = input_imgs.shape[2]\n",
        "  c = input_imgs.shape[3]\n",
        "  \n",
        "  t = []                                    # a python list to hold the windows\n",
        "  for i in range(0, input_imgs.shape[0]-win_size+1):\n",
        "    window = input_imgs[i:i+win_size,:,:,:].reshape((-1,h,w,c)) # each individual window\n",
        "    t.append(window)\n",
        "   \n",
        "#   cuboid = np.hstack(a)\n",
        "  np.save('test_hyper_cuboid_win8_32.npy' , t)\n",
        "  return t"
      ],
      "execution_count": 0,
      "outputs": []
    },
    {
      "metadata": {
        "id": "M0XdRt3hT87K",
        "colab_type": "code",
        "colab": {
          "base_uri": "https://localhost:8080/",
          "height": 107
        },
        "outputId": "32be85f5-691f-429c-b654-4affb6d46b2f"
      },
      "cell_type": "code",
      "source": [
        "# create_training_set()\n",
        "print('started')\n",
        "input_data = np.load('training_data.npy')\n",
        "print('training data loaded')\n",
        "input_data = input_data.astype('float32') / 255\n",
        "print('data normalized')\n",
        "create_cuboid(input_data)\n",
        "print('cuboid created')\n",
        "img_cuboids = np.load('hyper_cuboid_win16.npy')\n",
        "print(img_cuboids.shape)\n"
      ],
      "execution_count": 15,
      "outputs": [
        {
          "output_type": "stream",
          "text": [
            "started\n",
            "training data loaded\n",
            "data normalized\n",
            "cuboid created\n",
            "(6785, 16, 128, 128, 1)\n"
          ],
          "name": "stdout"
        }
      ]
    },
    {
      "metadata": {
        "id": "cerYwI2RFlLo",
        "colab_type": "code",
        "colab": {}
      },
      "cell_type": "code",
      "source": [
        "input_data = np.load('drive/Data/training_data.npy')"
      ],
      "execution_count": 0,
      "outputs": []
    },
    {
      "metadata": {
        "id": "R1iWpPv5FVUD",
        "colab_type": "code",
        "colab": {}
      },
      "cell_type": "code",
      "source": [
        "\n",
        "input_data = input_data.astype('float32') / 255.\n",
        "create_cuboid(input_data)"
      ],
      "execution_count": 0,
      "outputs": []
    },
    {
      "metadata": {
        "id": "5HzwbnaFFj7q",
        "colab_type": "code",
        "colab": {}
      },
      "cell_type": "code",
      "source": [
        ""
      ],
      "execution_count": 0,
      "outputs": []
    },
    {
      "metadata": {
        "id": "-vpC1FzX0dlx",
        "colab_type": "code",
        "colab": {
          "base_uri": "https://localhost:8080/",
          "height": 34
        },
        "outputId": "fbd25ffa-0bb7-480d-83d1-79ac1def3717"
      },
      "cell_type": "code",
      "source": [
        "print(img_cuboids.shape)"
      ],
      "execution_count": 0,
      "outputs": [
        {
          "output_type": "stream",
          "text": [
            "(6785, 16, 128, 128, 1)\n"
          ],
          "name": "stdout"
        }
      ]
    },
    {
      "metadata": {
        "id": "dU-0lJYruBC2",
        "colab_type": "code",
        "colab": {
          "base_uri": "https://localhost:8080/",
          "height": 34
        },
        "outputId": "c9042828-f6c7-4cb8-bcc7-59996520fa9e"
      },
      "cell_type": "code",
      "source": [
        "print(img_cuboids.shape)"
      ],
      "execution_count": 0,
      "outputs": [
        {
          "output_type": "stream",
          "text": [
            "(6785, 16, 128, 128, 1)\n"
          ],
          "name": "stdout"
        }
      ]
    },
    {
      "metadata": {
        "id": "YsFMyhC32c28",
        "colab_type": "code",
        "colab": {}
      },
      "cell_type": "code",
      "source": [
        "\n",
        "def model_autoencoder():\n",
        "  \n",
        "  input_img  = Input(shape = (16,128,128,1))  #channel last\n",
        "  \n",
        "  x = Conv3D(filters = 32, kernel_size = (3,3,3),strides = (1,1,1) , padding ='same' , kernel_initializer = 'glorot_uniform',kernel_regularizer=regularizers.l2(0.01))(input_img)\n",
        "  x = BatchNormalization(axis = 4)(x)\n",
        "  x = Activation('relu')(x)\n",
        "  x = MaxPooling3D(pool_size = (2,2,2), strides = (2,2,2))(x)\n",
        "  print(\"layer one conv \" + str(x.shape))\n",
        "  \n",
        "  x = Conv3D(filters = 48, kernel_size = (3,3,3),strides = (1,1,1) , padding ='same' ,kernel_regularizer=regularizers.l2(0.01), kernel_initializer = 'glorot_uniform')(x)\n",
        "  x = BatchNormalization(axis = 4)(x)\n",
        "  x = Activation('relu')(x)\n",
        "  x = MaxPooling3D(pool_size = (2,2,2), strides = (2,2,2))(x)\n",
        "  print(\"layer two conv \" + str(x.shape))\n",
        "  \n",
        " \n",
        "  x = Conv3D(filters = 64, kernel_size = (3,3,3),strides = (1,1,1) , padding ='same' , kernel_initializer = 'glorot_uniform',kernel_regularizer=regularizers.l2(0.01))(x)\n",
        "  x = BatchNormalization(axis = 4)(x)\n",
        "  x = Activation('relu')(x)\n",
        "  x = MaxPooling3D(pool_size = (2,2,2), strides = (2,2,2), padding= 'same')(x)\n",
        "  print(\"layer three conv \" + str(x.shape))\n",
        "  \n",
        "  x = Conv3D(filters = 64, kernel_size = (3,3,3),strides = (1,1,1) , padding ='same' , kernel_initializer = 'glorot_uniform',kernel_regularizer=regularizers.l2(0.01))(x)\n",
        "  x = BatchNormalization(axis = 4)(x)\n",
        "  x = Activation('relu')(x)\n",
        "  encoded = MaxPooling3D(pool_size = (1,1,1), strides = (1,1,1))(x)\n",
        "  print(\"layer four conv \" + str(encoded.shape))\n",
        "  \n",
        "  \n",
        "  ## decoder branch\n",
        "  \n",
        "  x = Conv3D(filters = 48, kernel_size = (3,3,3),strides = (1,1,1) , padding ='same' , kernel_initializer = 'glorot_uniform',kernel_regularizer=regularizers.l2(0.01))(encoded)\n",
        "  x = UpSampling3D(size = (2,2,2))(x)\n",
        "  x = BatchNormalization(axis = 4)(x)\n",
        "  x = Activation('relu')(x)\n",
        "  print(\"layer one deconv \" + str(x.shape))\n",
        " \n",
        "  x = Conv3D(filters = 32, kernel_size = (3,3,3),strides = (1,1,1) , padding ='same' , kernel_initializer = 'glorot_uniform',kernel_regularizer=regularizers.l2(0.01))(x)\n",
        "  x = UpSampling3D(size = (2,2,2))(x)\n",
        "  x = BatchNormalization(axis = 4)(x)\n",
        "  x = Activation('relu')(x)\n",
        "  print(\"layer two deconv \" + str(x.shape))\n",
        "  \n",
        "  x = Conv3D(filters = 32, kernel_size = (3,3,3),strides = (1,1,1) , padding ='same' , kernel_initializer = 'glorot_uniform',kernel_regularizer=regularizers.l2(0.01))(x)\n",
        "  x = UpSampling3D(size = (2,2,2))(x)\n",
        "  x = BatchNormalization(axis = 4)(x)\n",
        "  x = Activation('relu')(x)\n",
        "  print(\"layer three deconv \" + str(x.shape))\n",
        "  decoded = Conv3D(filters = 1, kernel_size = (3,3,3), strides = (1,1,1), padding = 'same', activation = 'sigmoid',kernel_regularizer=regularizers.l2(0.01))(x)\n",
        "  print(\"output\" + str(decoded.shape))\n",
        "\n",
        "  \n",
        "  \n",
        "  autoencoder = Model(input_img, decoded)\n",
        "  \n",
        "  return autoencoder\n",
        "  "
      ],
      "execution_count": 0,
      "outputs": []
    },
    {
      "metadata": {
        "id": "ZZ1yBJ2F0H-4",
        "colab_type": "code",
        "colab": {}
      },
      "cell_type": "code",
      "source": [
        "os.chdir('SpatioAE')\n",
        "!pwd\n",
        "!git config --global user.email \"charmiemawela02@gmail.com\"\n",
        "!git config --global user.name \"MChamith\"\n",
        "!git add hyper_cuboid.npy\n",
        "!git commit -m \"hyper cuboid\"\n",
        "!git push origin master\n",
        "!pwd\n",
        "os.chdir('/content')  \n",
        "!pwd\n"
      ],
      "execution_count": 0,
      "outputs": []
    },
    {
      "metadata": {
        "id": "CpE59IPNQvQt",
        "colab_type": "code",
        "colab": {
          "base_uri": "https://localhost:8080/",
          "height": 35
        },
        "outputId": "a4f8a775-fe19-4b64-a974-933b4d96e739"
      },
      "cell_type": "code",
      "source": [
        "# create_training_set()\n",
        "# input_imgs = np.load('training_data.npy')\n",
        "# create_cuboid(input_imgs)\n",
        "img_cuboids = np.load('hyper_cuboid_win16.npy')\n",
        "print(\"hyper cuboid loaded\")\n",
        "img_cuboids = img_cuboids.astype('float32') / 255.\n",
        "print(\"data normalized\")\n",
        "# K.clear_session()\n",
        "# autoencoder = model_autoencoder()\n",
        "# autoencoder.compile(optimizer = 'adam' , loss = 'mean_squared_error', metrics = ['acc'])\n",
        "# print(\"model compiled\")\n",
        "# autoencoder.fit(img_cuboids,img_cuboids,  epochs =10, batch_size= 32)\n",
        "# print(\"model fitted\")\n",
        "  \n",
        "    "
      ],
      "execution_count": 0,
      "outputs": [
        {
          "output_type": "stream",
          "text": [
            "hyper cuboid loaded\n"
          ],
          "name": "stdout"
        }
      ]
    },
    {
      "metadata": {
        "id": "pHDlmxgex8Z5",
        "colab_type": "code",
        "colab": {
          "base_uri": "https://localhost:8080/",
          "height": 577
        },
        "outputId": "b39ce154-bf59-42d5-f6f8-a705c7a0ee72"
      },
      "cell_type": "code",
      "source": [
        "K.clear_session()\n",
        "autoencoder = model_autoencoder()\n",
        "autoencoder.compile(optimizer = 'adam' , loss = 'mean_squared_error', metrics = ['acc','mae'])\n",
        "print(\"model compiled\")\n",
        "autoencoder.fit(img_cuboids,img_cuboids,  epochs =10, batch_size= 4)\n",
        "print(\"model fitted\")"
      ],
      "execution_count": 17,
      "outputs": [
        {
          "output_type": "stream",
          "text": [
            "layer one conv (?, 8, 64, 64, 32)\n",
            "layer two conv (?, 4, 32, 32, 48)\n",
            "layer three conv (?, 2, 16, 16, 64)\n",
            "layer four conv (?, 2, 16, 16, 64)\n",
            "layer one deconv (?, 4, 32, 32, 48)\n",
            "layer two deconv (?, 8, 64, 64, 32)\n",
            "layer three deconv (?, 16, 128, 128, 32)\n",
            "output(?, 16, 128, 128, 1)\n",
            "model compiled\n",
            "Epoch 1/10\n",
            "6785/6785 [==============================] - 985s 145ms/step - loss: 0.0461 - acc: 1.3219e-05 - mean_absolute_error: 0.0595\n",
            "Epoch 2/10\n",
            "6785/6785 [==============================] - 981s 145ms/step - loss: 0.0167 - acc: 1.3429e-05 - mean_absolute_error: 0.0546\n",
            "Epoch 3/10\n",
            "6785/6785 [==============================] - 980s 144ms/step - loss: 0.0121 - acc: 1.3666e-05 - mean_absolute_error: 0.0493\n",
            "Epoch 4/10\n",
            "6785/6785 [==============================] - 981s 145ms/step - loss: 0.0129 - acc: 1.3559e-05 - mean_absolute_error: 0.0482\n",
            "Epoch 5/10\n",
            "6785/6785 [==============================] - 981s 145ms/step - loss: 0.0117 - acc: 1.3931e-05 - mean_absolute_error: 0.0467\n",
            "Epoch 6/10\n",
            "6785/6785 [==============================] - 980s 144ms/step - loss: 0.0103 - acc: 1.3709e-05 - mean_absolute_error: 0.0468\n",
            "Epoch 7/10\n",
            "6785/6785 [==============================] - 980s 144ms/step - loss: 0.0105 - acc: 1.3730e-05 - mean_absolute_error: 0.0470\n",
            "Epoch 8/10\n",
            "6785/6785 [==============================] - 980s 144ms/step - loss: 0.0098 - acc: 1.3728e-05 - mean_absolute_error: 0.0475\n",
            "Epoch 9/10\n",
            "6785/6785 [==============================] - 980s 144ms/step - loss: 0.0085 - acc: 1.3753e-05 - mean_absolute_error: 0.0463\n",
            "Epoch 10/10\n",
            "6785/6785 [==============================] - 980s 144ms/step - loss: 0.0092 - acc: 1.3989e-05 - mean_absolute_error: 0.0449\n",
            "model fitted\n"
          ],
          "name": "stdout"
        }
      ]
    },
    {
      "metadata": {
        "id": "OrdqrXMykFAe",
        "colab_type": "code",
        "colab": {}
      },
      "cell_type": "code",
      "source": [
        "autoencoder.save('drive/Data/3d_autoencoder_model_iter1_win16.h5')\n",
        "\n"
      ],
      "execution_count": 0,
      "outputs": []
    },
    {
      "metadata": {
        "id": "NaA9i6zvE-3s",
        "colab_type": "code",
        "colab": {}
      },
      "cell_type": "code",
      "source": [
        "autoencoder.save('3d_autoencoder_model_iter1_win16.h5')"
      ],
      "execution_count": 0,
      "outputs": []
    },
    {
      "metadata": {
        "id": "ah5JPNWxZJQU",
        "colab_type": "code",
        "colab": {}
      },
      "cell_type": "code",
      "source": [
        "from keras.models import load_model \n",
        "K.clear_session()\n",
        "autoencoder_model = load_model('drive/Data/3d_autoencoder_model_iter1_win16.h5')\n",
        "# autoencoder_model.summary()"
      ],
      "execution_count": 0,
      "outputs": []
    },
    {
      "metadata": {
        "id": "H6_d7qELADw-",
        "colab_type": "code",
        "colab": {}
      },
      "cell_type": "code",
      "source": [
        "autoencoder_model.save('drive/Data/3d_autoencoder_model_iter1_win16.h5')"
      ],
      "execution_count": 0,
      "outputs": []
    },
    {
      "metadata": {
        "id": "uBntqoBvCdrE",
        "colab_type": "code",
        "colab": {}
      },
      "cell_type": "code",
      "source": [
        "autoencoder_model.compile(optimizer = 'adam' , loss = 'mean_squared_error', metrics = ['acc','mae'])\n",
        "# print(\"model compiled\")\n",
        "# # autoencoder.fit(img_cuboids,img_cuboids,  epochs =10, batch_size= 32)\n",
        "# print(\"model fitted\")"
      ],
      "execution_count": 0,
      "outputs": []
    },
    {
      "metadata": {
        "id": "b72briwEEzw6",
        "colab_type": "code",
        "colab": {
          "base_uri": "https://localhost:8080/",
          "height": 35
        },
        "outputId": "900854de-9c1b-4807-9300-f086c2e04502"
      },
      "cell_type": "code",
      "source": [
        "print(K.eval(autoencoder_model.optimizer.lr))\n",
        "K.clear_session()"
      ],
      "execution_count": 62,
      "outputs": [
        {
          "output_type": "stream",
          "text": [
            "0.001\n"
          ],
          "name": "stdout"
        }
      ]
    },
    {
      "metadata": {
        "id": "lk1NJ1Q8Mmku",
        "colab_type": "code",
        "colab": {}
      },
      "cell_type": "code",
      "source": [
        "from keras.callbacks import Callback\n",
        "from keras.callbacks import ReduceLROnPlateau\n",
        "class LossHistory(Callback):\n",
        "    def on_train_begin(self, logs={}):\n",
        "        self.losses = []\n",
        "\n",
        "    def on_batch_end(self, batch, logs={}):\n",
        "        self.losses.append(logs.get('loss'))\n",
        "        \n",
        "history = LossHistory()  \n",
        "reduce_lr = ReduceLROnPlateau(monitor='val_loss', factor=0.2,\n",
        "                              patience=3 ,min_lr=0.00001)\n",
        "\n",
        "img_cuboids = np.load('hyper_cuboid_win16.npy')       \n",
        "model_history = autoencoder_model.fit(img_cuboids,img_cuboids,  epochs =10, batch_size=4, callbacks=[history,reduce_lr],validation_split = 0.1)  \n",
        "autoencoder_model.save('3d_autoencoder_model_iter2_win16.h5')\n",
        "autoencoder_model.save('drive/Data/3d_autoencoder_model_win16_iter2.h5')"
      ],
      "execution_count": 0,
      "outputs": []
    },
    {
      "metadata": {
        "id": "VFOQ0OHv0zMk",
        "colab_type": "code",
        "colab": {
          "base_uri": "https://localhost:8080/",
          "height": 190
        },
        "outputId": "15bffdc1-b252-48ec-d220-1f94447f42d0"
      },
      "cell_type": "code",
      "source": [
        "autoencoder_model.save('3d_autoencoder_model_iter2.h5')\n"
      ],
      "execution_count": 0,
      "outputs": [
        {
          "output_type": "error",
          "ename": "NameError",
          "evalue": "ignored",
          "traceback": [
            "\u001b[0;31m---------------------------------------------------------------------------\u001b[0m",
            "\u001b[0;31mNameError\u001b[0m                                 Traceback (most recent call last)",
            "\u001b[0;32m<ipython-input-1-306c045e2588>\u001b[0m in \u001b[0;36m<module>\u001b[0;34m()\u001b[0m\n\u001b[0;32m----> 1\u001b[0;31m \u001b[0mautoencoder_model\u001b[0m\u001b[0;34m.\u001b[0m\u001b[0msave\u001b[0m\u001b[0;34m(\u001b[0m\u001b[0;34m'3d_autoencoder_model_iter2.h5'\u001b[0m\u001b[0;34m)\u001b[0m\u001b[0;34m\u001b[0m\u001b[0m\n\u001b[0m\u001b[1;32m      2\u001b[0m \u001b[0mautoencoder_model\u001b[0m\u001b[0;34m.\u001b[0m\u001b[0msummary\u001b[0m\u001b[0;34m(\u001b[0m\u001b[0;34m)\u001b[0m\u001b[0;34m\u001b[0m\u001b[0m\n",
            "\u001b[0;31mNameError\u001b[0m: name 'autoencoder_model' is not defined"
          ]
        }
      ]
    },
    {
      "metadata": {
        "id": "GZ-7OkUc1DGE",
        "colab_type": "code",
        "colab": {
          "base_uri": "https://localhost:8080/",
          "height": 34
        },
        "outputId": "67b4de80-371a-4f7d-85ba-900f12b24535"
      },
      "cell_type": "code",
      "source": [
        "train_loss = np.array(history.losses)\n",
        "# train_loss = train_loss[16965-6785:16965]\n",
        "# train_loss_normed = np.linalg.norm(train_loss)\n",
        "min_ex = min(train_loss)\n",
        "max_ex = max(train_loss)\n",
        "\n",
        "print('minimum loss = ' + str(min_ex) + 'maximum loss= ' + str(max_ex)+ 'train losss = '+str(train_loss.shape))"
      ],
      "execution_count": 0,
      "outputs": [
        {
          "output_type": "stream",
          "text": [
            "minimum loss = 0.0006428565maximum loss= 0.0050993245train losss = (1697,)\n"
          ],
          "name": "stdout"
        }
      ]
    },
    {
      "metadata": {
        "id": "aTSQcBIGHE9f",
        "colab_type": "code",
        "colab": {
          "base_uri": "https://localhost:8080/",
          "height": 35
        },
        "outputId": "37e4da78-0904-4116-98d7-a8a09acc40bc"
      },
      "cell_type": "code",
      "source": [
        "# get_test_data = create_test_set()\n",
        "# test_imgs = np.load('test_data32.npy')\n",
        "# test_imgs = test_imgs.astype('float32') / 255.\n",
        "# create_test_cuboid(test_imgs)\n",
        "test_cuboid = np.load('test_hyper_cuboid_win16_32.npy')\n",
        "\n",
        "print(test_cuboid.shape)\n",
        "\n",
        "\n"
      ],
      "execution_count": 55,
      "outputs": [
        {
          "output_type": "stream",
          "text": [
            "(185, 16, 128, 128, 1)\n"
          ],
          "name": "stdout"
        }
      ]
    },
    {
      "metadata": {
        "id": "Uw3pz12GwE98",
        "colab_type": "code",
        "colab": {}
      },
      "cell_type": "code",
      "source": [
        "for i in range(2):\n",
        "  for j in range(8):\n",
        "    scipy.misc.imsave('drive/Data/testimage'+str(n)+'.png', np.squeeze(test_cuboid[i][j], axis = 2))\n",
        "#   sq_img = np.squeeze(test_cuboid[n][1], axis = 2)\n",
        "#   sq_img = sq_img*255\n",
        "#   sq_img = sq_img.astype('uint8')\n",
        "\n",
        "#   dec_img = np.squeeze(decode_imgs[n][1], axis = 2)\n",
        "#   dec_img = dec_img*255\n",
        "#   dec_img = dec_img.astype('uint8')\n",
        "\n",
        "  \n",
        "#   scipy.misc.imsave('drive/Data/dec'+str(n)+'.png', dec_img)\n",
        "  "
      ],
      "execution_count": 0,
      "outputs": []
    },
    {
      "metadata": {
        "id": "3FtwjpLWiDK3",
        "colab_type": "code",
        "colab": {}
      },
      "cell_type": "code",
      "source": [
        "decode_imgs = autoencoder_model.predict(test_cuboid)"
      ],
      "execution_count": 0,
      "outputs": []
    },
    {
      "metadata": {
        "id": "N-DVJ0-4I1Py",
        "colab_type": "code",
        "colab": {
          "base_uri": "https://localhost:8080/",
          "height": 269
        },
        "outputId": "0f870824-c13d-4f1b-a8fb-dcee64ca979b"
      },
      "cell_type": "code",
      "source": [
        "print(np.squeeze(decode_imgs[1][1]))\n",
        "print(np.squeeze(test_cuboid[1][1]))"
      ],
      "execution_count": 0,
      "outputs": [
        {
          "output_type": "stream",
          "text": [
            "[[0.3665918  0.31407773 0.4027053  ... 0.33415452 0.15355128 0.2725734 ]\n",
            " [0.28767076 0.25165272 0.4176241  ... 0.33526462 0.19010405 0.32217863]\n",
            " [0.3285036  0.36008832 0.26042366 ... 0.3353285  0.29230455 0.4493007 ]\n",
            " ...\n",
            " [0.41672572 0.41849038 0.41418377 ... 0.6470401  0.66060466 0.75101554]\n",
            " [0.43709612 0.44734138 0.4424473  ... 0.6860009  0.67404884 0.7712986 ]\n",
            " [0.439424   0.4661526  0.475611   ... 0.72254467 0.70244664 0.7338248 ]]\n",
            "[[0.34901962 0.30588236 0.3882353  ... 0.31764707 0.16078432 0.26666668]\n",
            " [0.2509804  0.26666668 0.41568628 ... 0.32156864 0.1764706  0.31764707]\n",
            " [0.30980393 0.36862746 0.2627451  ... 0.34117648 0.2784314  0.49803922]\n",
            " ...\n",
            " [0.40784314 0.4        0.40784314 ... 0.654902   0.6627451  0.7137255 ]\n",
            " [0.44705883 0.4627451  0.45490196 ... 0.67058825 0.64705884 0.72156864]\n",
            " [0.4627451  0.4627451  0.4745098  ... 0.69411767 0.6666667  0.7372549 ]]\n"
          ],
          "name": "stdout"
        }
      ]
    },
    {
      "metadata": {
        "id": "AsGATYK79HnP",
        "colab_type": "code",
        "colab": {}
      },
      "cell_type": "code",
      "source": [
        "real_img = np.load('test_data.npy')\n",
        "\tdiff=x1-x2\n",
        "\ta,b,c,d,e=diff.shape\n",
        "\tn_samples=a*b*c*d*e\n",
        "\tsq_diff=diff**2\n",
        "\tSum=sq_diff.sum()\n",
        "\tdist=np.sqrt(Sum)\n",
        "\tmean_dist=dist/n_samples\n",
        "\n",
        "\treturn mean_dist"
      ],
      "execution_count": 0,
      "outputs": []
    },
    {
      "metadata": {
        "id": "IOgtugVD23y7",
        "colab_type": "code",
        "colab": {}
      },
      "cell_type": "code",
      "source": [
        "def calculate_score(input_img, reconstructed_img):\n",
        "  diff = input_img - reconstructed_img\n",
        "  a,b,c=diff.shape\n",
        "  n_samples=a*b*c\n",
        "  sq_diff=diff**2\n",
        "  Sum=sq_diff.sum()\n",
        "  dist=np.sqrt(Sum)\n",
        "  mean_dist=dist/n_samples\n",
        "  return mean_dist\n",
        "  "
      ],
      "execution_count": 0,
      "outputs": []
    },
    {
      "metadata": {
        "id": "Dcv6mNCeZBWW",
        "colab_type": "code",
        "colab": {}
      },
      "cell_type": "code",
      "source": [
        "def calculate_costs(img_size, win_size):\n",
        "  \n",
        "  input_size = img_size+win_size\n",
        "  costs = np.zeros(img_size+win_size-1, dtype= float)\n",
        "#   if img_size+win_size > num_input:\n",
        "#     break\n",
        "    \n",
        "  for i in range(0, img_size):\n",
        "    for k in range(win_size):\n",
        "      temp = np.squeeze(test_cuboid[i])-np.squeeze(decode_imgs[i][k])\n",
        "      costs[i+k]= np.linalg.norm(temp)\n",
        "\t\t\t\n",
        "  \n",
        "  np.save('test_costs_win16_iter1.1_test32.npy',costs)\n",
        "  return costs\n",
        "    \n",
        "  \n",
        "  \n",
        "  \n",
        "  "
      ],
      "execution_count": 0,
      "outputs": []
    },
    {
      "metadata": {
        "id": "fW7wqYVX3_wN",
        "colab_type": "code",
        "colab": {}
      },
      "cell_type": "code",
      "source": [
        "def calculate_costs_tset(img_size, win_size):\n",
        "  \n",
        "  input_size = img_size+win_size\n",
        "  costs = np.zeros(img_size+win_size-1, dtype= float)\n",
        "#   if img_size+win_size > num_input:\n",
        "#     break\n",
        "    \n",
        "  for i in range(0, img_size):\n",
        "    for k in range(win_size):\n",
        "#       temp = np.squeeze(test_cuboid[i][k])-np.squeeze(decode_imgs[i][k])\n",
        "      temp = calculate_score(test_cuboid[i][k],decode_imgs[i][k])\n",
        "      costs[i+k]= np.linalg.norm(temp)\n",
        "\t\t\t\n",
        "  \n",
        "  np.save('test_costs_test.npy',costs)\n",
        "  return costs\n",
        "    "
      ],
      "execution_count": 0,
      "outputs": []
    },
    {
      "metadata": {
        "id": "LX2SbSKdiYY-",
        "colab_type": "code",
        "colab": {
          "base_uri": "https://localhost:8080/",
          "height": 34
        },
        "outputId": "8eab56bf-a622-4e73-8ae1-9d21b5f97ff5"
      },
      "cell_type": "code",
      "source": [
        "print(np.linalg.norm(np.squeeze(decode_imgs[1][2])-np.squeeze(test_cuboid[1][2])))"
      ],
      "execution_count": 0,
      "outputs": [
        {
          "output_type": "stream",
          "text": [
            "7.740723\n"
          ],
          "name": "stdout"
        }
      ]
    },
    {
      "metadata": {
        "id": "sIoIMEsGfQ8o",
        "colab_type": "code",
        "colab": {
          "base_uri": "https://localhost:8080/",
          "height": 629
        },
        "outputId": "2886d679-81d1-4d3d-fa88-3a5b885729b8"
      },
      "cell_type": "code",
      "source": [
        "calculate_costs(test_cuboid.shape[0],16)\n",
        "cost_val = np.load('test_costs_win16_iter1.1_test32.npy')\n",
        "print(cost_val)\n"
      ],
      "execution_count": 58,
      "outputs": [
        {
          "output_type": "stream",
          "text": [
            "[52.63457108 52.64853287 52.48007584 51.89611053 51.80197144 51.42992401\n",
            " 51.36011887 51.38239288 51.65817642 51.64880371 51.86912537 51.63276291\n",
            " 51.70547104 51.75514603 51.95462799 51.87023163 52.19790268 52.3370018\n",
            " 52.46575165 52.51546478 52.61783218 52.60110092 52.77394867 52.7602272\n",
            " 52.90536499 52.65096283 52.17260361 51.72653198 51.14848328 50.73793793\n",
            " 49.63319397 48.94400024 49.00098038 49.05098343 49.19877625 49.12088394\n",
            " 49.00687408 49.15299988 49.31871414 49.45385742 49.6756134  49.80994034\n",
            " 50.10173798 50.20698929 50.60487747 50.54717255 50.83545303 50.84452438\n",
            " 51.15742874 50.9068222  50.89818573 50.48047256 50.45874786 50.80020905\n",
            " 50.88718414 51.04969788 51.04623795 51.29576111 51.41139603 51.73348618\n",
            " 51.9373703  52.37239075 52.10378265 52.32679749 52.51324844 52.54387283\n",
            " 52.09160614 52.0019455  52.04057312 52.21405411 52.26144791 52.11491394\n",
            " 52.30329895 52.32798386 52.45251846 52.36110687 52.52692795 52.29347992\n",
            " 52.25646973 52.23067856 52.29489517 52.11413193 52.22777557 52.28912735\n",
            " 52.06333542 51.90241241 51.84975815 51.69271851 51.47309113 51.38855743\n",
            " 51.69537354 51.64906693 51.64395905 51.49793243 51.50806427 51.14949417\n",
            " 50.85980988 50.60929871 50.49823761 50.06620026 49.87841797 50.07533646\n",
            " 50.27722931 50.50956345 50.62142563 50.68603897 50.84178925 51.205513\n",
            " 51.19963074 51.41962051 51.74171829 51.86806107 52.11833572 52.69693756\n",
            " 53.14707565 53.78820801 53.8998909  53.99436569 54.04684067 54.18778992\n",
            " 54.59087753 54.71223831 54.35083771 54.12653351 54.18712616 53.93009186\n",
            " 53.38209152 52.61834335 52.32183456 51.7694397  51.46253204 51.00900269\n",
            " 51.05647659 51.00592422 51.14699554 51.05031204 50.98692322 50.90200043\n",
            " 50.85988617 50.7221489  50.79950714 50.77537537 50.83981323 50.98185349\n",
            " 51.18405533 51.47226334 51.56253815 51.63338852 51.81213379 52.09020233\n",
            " 52.2221756  52.35997391 52.40860367 52.60152435 53.00481415 53.10447311\n",
            " 53.33535004 53.2854805  53.2036972  53.25761414 53.55878448 53.31029129\n",
            " 53.24925995 52.15439224 51.80528641 51.61711502 51.04518127 49.97606277\n",
            " 49.37358856 49.40050125 49.43393326 49.235672   49.2354393  49.16572189\n",
            " 49.35821915 49.25620651 49.22844696 49.29138184 49.26630402 49.29389191\n",
            " 49.13856506 49.17137146 49.18151093 49.22357941 49.25034332 48.17138672\n",
            " 50.31809998 48.91996002 49.93680573 50.05941391 49.61462784 49.27377701\n",
            " 48.67377472 48.68689728 49.1147728  49.1333046  48.63777924 49.95134735\n",
            " 47.96139908 49.13668823]\n"
          ],
          "name": "stdout"
        }
      ]
    },
    {
      "metadata": {
        "id": "daCMtk648ijC",
        "colab_type": "code",
        "colab": {}
      },
      "cell_type": "code",
      "source": [
        "print(cost_val)"
      ],
      "execution_count": 0,
      "outputs": []
    },
    {
      "metadata": {
        "id": "DzbEhh2OgobR",
        "colab_type": "code",
        "colab": {}
      },
      "cell_type": "code",
      "source": [
        "cost_val1 = np.load('test_costs_win8_iter2.npy')"
      ],
      "execution_count": 0,
      "outputs": []
    },
    {
      "metadata": {
        "id": "IBvqBf4Z4p9A",
        "colab_type": "code",
        "colab": {
          "base_uri": "https://localhost:8080/",
          "height": 35
        },
        "outputId": "594bf66f-8849-4d50-ce50-a5190427eaad"
      },
      "cell_type": "code",
      "source": [
        "score = cost_val - min(cost_val)\n",
        "score = 1 - (score/max(score))\n",
        "print('maximum score = ' +str(max(score))+ 'min score = ' + str(min(score)))"
      ],
      "execution_count": 59,
      "outputs": [
        {
          "output_type": "stream",
          "text": [
            "maximum score = 1.0min score = 0.0\n"
          ],
          "name": "stdout"
        }
      ]
    },
    {
      "metadata": {
        "id": "3CwLp55F5FTQ",
        "colab_type": "code",
        "colab": {
          "base_uri": "https://localhost:8080/",
          "height": 629
        },
        "outputId": "b4540ccc-6d82-415d-bc60-15e958e3c4a7"
      },
      "cell_type": "code",
      "source": [
        "print(score)"
      ],
      "execution_count": 60,
      "outputs": [
        {
          "output_type": "stream",
          "text": [
            "[0.30776429 0.30569613 0.33064963 0.41715225 0.43109705 0.48620833\n",
            " 0.49654855 0.49324911 0.45239737 0.45378574 0.42114956 0.45616186\n",
            " 0.44539163 0.43803328 0.40848408 0.42098569 0.37244786 0.35184315\n",
            " 0.33277147 0.32540747 0.31024382 0.31272221 0.28711832 0.28915088\n",
            " 0.26765166 0.30533618 0.37619541 0.44227188 0.52789807 0.58871205\n",
            " 0.75235747 0.85444755 0.8460071  0.83860016 0.81670765 0.82824582\n",
            " 0.84513407 0.82348849 0.79894128 0.77892255 0.74607389 0.72617608\n",
            " 0.68295217 0.66736133 0.60842226 0.61697007 0.57426716 0.57292342\n",
            " 0.52657299 0.56369526 0.56497458 0.62685032 0.6300684  0.57948784\n",
            " 0.56660425 0.54253113 0.54304365 0.50608185 0.48895288 0.44124175\n",
            " 0.41104045 0.34660099 0.38638984 0.35335471 0.32573578 0.3211994\n",
            " 0.38819354 0.40147495 0.39575305 0.37005535 0.36303492 0.38474096\n",
            " 0.35683554 0.35317897 0.33473169 0.34827247 0.32370944 0.35829003\n",
            " 0.36377234 0.36759278 0.35808039 0.3848568  0.3680228  0.35893478\n",
            " 0.39238127 0.41621875 0.42401842 0.44728066 0.479814   0.49233595\n",
            " 0.44688737 0.45374675 0.45450338 0.47613427 0.47463344 0.52774833\n",
            " 0.57065919 0.60776734 0.62421879 0.68821637 0.71603251 0.68686302\n",
            " 0.65695669 0.6225411  0.60597098 0.59639983 0.57332858 0.51945028\n",
            " 0.52032162 0.48773459 0.44002233 0.42130721 0.38423409 0.29852596\n",
            " 0.23184712 0.13687636 0.1203328  0.10633828 0.09856517 0.0776864\n",
            " 0.01797714 0.         0.05353417 0.0867603  0.07778472 0.11585914\n",
            " 0.19703429 0.3101681  0.35408986 0.43591597 0.48137812 0.5485593\n",
            " 0.541527   0.54901531 0.52811845 0.54244015 0.55182992 0.56440951\n",
            " 0.57064789 0.59105087 0.57959182 0.58316645 0.57362129 0.5525809\n",
            " 0.5226288  0.47993662 0.46656424 0.45606919 0.4295917  0.38840148\n",
            " 0.36885232 0.34844029 0.34123678 0.31265949 0.25292028 0.23815783\n",
            " 0.20395809 0.21134525 0.22345979 0.21547309 0.17086081 0.20767004\n",
            " 0.21671059 0.37889305 0.430606   0.45847978 0.54320017 0.70156841\n",
            " 0.79081275 0.78682618 0.78187391 0.8112423  0.81127676 0.82160399\n",
            " 0.79308942 0.80820052 0.81231254 0.80299001 0.80670478 0.8026182\n",
            " 0.82562672 0.82076712 0.81926516 0.81303357 0.80906904 0.96889459\n",
            " 0.65090253 0.85800863 0.70738354 0.68922163 0.75510767 0.80559781\n",
            " 0.89447599 0.89253215 0.82915106 0.82640595 0.89980799 0.7052295\n",
            " 1.         0.82590473]\n"
          ],
          "name": "stdout"
        }
      ]
    },
    {
      "metadata": {
        "id": "27uyGTNWc61q",
        "colab_type": "code",
        "colab": {
          "base_uri": "https://localhost:8080/",
          "height": 347
        },
        "outputId": "764c3dd1-f2ef-484b-9fef-14381ff861d6"
      },
      "cell_type": "code",
      "source": [
        "import matplotlib.pyplot as plt\n",
        "# plt.plot(score1)\n",
        "plt.plot(score)\n",
        "# plt.legend(['epoch 47', 'epoch 35'], loc='upper left')\n",
        "plt.show()\n"
      ],
      "execution_count": 61,
      "outputs": [
        {
          "output_type": "display_data",
          "data": {
            "image/png": "[encoded data removed]",
            "text/plain": [
              "<matplotlib.figure.Figure at 0x7f5b561bc208>"
            ]
          },
          "metadata": {
            "tags": []
          }
        }
      ]
    },
    {
      "metadata": {
        "id": "Q7hdos1PS9UW",
        "colab_type": "code",
        "colab": {}
      },
      "cell_type": "code",
      "source": [
        "import matplotlib.pyplot as plt\n",
        "from PIL import Image\n",
        "\n",
        "for n in range(100,125):\n",
        "  sq_img = np.squeeze(test_cuboid[n][1], axis = 2)\n",
        "  sq_img = sq_img*255\n",
        "  sq_img = sq_img.astype('uint8')\n",
        "\n",
        "  dec_img = np.squeeze(decode_imgs[n][1], axis = 2)\n",
        "  dec_img = dec_img*255\n",
        "  dec_img = dec_img.astype('uint8')\n",
        "\n",
        "  scipy.misc.imsave('drive/Data/testimage'+str(n)+'.png', sq_img)\n",
        "  scipy.misc.imsave('drive/Data/dec'+str(n)+'.png', dec_img)\n",
        "\n",
        "\n",
        "# plt.imshow(sq_img)"
      ],
      "execution_count": 0,
      "outputs": []
    },
    {
      "metadata": {
        "id": "kwHY8hK-xENB",
        "colab_type": "code",
        "colab": {
          "base_uri": "https://localhost:8080/",
          "height": 367
        },
        "outputId": "d53d3b70-fb45-4f05-b282-94d363633c94"
      },
      "cell_type": "code",
      "source": [
        "plt.imshow(np.squeeze(decode_imgs[1][1], axis = 2))\n",
        "  "
      ],
      "execution_count": 0,
      "outputs": [
        {
          "output_type": "execute_result",
          "data": {
            "text/plain": [
              "<matplotlib.image.AxesImage at 0x7fc73874b588>"
            ]
          },
          "metadata": {
            "tags": []
          },
          "execution_count": 52
        },
        {
          "output_type": "display_data",
          "data": {
            "image/png": "[encoded data removed]",
            "text/plain": [
              "<matplotlib.figure.Figure at 0x7fc7511c9f60>"
            ]
          },
          "metadata": {
            "tags": []
          }
        }
      ]
    },
    {
      "metadata": {
        "id": "2TIYGRB0f57D",
        "colab_type": "code",
        "colab": {
          "base_uri": "https://localhost:8080/",
          "height": 53
        },
        "outputId": "f2c61b49-6b13-41fe-8c72-32b4640fafab"
      },
      "cell_type": "code",
      "source": [
        "autoencoder_model.evaluate(test_cuboid, test_cuboid)\n"
      ],
      "execution_count": 0,
      "outputs": [
        {
          "output_type": "stream",
          "text": [
            "193/193 [==============================] - 4s 21ms/step\n"
          ],
          "name": "stdout"
        },
        {
          "output_type": "execute_result",
          "data": {
            "text/plain": [
              "[0.00776640931385632, 1.1977754108646373e-05, 0.05647316436075794]"
            ]
          },
          "metadata": {
            "tags": []
          },
          "execution_count": 75
        }
      ]
    },
    {
      "metadata": {
        "id": "awEV6CRBIMaY",
        "colab_type": "text"
      },
      "cell_type": "markdown",
      "source": [
        ""
      ]
    },
    {
      "metadata": {
        "id": "48DhaLLsgQm9",
        "colab_type": "code",
        "colab": {}
      },
      "cell_type": "code",
      "source": [
        "import pydot\n",
        "import graphviz\n",
        "from keras.utils import plot_model\n",
        "plot_model(autoencoder, to_file='model.png',show_shapes=True)"
      ],
      "execution_count": 0,
      "outputs": []
    },
    {
      "metadata": {
        "id": "0TQJNbY3mnoR",
        "colab_type": "code",
        "colab": {
          "base_uri": "https://localhost:8080/",
          "height": 107
        },
        "outputId": "1fa32cd6-75f2-4d9f-91e4-263f19636495"
      },
      "cell_type": "code",
      "source": [
        "!apt-get install -q graphviz"
      ],
      "execution_count": 0,
      "outputs": [
        {
          "output_type": "stream",
          "text": [
            "Reading package lists...\n",
            "Building dependency tree...\n",
            "Reading state information...\n",
            "graphviz is already the newest version (2.38.0-16ubuntu2).\n",
            "0 upgraded, 0 newly installed, 0 to remove and 0 not upgraded.\n"
          ],
          "name": "stdout"
        }
      ]
    },
    {
      "metadata": {
        "id": "OTJG031Wnv1H",
        "colab_type": "code",
        "colab": {}
      },
      "cell_type": "code",
      "source": [
        ""
      ],
      "execution_count": 0,
      "outputs": []
    }
  ]
}