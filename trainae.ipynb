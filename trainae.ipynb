{
  "nbformat": 4,
  "nbformat_minor": 0,
  "metadata": {
    "colab": {
      "name": "trainae.ipynb",
      "version": "0.3.2",
      "provenance": [],
      "collapsed_sections": [],
      "toc_visible": true,
      "include_colab_link": true
    },
    "kernelspec": {
      "name": "python3",
      "display_name": "Python 3"
    },
    "accelerator": "GPU"
  },
  "cells": [
    {
      "cell_type": "markdown",
      "metadata": {
        "id": "view-in-github",
        "colab_type": "text"
      },
      "source": [
        "<a href=\"https://colab.research.google.com/github/MChamith/SpatioAE/blob/master/trainae.ipynb\" target=\"_parent\"><img src=\"https://colab.research.google.com/assets/colab-badge.svg\" alt=\"Open In Colab\"/></a>"
      ]
    },
    {
      "metadata": {
        "id": "ufZ5aF0L1pDy",
        "colab_type": "code",
        "outputId": "b34814da-1beb-4c05-f364-4f25f96bc6ad",
        "colab": {
          "base_uri": "https://localhost:8080/",
          "height": 161
        }
      },
      "cell_type": "code",
      "source": [
        "!git clone https://github.com/MChamith/SpatioAE"
      ],
      "execution_count": 0,
      "outputs": [
        {
          "output_type": "stream",
          "text": [
            "Cloning into 'SpatioAE'...\n",
            "remote: Enumerating objects: 80, done.\u001b[K\n",
            "remote: Counting objects:   1% (1/80)   \u001b[K\rremote: Counting objects:   2% (2/80)   \u001b[K\rremote: Counting objects:   3% (3/80)   \u001b[K\rremote: Counting objects:   5% (4/80)   \u001b[K\rremote: Counting objects:   6% (5/80)   \u001b[K\rremote: Counting objects:   7% (6/80)   \u001b[K\rremote: Counting objects:   8% (7/80)   \u001b[K\rremote: Counting objects:  10% (8/80)   \u001b[K\rremote: Counting objects:  11% (9/80)   \u001b[K\rremote: Counting objects:  12% (10/80)   \u001b[K\rremote: Counting objects:  13% (11/80)   \u001b[K\rremote: Counting objects:  15% (12/80)   \u001b[K\rremote: Counting objects:  16% (13/80)   \u001b[K\rremote: Counting objects:  17% (14/80)   \u001b[K\rremote: Counting objects:  18% (15/80)   \u001b[K\rremote: Counting objects:  20% (16/80)   \u001b[K\rremote: Counting objects:  21% (17/80)   \u001b[K\rremote: Counting objects:  22% (18/80)   \u001b[K\rremote: Counting objects:  23% (19/80)   \u001b[K\rremote: Counting objects:  25% (20/80)   \u001b[K\rremote: Counting objects:  26% (21/80)   \u001b[K\rremote: Counting objects:  27% (22/80)   \u001b[K\rremote: Counting objects:  28% (23/80)   \u001b[K\rremote: Counting objects:  30% (24/80)   \u001b[K\rremote: Counting objects:  31% (25/80)   \u001b[K\rremote: Counting objects:  32% (26/80)   \u001b[K\rremote: Counting objects:  33% (27/80)   \u001b[K\rremote: Counting objects:  35% (28/80)   \u001b[K\rremote: Counting objects:  36% (29/80)   \u001b[K\rremote: Counting objects:  37% (30/80)   \u001b[K\rremote: Counting objects:  38% (31/80)   \u001b[K\rremote: Counting objects:  40% (32/80)   \u001b[K\rremote: Counting objects:  41% (33/80)   \u001b[K\rremote: Counting objects:  42% (34/80)   \u001b[K\rremote: Counting objects:  43% (35/80)   \u001b[K\rremote: Counting objects:  45% (36/80)   \u001b[K\rremote: Counting objects:  46% (37/80)   \u001b[K\rremote: Counting objects:  47% (38/80)   \u001b[K\rremote: Counting objects:  48% (39/80)   \u001b[K\rremote: Counting objects:  50% (40/80)   \u001b[K\rremote: Counting objects:  51% (41/80)   \u001b[K\rremote: Counting objects:  52% (42/80)   \u001b[K\rremote: Counting objects:  53% (43/80)   \u001b[K\rremote: Counting objects:  55% (44/80)   \u001b[K\rremote: Counting objects:  56% (45/80)   \u001b[K\rremote: Counting objects:  57% (46/80)   \u001b[K\rremote: Counting objects:  58% (47/80)   \u001b[K\rremote: Counting objects:  60% (48/80)   \u001b[K\rremote: Counting objects:  61% (49/80)   \u001b[K\rremote: Counting objects:  62% (50/80)   \u001b[K\rremote: Counting objects:  63% (51/80)   \u001b[K\rremote: Counting objects:  65% (52/80)   \u001b[K\rremote: Counting objects:  66% (53/80)   \u001b[K\rremote: Counting objects:  67% (54/80)   \u001b[K\rremote: Counting objects:  68% (55/80)   \u001b[K\rremote: Counting objects:  70% (56/80)   \u001b[K\rremote: Counting objects:  71% (57/80)   \u001b[K\rremote: Counting objects:  72% (58/80)   \u001b[K\rremote: Counting objects:  73% (59/80)   \u001b[K\rremote: Counting objects:  75% (60/80)   \u001b[K\rremote: Counting objects:  76% (61/80)   \u001b[K\rremote: Counting objects:  77% (62/80)   \u001b[K\rremote: Counting objects:  78% (63/80)   \u001b[K\rremote: Counting objects:  80% (64/80)   \u001b[K\rremote: Counting objects:  81% (65/80)   \u001b[K\rremote: Counting objects:  82% (66/80)   \u001b[K\rremote: Counting objects:  83% (67/80)   \u001b[K\rremote: Counting objects:  85% (68/80)   \u001b[K\rremote: Counting objects:  86% (69/80)   \u001b[K\rremote: Counting objects:  87% (70/80)   \u001b[K\rremote: Counting objects:  88% (71/80)   \u001b[K\rremote: Counting objects:  90% (72/80)   \u001b[K\rremote: Counting objects:  91% (73/80)   \u001b[K\rremote: Counting objects:  92% (74/80)   \u001b[K\rremote: Counting objects:  93% (75/80)   \u001b[K\rremote: Counting objects:  95% (76/80)   \u001b[K\rremote: Counting objects:  96% (77/80)   \u001b[K\rremote: Counting objects:  97% (78/80)   \u001b[K\rremote: Counting objects:  98% (79/80)   \u001b[K\rremote: Counting objects: 100% (80/80)   \u001b[K\rremote: Counting objects: 100% (80/80), done.\u001b[K\n",
            "remote: Compressing objects: 100% (78/78), done.\u001b[K\n",
            "remote: Total 7222 (delta 46), reused 5 (delta 2), pack-reused 7142\u001b[K\n",
            "Receiving objects: 100% (7222/7222), 275.78 MiB | 11.81 MiB/s, done.\n",
            "Resolving deltas: 100% (100/100), done.\n",
            "Checking out files: 100% (7207/7207), done.\n"
          ],
          "name": "stdout"
        }
      ]
    },
    {
      "metadata": {
        "id": "qSCjpWxsZX0p",
        "colab_type": "code",
        "outputId": "0c4c6e71-4608-4ae6-d876-aa2c87174a5e",
        "colab": {
          "base_uri": "https://localhost:8080/",
          "height": 158
        }
      },
      "cell_type": "code",
      "source": [
        "!apt-get install -y -qq software-properties-common python-software-properties module-init-tools\n",
        "!add-apt-repository -y ppa:alessandro-strada/ppa 2>&1 > /dev/null\n",
        "!apt-get update -qq 2>&1 > /dev/null\n",
        "!apt-get -y install -qq google-drive-ocamlfuse fuse\n",
        "from google.colab import auth\n",
        "auth.authenticate_user()\n",
        "from oauth2client.client import GoogleCredentials\n",
        "creds = GoogleCredentials.get_application_default()\n",
        "import getpass\n",
        "!google-drive-ocamlfuse -headless -id={creds.client_id} -secret={creds.client_secret} < /dev/null 2>&1 | grep URL\n",
        "vcode = getpass.getpass()\n",
        "!echo {vcode} | google-drive-ocamlfuse -headless -id={creds.client_id} -secret={creds.client_secret}"
      ],
      "execution_count": 0,
      "outputs": [
        {
          "output_type": "stream",
          "text": [
            "gpg: keybox '/tmp/tmpkjozxoll/pubring.gpg' created\n",
            "gpg: /tmp/tmpkjozxoll/trustdb.gpg: trustdb created\n",
            "gpg: key AD5F235DF639B041: public key \"Launchpad PPA for Alessandro Strada\" imported\n",
            "gpg: Total number processed: 1\n",
            "gpg:               imported: 1\n",
            "Warning: apt-key output should not be parsed (stdout is not a terminal)\n",
            "E: Unable to locate package google-drive-ocamlfuse\n"
          ],
          "name": "stdout"
        }
      ]
    },
    {
      "metadata": {
        "id": "cYMAzXgZxyeE",
        "colab_type": "code",
        "outputId": "9c9d8d0d-09f7-4c50-c617-35943ef66768",
        "colab": {
          "base_uri": "https://localhost:8080/",
          "height": 127
        }
      },
      "cell_type": "code",
      "source": [
        "from google.colab import drive\n",
        "drive.mount('/content/gdrive')"
      ],
      "execution_count": 3,
      "outputs": [
        {
          "output_type": "stream",
          "text": [
            "Go to this URL in a browser: https://accounts.google.com/o/oauth2/auth?client_id=947318989803-6bn6qk8qdgf4n4g3pfee6491hc0brc4i.apps.googleusercontent.com&redirect_uri=urn%3Aietf%3Awg%3Aoauth%3A2.0%3Aoob&scope=email%20https%3A%2F%2Fwww.googleapis.com%2Fauth%2Fdocs.test%20https%3A%2F%2Fwww.googleapis.com%2Fauth%2Fdrive%20https%3A%2F%2Fwww.googleapis.com%2Fauth%2Fdrive.photos.readonly%20https%3A%2F%2Fwww.googleapis.com%2Fauth%2Fpeopleapi.readonly&response_type=code\n",
            "\n",
            "Enter your authorization code:\n",
            "··········\n",
            "Mounted at /content/gdrive\n"
          ],
          "name": "stdout"
        }
      ]
    },
    {
      "metadata": {
        "id": "Aa0Cs6imaTpA",
        "colab_type": "code",
        "outputId": "07c71515-073a-4326-f419-dfad27b825c4",
        "colab": {
          "base_uri": "https://localhost:8080/",
          "height": 34
        }
      },
      "cell_type": "code",
      "source": [
        "!mkdir -p drive\n",
        "!google-drive-ocamlfuse drive"
      ],
      "execution_count": 0,
      "outputs": [
        {
          "output_type": "stream",
          "text": [
            "/bin/bash: google-drive-ocamlfuse: command not found\n"
          ],
          "name": "stdout"
        }
      ]
    },
    {
      "metadata": {
        "id": "L4LP_pvcWXyC",
        "colab_type": "code",
        "colab": {}
      },
      "cell_type": "code",
      "source": [
        "\n",
        "from keras.layers import Input, Dense, Conv3D, MaxPooling3D, UpSampling3D, Activation, BatchNormalization\n",
        "from keras.models import Model,load_model\n",
        "from keras.preprocessing import image\n",
        "from keras import backend as K\n",
        "from keras.optimizers import Adam\n",
        "from keras.utils import Sequence\n",
        "import cv2\n",
        "import numpy as np\n",
        "import os\n",
        "from tqdm import tqdm\n",
        "import fnmatch\n",
        "import scipy.misc\n",
        "from keras.models import load_model\n",
        "from keras import regularizers"
      ],
      "execution_count": 0,
      "outputs": []
    },
    {
      "metadata": {
        "id": "vVWGyvWv13fF",
        "colab_type": "code",
        "colab": {}
      },
      "cell_type": "code",
      "source": [
        "from keras.layers import Input, Dense, Conv3D, MaxPooling3D, UpSampling3D, Activation, BatchNormalization\n",
        "from keras.models import Model\n",
        "from keras.preprocessing import image\n",
        "from keras import backend as K\n",
        "import cv2\n",
        "import numpy as np\n",
        "import os\n",
        "from tqdm import tqdm\n",
        "import fnmatch\n",
        "import scipy.misc\n",
        "from keras.models import load_model\n",
        "import re\n",
        "TRAIN_DIR ='gdrive/My Drive/Data/DEIE/frames'\n",
        "TEST_DIR = 'gdrive/My Drive/Data/datasets/Test013'\n",
        "IMG_SIZE = 128\n",
        "\n",
        "\n",
        "\n",
        "def create_training_set():\n",
        "  \n",
        "  train_data = []\n",
        "  matches = []\n",
        "  partition = {'train':[]}\n",
        "  \n",
        "  for root, dirnames, filenames in tqdm(os.walk(TRAIN_DIR)):\n",
        "    \n",
        "    alist= dirnames\n",
        "    blist = filenames\n",
        "    alist.sort(key=natural_keys)\n",
        "    blist.sort(key=natural_keys)\n",
        "    \n",
        "    for filename in fnmatch.filter(filenames, \"*.jpg\"):\n",
        "     \n",
        "      path = os.path.join(root, filename)\n",
        "      partition['train'].append(path)\n",
        "      \n",
        "#       img = image.load_img(path, target_size=(128,128), grayscale = True)\n",
        "#       img_array = image.img_to_array(img)\n",
        "#       train_data.append(np.array(img_array))\n",
        "          \n",
        "#   np.save('training_data.npy' , train_data)\n",
        "\n",
        "  return partition\n",
        "\n",
        "def atof(text):\n",
        "    try:\n",
        "        retval = float(text)\n",
        "    except ValueError:\n",
        "        retval = text\n",
        "    return retval\n",
        "\n",
        "def natural_keys(text):\n",
        "    '''\n",
        "    alist.sort(key=natural_keys) sorts in human order\n",
        "    http://nedbatchelder.com/blog/200712/human_sorting.html\n",
        "    (See Toothy's implementation in the comments)\n",
        "    float regex comes from https://stackoverflow.com/a/12643073/190597\n",
        "    '''\n",
        "    return [ atof(c) for c in re.split(r'[+-]?([0-9]+(?:[.][0-9]*)?|[.][0-9]+)', text) ]\n",
        "\n",
        "      \n",
        "    \n",
        "\n",
        "\n",
        "def create_test_set():\n",
        "  \n",
        "  test_data = []\n",
        "  matches = []\n",
        "  \n",
        "  for root, dirnames, filenames in tqdm(os.walk(TEST_DIR)):\n",
        "   \n",
        "    alist= dirnames\n",
        "    blist = filenames\n",
        "    alist.sort(key=natural_keys)\n",
        "    blist.sort(key=natural_keys)\n",
        "\n",
        "    for filename in fnmatch.filter(filenames, \"*.tif\"):\n",
        "      path = os.path.join(root, filename)\n",
        "      img = image.load_img(path, target_size=(128,128), grayscale = True)\n",
        "      img_array = image.img_to_array(img)\n",
        "      test_data.append(np.array(img_array))\n",
        "          \n",
        "  np.save('test_data13.npy' , test_data)\n",
        "  \n",
        "  return test_data  "
      ],
      "execution_count": 0,
      "outputs": []
    },
    {
      "metadata": {
        "id": "b1yRhw50SpIC",
        "colab_type": "code",
        "colab": {}
      },
      "cell_type": "code",
      "source": [
        "VAL_DIR = 'gdrive/My Drive/Data/DEIE/ValidationData'\n",
        "def create_validation_set():\n",
        "  \n",
        " \n",
        "  val_set = {'validation':[]}\n",
        "  \n",
        "  for root, dirnames, filenames in tqdm(os.walk(VAL_DIR)):\n",
        "    \n",
        "    alist= dirnames\n",
        "    blist = filenames\n",
        "    alist.sort(key=natural_keys)\n",
        "    blist.sort(key=natural_keys)\n",
        "    \n",
        "    for filename in fnmatch.filter(filenames, \"*.jpg\"):\n",
        "     \n",
        "      path = os.path.join(root, filename)\n",
        "      val_set['validation'].append(path)\n",
        "      \n",
        "\n",
        "  return val_set\n",
        "\n",
        "def atof(text):\n",
        "    try:\n",
        "        retval = float(text)\n",
        "    except ValueError:\n",
        "        retval = text\n",
        "    return retval\n",
        "\n",
        "def natural_keys(text):\n",
        "    '''\n",
        "    alist.sort(key=natural_keys) sorts in human order\n",
        "    http://nedbatchelder.com/blog/200712/human_sorting.html\n",
        "    (See Toothy's implementation in the comments)\n",
        "    float regex comes from https://stackoverflow.com/a/12643073/190597\n",
        "    '''\n",
        "    return [ atof(c) for c in re.split(r'[+-]?([0-9]+(?:[.][0-9]*)?|[.][0-9]+)', text) ]\n",
        "\n",
        "      \n",
        "    \n"
      ],
      "execution_count": 0,
      "outputs": []
    },
    {
      "metadata": {
        "id": "m8BDl7HwQVqk",
        "colab_type": "code",
        "colab": {}
      },
      "cell_type": "code",
      "source": [
        "def create_cuboid(input_imgs):\n",
        "  \n",
        "  win_size = 16\n",
        "  m = input_imgs.shape[0]\n",
        "  h = input_imgs.shape[1]\n",
        "  w = input_imgs.shape[2]\n",
        "  c = input_imgs.shape[3]\n",
        "  \n",
        "#   a = []                                    # a python list to hold the windows\n",
        "  for i in range(0, input_imgs.shape[0]-win_size+1):\n",
        "    window = input_imgs[i:i+win_size,:,:,:].reshape((-1,h,w,c)) # each individual window\n",
        "    np.save('gdrive/My Drive/Data/data_ped1/id-'+ str(i)+ '.npy', window)\n",
        "#     a.append(window)\n",
        "#     print('i = ' + str(i))\n",
        "   \n",
        "#   cuboid = np.hstack(a)\n",
        "#   np.save('hyper_cuboid_win16.npy' , a)\n",
        "#   return a\n",
        "\n",
        "  \n",
        "  "
      ],
      "execution_count": 0,
      "outputs": []
    },
    {
      "metadata": {
        "id": "m4sTP0uiHbPh",
        "colab_type": "code",
        "colab": {}
      },
      "cell_type": "code",
      "source": [
        "def create_test_cuboid(input_imgs):\n",
        "  \n",
        "  win_size = 16\n",
        "  m = input_imgs.shape[0]\n",
        "  h = input_imgs.shape[1]\n",
        "  w = input_imgs.shape[2]\n",
        "  c = input_imgs.shape[3]\n",
        "  \n",
        "  t = []                                    # a python list to hold the windows\n",
        "  for i in range(0, input_imgs.shape[0]-win_size+1):\n",
        "    window = input_imgs[i:i+win_size,:,:,:].reshape((-1,h,w,c)) # each individual window\n",
        "    t.append(window)\n",
        "   \n",
        "#   cuboid = np.hstack(a)\n",
        "  np.save('test_hyper_cuboid_win16_13.npy' , t)\n",
        "  return t"
      ],
      "execution_count": 0,
      "outputs": []
    },
    {
      "metadata": {
        "id": "lvtAV2wTDepE",
        "colab_type": "code",
        "colab": {}
      },
      "cell_type": "code",
      "source": [
        "class DataGenerator(Sequence):\n",
        "    'Generates data for Keras'\n",
        "    def __init__(self, list_IDs,  batch_size=1, dim=(16,128,128), n_channels=1,\n",
        "                 shuffle=False):\n",
        "        'Initialization'\n",
        "        self.dim = dim\n",
        "        self.batch_size = batch_size\n",
        "        self.list_IDs = list_IDs\n",
        "        self.n_channels = n_channels\n",
        "        self.shuffle = shuffle\n",
        "        self.on_epoch_end()\n",
        "\n",
        "    def __len__(self):\n",
        "        'Denotes the number of batches per epoch'\n",
        "        return int(np.floor(len(self.list_IDs) / self.batch_size))\n",
        "\n",
        "    def __getitem__(self, index):\n",
        "        'Generate one batch of data'\n",
        "        # Generate indexes of the batch\n",
        "#         print(index)\n",
        "        indexes = self.indexes[index:index+16]\n",
        "\n",
        "        # Find list of IDs\n",
        "        list_IDs_temp = [self.list_IDs[k] for k in indexes]\n",
        "#         print('list_Ids ' + str(list_IDs_temp))\n",
        "        # Generate data\n",
        "        X,Y = self.__data_generation(list_IDs_temp)\n",
        "\n",
        "        return X,Y\n",
        "\n",
        "    def on_epoch_end(self):\n",
        "        'Updates indexes after each epoch'\n",
        "        self.indexes = np.arange(len(self.list_IDs))\n",
        "\n",
        "    def __data_generation(self, list_IDs_temp):\n",
        "        'Generates data containing batch_size samples' # X : (n_samples, *dim, n_channels)\n",
        "        # Initialization\n",
        "        X = np.empty((self.batch_size, *self.dim, self.n_channels))\n",
        "        Y = np.empty((self.batch_size, *self.dim, self.n_channels))\n",
        "\n",
        "        # Generate data\n",
        "        for i, ID in enumerate(list_IDs_temp):\n",
        "            # Store sample\n",
        "#             print('i is '+str(i) + 'Id is '+str(ID))\n",
        "            img = image.load_img(ID, target_size=(128,128), grayscale = True)\n",
        "            img_arry = image.img_to_array(img)\n",
        "            X[:,i,] = np.array(img_arry)\n",
        "            Y[:,i,] = X[:,i,]\n",
        "        X = X.astype('float32')/255\n",
        "        Y = Y.astype('float32')/255\n",
        "        return X,Y\n"
      ],
      "execution_count": 0,
      "outputs": []
    },
    {
      "metadata": {
        "id": "4p-mgJSe_08I",
        "colab_type": "code",
        "outputId": "23397993-db49-4030-cdca-ef2ac6b7223e",
        "colab": {
          "base_uri": "https://localhost:8080/",
          "height": 53
        }
      },
      "cell_type": "code",
      "source": [
        "partition = create_training_set()\n",
        "validation = create_validation_set()\n",
        "params = {'dim': (16,128,128),\n",
        "          'batch_size': 1,\n",
        "          'n_channels': 1,\n",
        "          'shuffle': False}\n",
        "train_gen = DataGenerator(**params, list_IDs=partition['train'])\n",
        "validation_gen = DataGenerator(**params, list_IDs=validation['validation'])"
      ],
      "execution_count": 14,
      "outputs": [
        {
          "output_type": "stream",
          "text": [
            "20it [00:00, 63.33it/s]\n",
            "10it [00:00, 77.78it/s]\n"
          ],
          "name": "stderr"
        }
      ]
    },
    {
      "metadata": {
        "id": "IdovfU1iMDqt",
        "colab_type": "code",
        "colab": {}
      },
      "cell_type": "code",
      "source": [
        "import json\n",
        "\n",
        "\n",
        "with open('gdrive/My Drive/Final year project/partition/train_dictionary.json', 'w') as f: \n",
        "  json.dump(partition)\n",
        "   \n",
        "with open('gdrive/My Drive/Final year project/partition/train_dictionary.json', 'w') as f: \n",
        "  json.dump(partition)\n"
      ],
      "execution_count": 0,
      "outputs": []
    },
    {
      "metadata": {
        "id": "dA4hrMzvZZAF",
        "colab_type": "code",
        "outputId": "1afe2a23-b7a2-405d-fce2-0844f2fbe7d7",
        "colab": {
          "base_uri": "https://localhost:8080/",
          "height": 35
        }
      },
      "cell_type": "code",
      "source": [
        "print(len(validation['validation']))"
      ],
      "execution_count": 12,
      "outputs": [
        {
          "output_type": "stream",
          "text": [
            "7600\n"
          ],
          "name": "stdout"
        }
      ]
    },
    {
      "metadata": {
        "id": "YsFMyhC32c28",
        "colab_type": "code",
        "colab": {}
      },
      "cell_type": "code",
      "source": [
        "\n",
        "def model_autoencoder():\n",
        "  \n",
        "  input_img  = Input(shape = (16,128,128,1))  #channel last\n",
        "  \n",
        "  x = Conv3D(filters = 32, kernel_size = (3,3,3),strides = (1,1,1) , padding ='same' , kernel_initializer = 'glorot_uniform',kernel_regularizer=regularizers.l2(0.01))(input_img)\n",
        "  x = BatchNormalization(axis = 4)(x)\n",
        "  x = Activation('relu')(x)\n",
        "  x = MaxPooling3D(pool_size = (2,2,2), strides = (2,2,2))(x)\n",
        "  print(\"layer one conv \" + str(x.shape))\n",
        "  \n",
        "  x = Conv3D(filters = 48, kernel_size = (3,3,3),strides = (1,1,1) , padding ='same' ,kernel_regularizer=regularizers.l2(0.01), kernel_initializer = 'glorot_uniform')(x)\n",
        "  x = BatchNormalization(axis = 4)(x)\n",
        "  x = Activation('relu')(x)\n",
        "  x = MaxPooling3D(pool_size = (2,2,2), strides = (2,2,2))(x)\n",
        "  print(\"layer two conv \" + str(x.shape))\n",
        "  \n",
        " \n",
        "  x = Conv3D(filters = 64, kernel_size = (3,3,3),strides = (1,1,1) , padding ='same' , kernel_initializer = 'glorot_uniform',kernel_regularizer=regularizers.l2(0.01))(x)\n",
        "  x = BatchNormalization(axis = 4)(x)\n",
        "  x = Activation('relu')(x)\n",
        "  x = MaxPooling3D(pool_size = (2,2,2), strides = (2,2,2), padding= 'same')(x)\n",
        "  print(\"layer three conv \" + str(x.shape))\n",
        "  \n",
        "  x = Conv3D(filters = 64, kernel_size = (3,3,3),strides = (1,1,1) , padding ='same' , kernel_initializer = 'glorot_uniform',kernel_regularizer=regularizers.l2(0.01))(x)\n",
        "  x = BatchNormalization(axis = 4)(x)\n",
        "  x = Activation('relu')(x)\n",
        "  encoded = MaxPooling3D(pool_size = (1,1,1), strides = (1,1,1))(x)\n",
        "  print(\"layer four conv \" + str(encoded.shape))\n",
        "  \n",
        "  \n",
        "  ## decoder branch\n",
        "  \n",
        "  x = Conv3D(filters = 48, kernel_size = (3,3,3),strides = (1,1,1) , padding ='same' , kernel_initializer = 'glorot_uniform',kernel_regularizer=regularizers.l2(0.01))(encoded)\n",
        "  x = UpSampling3D(size = (2,2,2))(x)\n",
        "  x = BatchNormalization(axis = 4)(x)\n",
        "  x = Activation('relu')(x)\n",
        "  print(\"layer one deconv \" + str(x.shape))\n",
        " \n",
        "  x = Conv3D(filters = 32, kernel_size = (3,3,3),strides = (1,1,1) , padding ='same' , kernel_initializer = 'glorot_uniform',kernel_regularizer=regularizers.l2(0.01))(x)\n",
        "  x = UpSampling3D(size = (2,2,2))(x)\n",
        "  x = BatchNormalization(axis = 4)(x)\n",
        "  x = Activation('relu')(x)\n",
        "  print(\"layer two deconv \" + str(x.shape))\n",
        "  \n",
        "  x = Conv3D(filters = 32, kernel_size = (3,3,3),strides = (1,1,1) , padding ='same' , kernel_initializer = 'glorot_uniform',kernel_regularizer=regularizers.l2(0.01))(x)\n",
        "  x = UpSampling3D(size = (2,2,2))(x)\n",
        "  x = BatchNormalization(axis = 4)(x)\n",
        "  x = Activation('relu')(x)\n",
        "  print(\"layer three deconv \" + str(x.shape))\n",
        "  decoded = Conv3D(filters = 1, kernel_size = (3,3,3), strides = (1,1,1), padding = 'same', activation = 'sigmoid',kernel_regularizer=regularizers.l2(0.01))(x)\n",
        "  print(\"output\" + str(decoded.shape))\n",
        "\n",
        "  \n",
        "  \n",
        "  autoencoder = Model(input_img, decoded)\n",
        "  \n",
        "  return autoencoder\n",
        "  "
      ],
      "execution_count": 0,
      "outputs": []
    },
    {
      "metadata": {
        "id": "AGyd2_CuayaY",
        "colab_type": "code",
        "outputId": "43c1a6af-9d26-47ed-f421-14c0a1b3c879",
        "colab": {
          "base_uri": "https://localhost:8080/",
          "height": 161
        }
      },
      "cell_type": "code",
      "source": [
        "autoencoder = model_autoencoder()\n",
        "autoencoder.compile(optimizer = 'adam' , loss = 'mean_squared_error', metrics = ['acc'])"
      ],
      "execution_count": 0,
      "outputs": [
        {
          "output_type": "stream",
          "text": [
            "layer one conv (?, 8, 64, 64, 32)\n",
            "layer two conv (?, 4, 32, 32, 48)\n",
            "layer three conv (?, 2, 16, 16, 64)\n",
            "layer four conv (?, 2, 16, 16, 64)\n",
            "layer one deconv (?, 4, 32, 32, 48)\n",
            "layer two deconv (?, 8, 64, 64, 32)\n",
            "layer three deconv (?, 16, 128, 128, 32)\n",
            "output(?, 16, 128, 128, 1)\n"
          ],
          "name": "stdout"
        }
      ]
    },
    {
      "metadata": {
        "id": "B5NfZwuC0x88",
        "colab_type": "code",
        "colab": {}
      },
      "cell_type": "code",
      "source": [
        "autoencoder = load_model('gdrive/My Drive/Final year project/DEIE_Models/deieModel2-02.h5')"
      ],
      "execution_count": 0,
      "outputs": []
    },
    {
      "metadata": {
        "id": "lk1NJ1Q8Mmku",
        "colab_type": "code",
        "outputId": "ddb26442-6015-455c-96e5-6f47d0fd769f",
        "colab": {
          "base_uri": "https://localhost:8080/",
          "height": 136
        }
      },
      "cell_type": "code",
      "source": [
        "from keras.callbacks import Callback, ModelCheckpoint\n",
        "from keras.callbacks import ReduceLROnPlateau\n",
        "class LossHistory(Callback):\n",
        "    def on_train_begin(self, logs={}):\n",
        "        self.losses = []\n",
        "\n",
        "    def on_batch_end(self, batch, logs={}):\n",
        "        self.losses.append(logs.get('loss'))\n",
        "        \n",
        "history = LossHistory() \n",
        "file_path = 'gdrive/My Drive/Final year project/DEIE_Models/deieModel3-{epoch:02d}.h5'\n",
        "check_pointer = ModelCheckpoint(filepath= file_path)\n",
        "reduce_lr = ReduceLROnPlateau(monitor='val_loss', factor=0.1,\n",
        "                              patience=2 ,min_lr=0.00001,\n",
        "                              verbose=1 )\n",
        "\n",
        "# img_cuboids = np.load('hyper_cuboid_win16.npy')       \n",
        "model_history = autoencoder.fit_generator(generator = train_gen, \n",
        "                                          epochs =5,\n",
        "                                          validation_data = validation_gen,\n",
        "                                          callbacks=[history, check_pointer,reduce_lr], \n",
        "                                          shuffle = False)  \n"
      ],
      "execution_count": 16,
      "outputs": [
        {
          "output_type": "error",
          "ename": "SyntaxError",
          "evalue": "ignored",
          "traceback": [
            "\u001b[0;36m  File \u001b[0;32m\"<ipython-input-16-ab53c19a1420>\"\u001b[0;36m, line \u001b[0;32m21\u001b[0m\n\u001b[0;31m    callbacks=[history, check_pointer,reduce_lr],\u001b[0m\n\u001b[0m            ^\u001b[0m\n\u001b[0;31mSyntaxError\u001b[0m\u001b[0;31m:\u001b[0m invalid syntax\n"
          ]
        }
      ]
    },
    {
      "metadata": {
        "id": "CpE59IPNQvQt",
        "colab_type": "code",
        "outputId": "85a21ba6-bd28-4ea9-a1b2-ac29f354349c",
        "colab": {
          "base_uri": "https://localhost:8080/",
          "height": 35
        }
      },
      "cell_type": "code",
      "source": [
        "# create_training_set()\n",
        "# input_imgs = np.load('training_data.npy')\n",
        "# create_cuboid(input_imgs)\n",
        "img_cuboids = np.load('gdrive/My Drive/Data/hyper_cuboid_new_win16.npy')\n",
        "print(\"hyper cuboid loaded\")\n",
        "# img_cuboids = img_cuboids.astype('float32') / 255.\n",
        "# print(\"data normalized\")\n",
        "# K.clear_session()\n",
        "# autoencoder = model_autoencoder()\n",
        "# autoencoder.compile(optimizer = 'adam' , loss = 'mean_squared_error', metrics = ['acc'])\n",
        "# print(\"model compiled\")\n",
        "# autoencoder.fit(img_cuboids,img_cuboids,  epochs =10, batch_size= 32)\n",
        "# print(\"model fitted\")\n",
        "  \n",
        "    "
      ],
      "execution_count": 0,
      "outputs": [
        {
          "output_type": "stream",
          "text": [
            "hyper cuboid loaded\n"
          ],
          "name": "stdout"
        }
      ]
    },
    {
      "metadata": {
        "id": "VFOQ0OHv0zMk",
        "colab_type": "code",
        "colab": {}
      },
      "cell_type": "code",
      "source": [
        "autoencoder.save('deie1.h5')\n",
        "autoencoder.save('gdrive/My Drive/Data/new_model_win16_iter1.h5')\n"
      ],
      "execution_count": 0,
      "outputs": []
    },
    {
      "metadata": {
        "id": "SS4bZ2pAd2tJ",
        "colab_type": "code",
        "colab": {}
      },
      "cell_type": "code",
      "source": [
        "autoencoder = load_model('gdrive/My Drive/Final year project/DEIE_Models/deieModel-02.h5')"
      ],
      "execution_count": 0,
      "outputs": []
    },
    {
      "metadata": {
        "id": "GZ-7OkUc1DGE",
        "colab_type": "code",
        "outputId": "67b4de80-371a-4f7d-85ba-900f12b24535",
        "colab": {
          "base_uri": "https://localhost:8080/",
          "height": 34
        }
      },
      "cell_type": "code",
      "source": [
        "train_loss = np.array(history.losses)\n",
        "# train_loss = train_loss[16965-6785:16965]\n",
        "# train_loss_normed = np.linalg.norm(train_loss)\n",
        "min_ex = min(train_loss)\n",
        "max_ex = max(train_loss)\n",
        "\n",
        "print('minimum loss = ' + str(min_ex) + 'maximum loss= ' + str(max_ex)+ 'train losss = '+str(train_loss.shape))"
      ],
      "execution_count": 0,
      "outputs": [
        {
          "output_type": "stream",
          "text": [
            "minimum loss = 0.0006428565maximum loss= 0.0050993245train losss = (1697,)\n"
          ],
          "name": "stdout"
        }
      ]
    },
    {
      "metadata": {
        "id": "aTSQcBIGHE9f",
        "colab_type": "code",
        "outputId": "066d9d8d-3354-4b89-8b69-c1ed7fdc2d50",
        "colab": {
          "base_uri": "https://localhost:8080/",
          "height": 53
        }
      },
      "cell_type": "code",
      "source": [
        "get_test_data = create_test_set()\n",
        "test_imgs = np.load('test_data13.npy')\n",
        "test_imgs = test_imgs.astype('float32') / 255.\n",
        "create_test_cuboid(test_imgs)\n",
        "test_cuboid = np.load('test_hyper_cuboid_win16_13.npy')\n",
        "\n",
        "print('data loaded')\n",
        "\n",
        "\n"
      ],
      "execution_count": 0,
      "outputs": [
        {
          "output_type": "stream",
          "text": [
            "1it [01:11, 71.95s/it]\n"
          ],
          "name": "stderr"
        },
        {
          "output_type": "stream",
          "text": [
            "data loaded\n"
          ],
          "name": "stdout"
        }
      ]
    },
    {
      "metadata": {
        "id": "s8tKCblY8_TN",
        "colab_type": "code",
        "outputId": "c35bf330-a89f-4f8f-a916-d5b3cfbed3fc",
        "colab": {
          "base_uri": "https://localhost:8080/",
          "height": 35
        }
      },
      "cell_type": "code",
      "source": [
        "print(test_cuboid.shape)"
      ],
      "execution_count": 0,
      "outputs": [
        {
          "output_type": "stream",
          "text": [
            "(185, 16, 128, 128, 1)\n"
          ],
          "name": "stdout"
        }
      ]
    },
    {
      "metadata": {
        "id": "Uw3pz12GwE98",
        "colab_type": "code",
        "colab": {}
      },
      "cell_type": "code",
      "source": [
        "for i in range(1):\n",
        "  for j in range(16):\n",
        "    scipy.misc.imsave('drive/My Drive/Data/blah'+str(j)+'.png', np.squeeze(test_cuboid[i][j], axis = 2))\n",
        "#   sq_img = np.squeeze(test_cuboid[n][1], axis = 2)\n",
        "#   sq_img = sq_img*255\n",
        "#   sq_img = sq_img.astype('uint8')\n",
        "\n",
        "#   dec_img = np.squeeze(decode_imgs[n][1], axis = 2)\n",
        "#   dec_img = dec_img*255\n",
        "#   dec_img = dec_img.astype('uint8')\n",
        "\n",
        "  \n",
        "#   scipy.misc.imsave('drive/Data/dec'+str(n)+'.png', dec_img)\n",
        "  "
      ],
      "execution_count": 0,
      "outputs": []
    },
    {
      "metadata": {
        "id": "3FtwjpLWiDK3",
        "colab_type": "code",
        "colab": {}
      },
      "cell_type": "code",
      "source": [
        "decode_imgs = autoencoder.predict(test_cuboid)"
      ],
      "execution_count": 0,
      "outputs": []
    },
    {
      "metadata": {
        "id": "N-DVJ0-4I1Py",
        "colab_type": "code",
        "outputId": "0f870824-c13d-4f1b-a8fb-dcee64ca979b",
        "colab": {
          "base_uri": "https://localhost:8080/",
          "height": 269
        }
      },
      "cell_type": "code",
      "source": [
        "print(np.squeeze(decode_imgs[1][1]))\n",
        "print(np.squeeze(test_cuboid[1][1]))"
      ],
      "execution_count": 0,
      "outputs": [
        {
          "output_type": "stream",
          "text": [
            "[[0.3665918  0.31407773 0.4027053  ... 0.33415452 0.15355128 0.2725734 ]\n",
            " [0.28767076 0.25165272 0.4176241  ... 0.33526462 0.19010405 0.32217863]\n",
            " [0.3285036  0.36008832 0.26042366 ... 0.3353285  0.29230455 0.4493007 ]\n",
            " ...\n",
            " [0.41672572 0.41849038 0.41418377 ... 0.6470401  0.66060466 0.75101554]\n",
            " [0.43709612 0.44734138 0.4424473  ... 0.6860009  0.67404884 0.7712986 ]\n",
            " [0.439424   0.4661526  0.475611   ... 0.72254467 0.70244664 0.7338248 ]]\n",
            "[[0.34901962 0.30588236 0.3882353  ... 0.31764707 0.16078432 0.26666668]\n",
            " [0.2509804  0.26666668 0.41568628 ... 0.32156864 0.1764706  0.31764707]\n",
            " [0.30980393 0.36862746 0.2627451  ... 0.34117648 0.2784314  0.49803922]\n",
            " ...\n",
            " [0.40784314 0.4        0.40784314 ... 0.654902   0.6627451  0.7137255 ]\n",
            " [0.44705883 0.4627451  0.45490196 ... 0.67058825 0.64705884 0.72156864]\n",
            " [0.4627451  0.4627451  0.4745098  ... 0.69411767 0.6666667  0.7372549 ]]\n"
          ],
          "name": "stdout"
        }
      ]
    },
    {
      "metadata": {
        "id": "AsGATYK79HnP",
        "colab_type": "code",
        "colab": {}
      },
      "cell_type": "code",
      "source": [
        "real_img = np.load('test_data.npy')\n",
        "\tdiff=x1-x2\n",
        "\ta,b,c,d,e=diff.shape\n",
        "\tn_samples=a*b*c*d*e\n",
        "\tsq_diff=diff**2\n",
        "\tSum=sq_diff.sum()\n",
        "\tdist=np.sqrt(Sum)\n",
        "\tmean_dist=dist/n_samples\n",
        "\n",
        "\treturn mean_dist"
      ],
      "execution_count": 0,
      "outputs": []
    },
    {
      "metadata": {
        "id": "IOgtugVD23y7",
        "colab_type": "code",
        "colab": {}
      },
      "cell_type": "code",
      "source": [
        "def calculate_score(input_img, reconstructed_img):\n",
        "  diff = input_img - reconstructed_img\n",
        "  a,b,c=diff.shape\n",
        "  n_samples=a*b*c\n",
        "  sq_diff=diff**2\n",
        "  Sum=sq_diff.sum()\n",
        "  dist=np.sqrt(Sum)\n",
        "  mean_dist=dist/n_samples\n",
        "  return mean_dist\n",
        "  "
      ],
      "execution_count": 0,
      "outputs": []
    },
    {
      "metadata": {
        "id": "Dcv6mNCeZBWW",
        "colab_type": "code",
        "colab": {}
      },
      "cell_type": "code",
      "source": [
        "def calculate_costs(img_size, win_size):\n",
        "  \n",
        "  input_size = img_size+win_size\n",
        "  costs = np.zeros(img_size+win_size-1, dtype= float)\n",
        "#   if img_size+win_size > num_input:\n",
        "#     break\n",
        "    \n",
        "  for i in range(0, img_size):\n",
        "    for k in range(win_size):\n",
        "      temp = np.squeeze(test_cuboid[i])-np.squeeze(decode_imgs[i][k])\n",
        "      costs[i+k]= np.linalg.norm(temp)\n",
        "\t\t\t\n",
        "  \n",
        "  np.save('costs.npy',costs)\n",
        "  return costs\n",
        "    \n",
        "  \n",
        "  \n",
        "  \n",
        "  "
      ],
      "execution_count": 0,
      "outputs": []
    },
    {
      "metadata": {
        "id": "fW7wqYVX3_wN",
        "colab_type": "code",
        "colab": {}
      },
      "cell_type": "code",
      "source": [
        "def calculate_costs_tset(img_size, win_size):\n",
        "  \n",
        "  input_size = img_size+win_size\n",
        "  costs = np.zeros(img_size+win_size-1, dtype= float)\n",
        "#   if img_size+win_size > num_input:\n",
        "#     break\n",
        "    \n",
        "  for i in range(0, img_size):\n",
        "    for k in range(win_size):\n",
        "#       temp = np.squeeze(test_cuboid[i][k])-np.squeeze(decode_imgs[i][k])\n",
        "      temp = calculate_score(test_cuboid[i][k],decode_imgs[i][k])\n",
        "      costs[i+k]= np.linalg.norm(temp)\n",
        "\t\t\t\n",
        "  \n",
        "  np.save('test_costs_test.npy',costs)\n",
        "  return costs\n",
        "    "
      ],
      "execution_count": 0,
      "outputs": []
    },
    {
      "metadata": {
        "id": "LX2SbSKdiYY-",
        "colab_type": "code",
        "outputId": "8eab56bf-a622-4e73-8ae1-9d21b5f97ff5",
        "colab": {
          "base_uri": "https://localhost:8080/",
          "height": 34
        }
      },
      "cell_type": "code",
      "source": [
        "print(np.linalg.norm(np.squeeze(decode_imgs[1][2])-np.squeeze(test_cuboid[1][2])))"
      ],
      "execution_count": 0,
      "outputs": [
        {
          "output_type": "stream",
          "text": [
            "7.740723\n"
          ],
          "name": "stdout"
        }
      ]
    },
    {
      "metadata": {
        "id": "sIoIMEsGfQ8o",
        "colab_type": "code",
        "outputId": "0e154a5a-d7b5-4427-9eb5-860946d2a6bf",
        "colab": {
          "base_uri": "https://localhost:8080/",
          "height": 629
        }
      },
      "cell_type": "code",
      "source": [
        "calculate_costs(test_cuboid.shape[0],16)\n",
        "cost_val = np.load('costs.npy')\n",
        "print(cost_val)\n"
      ],
      "execution_count": 0,
      "outputs": [
        {
          "output_type": "stream",
          "text": [
            "[45.56664276 45.96834564 46.34439087 46.65560532 46.8166008  46.82033157\n",
            " 46.71285629 46.45462036 46.31354141 46.21473694 46.06408691 46.08926773\n",
            " 46.07445908 46.02218628 45.87091827 45.6737442  45.54132843 45.39936066\n",
            " 45.3204422  45.20293808 44.95856094 44.69622803 44.54750824 44.39567947\n",
            " 44.44113922 44.50605774 44.34347534 44.15657806 44.23666382 44.31383896\n",
            " 44.46660995 44.75284576 44.93671036 44.88977432 44.72796249 44.44228363\n",
            " 44.22872543 43.83961105 43.57062149 43.56618118 43.69816971 43.9232254\n",
            " 44.15531921 44.12902069 43.99019241 43.62126923 43.17108154 42.71552277\n",
            " 42.47335434 42.33099747 42.35348129 42.36640167 42.45692062 42.74806976\n",
            " 43.12636566 43.47488022 43.67025757 43.52616882 43.27047348 43.28398895\n",
            " 43.41221619 43.51791    43.73514175 43.78274155 43.87152863 43.81866074\n",
            " 43.90690994 44.1456871  44.20573044 44.18507004 44.27777481 44.47150421\n",
            " 44.53787994 44.15016174 43.85331726 43.7754097  43.81142426 43.60419083\n",
            " 43.66697311 43.67214584 43.69627762 43.66583633 43.68174744 43.79227448\n",
            " 44.01418304 44.29755783 44.58114624 44.94345093 45.0528183  45.38081741\n",
            " 45.38626099 45.5145874  45.81129456 45.97209167 45.79130554 45.61557388\n",
            " 45.52449417 45.5957222  45.84424591 46.09513855 46.35584641 46.60883331\n",
            " 46.77204895 46.88473892 46.5369606  46.04706955 45.75841522 45.5691185\n",
            " 45.47044754 45.58503342 45.65829086 45.94388962 46.25653839 46.14803314\n",
            " 46.21289062 46.22540283 45.97841644 45.82478714 45.78580856 45.67787933\n",
            " 45.84729004 45.86138916 45.32522583 44.6503334  44.08768845 43.69029236\n",
            " 43.6570282  43.62998581 43.78432846 43.6883049  43.59613419 43.37667084\n",
            " 43.17713547 42.91945267 42.45632935 42.09529114 42.01494598 41.88562775\n",
            " 41.72647095 41.58583832 41.32241821 40.91120148 40.42017746 40.16010666\n",
            " 39.98538589 39.8505249  39.62445068 39.39817047 38.96692657 38.71079636\n",
            " 38.51119995 38.40088654 38.30418396 38.32138824 38.31393814 38.29297638\n",
            " 38.32846832 38.13208389 38.12932587 38.32845688 38.61450195 38.96350861\n",
            " 39.21112442 39.31802368 39.37681198 39.51099777 39.56932449 39.54618835\n",
            " 39.44961166 39.53197861 39.59870529 39.57806778 39.48274994 39.3533783\n",
            " 39.20319366 39.07219696 38.93690109 38.77850342 38.50030136 38.32324982\n",
            " 38.04975891 37.69438553 37.36063004 37.22672653 37.08291245 36.37097168\n",
            " 36.30649567 35.63616562 34.84923553 34.21353531 33.7290802  33.45495987\n",
            " 33.69567108 34.15673828 34.72165298 35.27488327 35.66837311 36.1907196\n",
            " 36.04802322 37.16732788]\n"
          ],
          "name": "stdout"
        }
      ]
    },
    {
      "metadata": {
        "id": "daCMtk648ijC",
        "colab_type": "code",
        "colab": {}
      },
      "cell_type": "code",
      "source": [
        "print(cost_val)"
      ],
      "execution_count": 0,
      "outputs": []
    },
    {
      "metadata": {
        "id": "DzbEhh2OgobR",
        "colab_type": "code",
        "colab": {}
      },
      "cell_type": "code",
      "source": [
        "cost_val1 = np.load('test_costs_win8_iter2.npy')"
      ],
      "execution_count": 0,
      "outputs": []
    },
    {
      "metadata": {
        "id": "IBvqBf4Z4p9A",
        "colab_type": "code",
        "outputId": "0d4ae804-2908-4677-9f3f-1c7984814d3f",
        "colab": {
          "base_uri": "https://localhost:8080/",
          "height": 35
        }
      },
      "cell_type": "code",
      "source": [
        "score = cost_val - min(cost_val)\n",
        "score = 1 - (score/max(score))\n",
        "print('maximum score = ' +str(max(score))+ 'min score = ' + str(min(score)))"
      ],
      "execution_count": 0,
      "outputs": [
        {
          "output_type": "stream",
          "text": [
            "maximum score = 1.0min score = 0.0\n"
          ],
          "name": "stdout"
        }
      ]
    },
    {
      "metadata": {
        "id": "3CwLp55F5FTQ",
        "colab_type": "code",
        "outputId": "7649ae83-2d7d-49b8-bcd7-8d4b6370d7e2",
        "colab": {
          "base_uri": "https://localhost:8080/",
          "height": 629
        }
      },
      "cell_type": "code",
      "source": [
        "print(score)"
      ],
      "execution_count": 0,
      "outputs": [
        {
          "output_type": "stream",
          "text": [
            "[0.09814727 0.06823592 0.04023507 0.01706161 0.00507366 0.00479586\n",
            " 0.01279862 0.03202723 0.04253216 0.04988928 0.06110689 0.05923189\n",
            " 0.06033456 0.06422687 0.07549049 0.09017235 0.10003221 0.11060333\n",
            " 0.11647971 0.12522923 0.14342589 0.16295956 0.17403344 0.18533882\n",
            " 0.18195383 0.1771199  0.18922602 0.20314265 0.19717935 0.19143278\n",
            " 0.18005724 0.15874373 0.14505291 0.14854783 0.16059657 0.18186861\n",
            " 0.19777045 0.22674445 0.24677379 0.24710442 0.23727637 0.22051841\n",
            " 0.20323638 0.20519461 0.21553195 0.24300249 0.27652409 0.31044563\n",
            " 0.32847782 0.33907791 0.33740374 0.33644167 0.3297015  0.30802213\n",
            " 0.27985369 0.25390281 0.23935475 0.25008379 0.26912322 0.26811684\n",
            " 0.25856887 0.25069876 0.23452338 0.23097903 0.22436782 0.22830444\n",
            " 0.22173328 0.2039536  0.19948269 0.20102109 0.19411817 0.17969281\n",
            " 0.17475038 0.20362041 0.22572387 0.23152497 0.22884328 0.24427417\n",
            " 0.23959931 0.23921414 0.23741726 0.23968396 0.23849919 0.2302692\n",
            " 0.21374558 0.1926451  0.17152871 0.144551   0.13640735 0.11198408\n",
            " 0.11157875 0.10202339 0.07993016 0.06795698 0.08141857 0.09450379\n",
            " 0.10128571 0.09598198 0.07747655 0.05879474 0.03938207 0.02054431\n",
            " 0.00839105 0.         0.02589606 0.06237402 0.08386763 0.09796292\n",
            " 0.1053101  0.09677788 0.09132303 0.07005695 0.04677668 0.05485614\n",
            " 0.05002676 0.04909508 0.06748603 0.07892548 0.08182788 0.08986444\n",
            " 0.07724988 0.07620004 0.11612351 0.16637694 0.20827226 0.23786293\n",
            " 0.24033982 0.24235344 0.23086087 0.23801092 0.24487408 0.26121562\n",
            " 0.2760733  0.29526072 0.32974553 0.35662893 0.36261155 0.37224076\n",
            " 0.3840918  0.3945635  0.41417813 0.44479789 0.48136022 0.50072546\n",
            " 0.51373541 0.52377735 0.54061115 0.55746028 0.5895713  0.60864312\n",
            " 0.62350534 0.63171943 0.63892004 0.63763898 0.63819373 0.63975457\n",
            " 0.63711179 0.65173485 0.65194022 0.63711264 0.61581333 0.58982581\n",
            " 0.57138799 0.56342813 0.55905067 0.54905901 0.54471592 0.54643867\n",
            " 0.5536299  0.54749674 0.54252818 0.54406488 0.55116238 0.56079557\n",
            " 0.57197853 0.58173272 0.59180704 0.60360155 0.62431687 0.63750037\n",
            " 0.65786488 0.68432648 0.70917838 0.71914902 0.72985761 0.78286971\n",
            " 0.78767068 0.83758439 0.8961803  0.94351542 0.97958862 1.\n",
            " 0.98207631 0.9477446  0.90568027 0.86448598 0.83518618 0.79629153\n",
            " 0.8069169  0.72357192]\n"
          ],
          "name": "stdout"
        }
      ]
    },
    {
      "metadata": {
        "id": "27uyGTNWc61q",
        "colab_type": "code",
        "outputId": "d3e65af0-af57-49d4-a3d6-c38f93f13d0d",
        "colab": {
          "base_uri": "https://localhost:8080/",
          "height": 347
        }
      },
      "cell_type": "code",
      "source": [
        "import matplotlib.pyplot as plt\n",
        "# plt.plot(score1)\n",
        "plt.plot(score)\n",
        "# plt.legend(['epoch 47', 'epoch 35'], loc='upper left')\n",
        "plt.show()\n"
      ],
      "execution_count": 0,
      "outputs": [
        {
          "output_type": "display_data",
          "data": {
            "image/png": "[encoded data removed]",
            "text/plain": [
              "<matplotlib.figure.Figure at 0x7f4043f37ef0>"
            ]
          },
          "metadata": {
            "tags": []
          }
        }
      ]
    },
    {
      "metadata": {
        "id": "Q7hdos1PS9UW",
        "colab_type": "code",
        "colab": {}
      },
      "cell_type": "code",
      "source": [
        "import matplotlib.pyplot as plt\n",
        "from PIL import Image\n",
        "\n",
        "for n in range(100,125):\n",
        "  sq_img = np.squeeze(test_cuboid[n][1], axis = 2)\n",
        "  sq_img = sq_img*255\n",
        "  sq_img = sq_img.astype('uint8')\n",
        "\n",
        "  dec_img = np.squeeze(decode_imgs[n][1], axis = 2)\n",
        "  dec_img = dec_img*255\n",
        "  dec_img = dec_img.astype('uint8')\n",
        "\n",
        "  scipy.misc.imsave('drive/Data/testimage'+str(n)+'.png', sq_img)\n",
        "  scipy.misc.imsave('drive/Data/dec'+str(n)+'.png', dec_img)\n",
        "\n",
        "\n",
        "# plt.imshow(sq_img)"
      ],
      "execution_count": 0,
      "outputs": []
    },
    {
      "metadata": {
        "id": "kwHY8hK-xENB",
        "colab_type": "code",
        "outputId": "d53d3b70-fb45-4f05-b282-94d363633c94",
        "colab": {
          "base_uri": "https://localhost:8080/",
          "height": 367
        }
      },
      "cell_type": "code",
      "source": [
        "plt.imshow(np.squeeze(decode_imgs[1][1], axis = 2))\n",
        "  "
      ],
      "execution_count": 0,
      "outputs": [
        {
          "output_type": "execute_result",
          "data": {
            "text/plain": [
              "<matplotlib.image.AxesImage at 0x7fc73874b588>"
            ]
          },
          "metadata": {
            "tags": []
          },
          "execution_count": 52
        },
        {
          "output_type": "display_data",
          "data": {
            "image/png": "[encoded data removed]",
            "text/plain": [
              "<matplotlib.figure.Figure at 0x7fc7511c9f60>"
            ]
          },
          "metadata": {
            "tags": []
          }
        }
      ]
    },
    {
      "metadata": {
        "id": "2TIYGRB0f57D",
        "colab_type": "code",
        "outputId": "f2c61b49-6b13-41fe-8c72-32b4640fafab",
        "colab": {
          "base_uri": "https://localhost:8080/",
          "height": 53
        }
      },
      "cell_type": "code",
      "source": [
        "autoencoder_model.evaluate(test_cuboid, test_cuboid)\n"
      ],
      "execution_count": 0,
      "outputs": [
        {
          "output_type": "stream",
          "text": [
            "193/193 [==============================] - 4s 21ms/step\n"
          ],
          "name": "stdout"
        },
        {
          "output_type": "execute_result",
          "data": {
            "text/plain": [
              "[0.00776640931385632, 1.1977754108646373e-05, 0.05647316436075794]"
            ]
          },
          "metadata": {
            "tags": []
          },
          "execution_count": 75
        }
      ]
    },
    {
      "metadata": {
        "id": "awEV6CRBIMaY",
        "colab_type": "text"
      },
      "cell_type": "markdown",
      "source": [
        ""
      ]
    },
    {
      "metadata": {
        "id": "48DhaLLsgQm9",
        "colab_type": "code",
        "colab": {}
      },
      "cell_type": "code",
      "source": [
        "import pydot\n",
        "import graphviz\n",
        "from keras.utils import plot_model\n",
        "plot_model(autoencoder, to_file='model.png',show_shapes=True)"
      ],
      "execution_count": 0,
      "outputs": []
    },
    {
      "metadata": {
        "id": "0TQJNbY3mnoR",
        "colab_type": "code",
        "outputId": "1fa32cd6-75f2-4d9f-91e4-263f19636495",
        "colab": {
          "base_uri": "https://localhost:8080/",
          "height": 107
        }
      },
      "cell_type": "code",
      "source": [
        "!apt-get install -q graphviz"
      ],
      "execution_count": 0,
      "outputs": [
        {
          "output_type": "stream",
          "text": [
            "Reading package lists...\n",
            "Building dependency tree...\n",
            "Reading state information...\n",
            "graphviz is already the newest version (2.38.0-16ubuntu2).\n",
            "0 upgraded, 0 newly installed, 0 to remove and 0 not upgraded.\n"
          ],
          "name": "stdout"
        }
      ]
    },
    {
      "metadata": {
        "id": "OTJG031Wnv1H",
        "colab_type": "code",
        "colab": {}
      },
      "cell_type": "code",
      "source": [
        ""
      ],
      "execution_count": 0,
      "outputs": []
    },
    {
      "metadata": {
        "id": "38KCgAv-ZWlD",
        "colab_type": "code",
        "colab": {}
      },
      "cell_type": "code",
      "source": [
        ""
      ],
      "execution_count": 0,
      "outputs": []
    }
  ]
}