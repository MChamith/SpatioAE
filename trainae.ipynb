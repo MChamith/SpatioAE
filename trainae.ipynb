{
  "nbformat": 4,
  "nbformat_minor": 0,
  "metadata": {
    "colab": {
      "name": "trainae.ipynb",
      "version": "0.3.2",
      "provenance": [],
      "toc_visible": true,
      "include_colab_link": true
    },
    "kernelspec": {
      "name": "python3",
      "display_name": "Python 3"
    },
    "accelerator": "GPU"
  },
  "cells": [
    {
      "cell_type": "markdown",
      "metadata": {
        "id": "view-in-github",
        "colab_type": "text"
      },
      "source": [
        "[View in Colaboratory](https://colab.research.google.com/github/MChamith/SpatioAE/blob/master/trainae.ipynb)"
      ]
    },
    {
      "metadata": {
        "id": "ufZ5aF0L1pDy",
        "colab_type": "code",
        "colab": {
          "base_uri": "https://localhost:8080/",
          "height": 143
        },
        "outputId": "0ff35e69-d805-4180-e370-1783af1d4d66"
      },
      "cell_type": "code",
      "source": [
        "!git clone https://github.com/MChamith/SpatioAE"
      ],
      "execution_count": 3,
      "outputs": [
        {
          "output_type": "stream",
          "text": [
            "Cloning into 'SpatioAE'...\n",
            "remote: Counting objects: 7168, done.\u001b[K\n",
            "remote: Compressing objects: 100% (24/24), done.\u001b[K\n",
            "remote: Total 7168 (delta 12), reused 6 (delta 2), pack-reused 7142\u001b[K\n",
            "Receiving objects: 100% (7168/7168), 275.49 MiB | 30.04 MiB/s, done.\n",
            "Resolving deltas: 100% (66/66), done.\n",
            "Checking out files: 100% (7205/7205), done.\n"
          ],
          "name": "stdout"
        }
      ]
    },
    {
      "metadata": {
        "id": "0kSjtgFoq61V",
        "colab_type": "code",
        "colab": {}
      },
      "cell_type": "code",
      "source": [
        "import os\n",
        "os.chdir('SpatioAE')\n",
        "!pwd\n",
        "!git pull https://github.com/MChamith/SpatioAE\n",
        "os.chdir('/content')  \n",
        "!pwd"
      ],
      "execution_count": 0,
      "outputs": []
    },
    {
      "metadata": {
        "id": "qSCjpWxsZX0p",
        "colab_type": "code",
        "colab": {
          "base_uri": "https://localhost:8080/",
          "height": 2503
        },
        "outputId": "5057a2ce-4b0a-4793-e3a9-1ffbc6888c09"
      },
      "cell_type": "code",
      "source": [
        "!apt-get install -y -qq software-properties-common python-software-properties module-init-tools\n",
        "!add-apt-repository -y ppa:alessandro-strada/ppa 2>&1 > /dev/null\n",
        "!apt-get update -qq 2>&1 > /dev/null\n",
        "!apt-get -y install -qq google-drive-ocamlfuse fuse\n",
        "from google.colab import auth\n",
        "auth.authenticate_user()\n",
        "from oauth2client.client import GoogleCredentials\n",
        "creds = GoogleCredentials.get_application_default()\n",
        "import getpass\n",
        "!google-drive-ocamlfuse -headless -id={creds.client_id} -secret={creds.client_secret} < /dev/null 2>&1 | grep URL\n",
        "vcode = getpass.getpass()\n",
        "!echo {vcode} | google-drive-ocamlfuse -headless -id={creds.client_id} -secret={creds.client_secret}"
      ],
      "execution_count": 4,
      "outputs": [
        {
          "output_type": "stream",
          "text": [
            "Preconfiguring packages ...\n",
            "Selecting previously unselected package cron.\n",
            "(Reading database ... 18408 files and directories currently installed.)\n",
            "Preparing to unpack .../00-cron_3.0pl1-128ubuntu5_amd64.deb ...\n",
            "Unpacking cron (3.0pl1-128ubuntu5) ...\n",
            "Selecting previously unselected package libapparmor1:amd64.\n",
            "Preparing to unpack .../01-libapparmor1_2.11.0-2ubuntu17.1_amd64.deb ...\n",
            "Unpacking libapparmor1:amd64 (2.11.0-2ubuntu17.1) ...\n",
            "Selecting previously unselected package libdbus-1-3:amd64.\n",
            "Preparing to unpack .../02-libdbus-1-3_1.10.22-1ubuntu1_amd64.deb ...\n",
            "Unpacking libdbus-1-3:amd64 (1.10.22-1ubuntu1) ...\n",
            "Selecting previously unselected package dbus.\n",
            "Preparing to unpack .../03-dbus_1.10.22-1ubuntu1_amd64.deb ...\n",
            "Unpacking dbus (1.10.22-1ubuntu1) ...\n",
            "Selecting previously unselected package dirmngr.\n",
            "Preparing to unpack .../04-dirmngr_2.1.15-1ubuntu8.1_amd64.deb ...\n",
            "Unpacking dirmngr (2.1.15-1ubuntu8.1) ...\n",
            "Selecting previously unselected package distro-info-data.\n",
            "Preparing to unpack .../05-distro-info-data_0.36ubuntu0.2_all.deb ...\n",
            "Unpacking distro-info-data (0.36ubuntu0.2) ...\n",
            "Selecting previously unselected package libkmod2:amd64.\n",
            "Preparing to unpack .../06-libkmod2_24-1ubuntu2_amd64.deb ...\n",
            "Unpacking libkmod2:amd64 (24-1ubuntu2) ...\n",
            "Selecting previously unselected package kmod.\n",
            "Preparing to unpack .../07-kmod_24-1ubuntu2_amd64.deb ...\n",
            "Unpacking kmod (24-1ubuntu2) ...\n",
            "Selecting previously unselected package lsb-release.\n",
            "Preparing to unpack .../08-lsb-release_9.20160110ubuntu5_all.deb ...\n",
            "Unpacking lsb-release (9.20160110ubuntu5) ...\n",
            "Selecting previously unselected package libgirepository-1.0-1:amd64.\n",
            "Preparing to unpack .../09-libgirepository-1.0-1_1.54.1-1_amd64.deb ...\n",
            "Unpacking libgirepository-1.0-1:amd64 (1.54.1-1) ...\n",
            "Selecting previously unselected package gir1.2-glib-2.0:amd64.\n",
            "Preparing to unpack .../10-gir1.2-glib-2.0_1.54.1-1_amd64.deb ...\n",
            "Unpacking gir1.2-glib-2.0:amd64 (1.54.1-1) ...\n",
            "Selecting previously unselected package iso-codes.\n",
            "Preparing to unpack .../11-iso-codes_3.75-1_all.deb ...\n",
            "Unpacking iso-codes (3.75-1) ...\n",
            "Selecting previously unselected package libdbus-glib-1-2:amd64.\n",
            "Preparing to unpack .../12-libdbus-glib-1-2_0.108-2_amd64.deb ...\n",
            "Unpacking libdbus-glib-1-2:amd64 (0.108-2) ...\n",
            "Selecting previously unselected package python-apt-common.\n",
            "Preparing to unpack .../13-python-apt-common_1.4.0~beta3build2_all.deb ...\n",
            "Unpacking python-apt-common (1.4.0~beta3build2) ...\n",
            "Selecting previously unselected package python3-apt.\n",
            "Preparing to unpack .../14-python3-apt_1.4.0~beta3build2_amd64.deb ...\n",
            "Unpacking python3-apt (1.4.0~beta3build2) ...\n",
            "Selecting previously unselected package python3-dbus.\n",
            "Preparing to unpack .../15-python3-dbus_1.2.4-1build3_amd64.deb ...\n",
            "Unpacking python3-dbus (1.2.4-1build3) ...\n",
            "Selecting previously unselected package python3-gi.\n",
            "Preparing to unpack .../16-python3-gi_3.24.1-2build1_amd64.deb ...\n",
            "Unpacking python3-gi (3.24.1-2build1) ...\n",
            "Selecting previously unselected package module-init-tools.\n",
            "Preparing to unpack .../17-module-init-tools_24-1ubuntu2_all.deb ...\n",
            "Unpacking module-init-tools (24-1ubuntu2) ...\n",
            "Selecting previously unselected package python-apt.\n",
            "Preparing to unpack .../18-python-apt_1.4.0~beta3build2_amd64.deb ...\n",
            "Unpacking python-apt (1.4.0~beta3build2) ...\n",
            "Selecting previously unselected package python-pycurl.\n",
            "Preparing to unpack .../19-python-pycurl_7.43.0-2build2_amd64.deb ...\n",
            "Unpacking python-pycurl (7.43.0-2build2) ...\n",
            "Selecting previously unselected package python-software-properties.\n",
            "Preparing to unpack .../20-python-software-properties_0.96.24.17_all.deb ...\n",
            "Unpacking python-software-properties (0.96.24.17) ...\n",
            "Selecting previously unselected package python3-software-properties.\n",
            "Preparing to unpack .../21-python3-software-properties_0.96.24.17_all.deb ...\n",
            "Unpacking python3-software-properties (0.96.24.17) ...\n",
            "Selecting previously unselected package software-properties-common.\n",
            "Preparing to unpack .../22-software-properties-common_0.96.24.17_all.deb ...\n",
            "Unpacking software-properties-common (0.96.24.17) ...\n",
            "Selecting previously unselected package unattended-upgrades.\n",
            "Preparing to unpack .../23-unattended-upgrades_0.98ubuntu1.1_all.deb ...\n",
            "Unpacking unattended-upgrades (0.98ubuntu1.1) ...\n",
            "Setting up python-apt-common (1.4.0~beta3build2) ...\n",
            "Setting up python3-apt (1.4.0~beta3build2) ...\n",
            "Setting up iso-codes (3.75-1) ...\n",
            "Setting up distro-info-data (0.36ubuntu0.2) ...\n",
            "Setting up python-pycurl (7.43.0-2build2) ...\n",
            "Setting up lsb-release (9.20160110ubuntu5) ...\n",
            "Setting up libgirepository-1.0-1:amd64 (1.54.1-1) ...\n",
            "Setting up libkmod2:amd64 (24-1ubuntu2) ...\n",
            "Setting up gir1.2-glib-2.0:amd64 (1.54.1-1) ...\n",
            "Processing triggers for libc-bin (2.26-0ubuntu2.1) ...\n",
            "Setting up libapparmor1:amd64 (2.11.0-2ubuntu17.1) ...\n",
            "Setting up unattended-upgrades (0.98ubuntu1.1) ...\n",
            "\n",
            "Creating config file /etc/apt/apt.conf.d/20auto-upgrades with new version\n",
            "\n",
            "Creating config file /etc/apt/apt.conf.d/50unattended-upgrades with new version\n",
            "invoke-rc.d: could not determine current runlevel\n",
            "invoke-rc.d: policy-rc.d denied execution of start.\n",
            "Setting up dirmngr (2.1.15-1ubuntu8.1) ...\n",
            "Setting up cron (3.0pl1-128ubuntu5) ...\n",
            "Adding group `crontab' (GID 102) ...\n",
            "Done.\n",
            "update-rc.d: warning: start and stop actions are no longer supported; falling back to defaults\n",
            "update-rc.d: warning: stop runlevel arguments (1) do not match cron Default-Stop values (none)\n",
            "invoke-rc.d: could not determine current runlevel\n",
            "invoke-rc.d: policy-rc.d denied execution of start.\n",
            "Setting up libdbus-1-3:amd64 (1.10.22-1ubuntu1) ...\n",
            "Setting up kmod (24-1ubuntu2) ...\n",
            "Setting up libdbus-glib-1-2:amd64 (0.108-2) ...\n",
            "Setting up python3-gi (3.24.1-2build1) ...\n",
            "Setting up module-init-tools (24-1ubuntu2) ...\n",
            "Setting up python3-software-properties (0.96.24.17) ...\n",
            "Setting up dbus (1.10.22-1ubuntu1) ...\n",
            "Setting up python-apt (1.4.0~beta3build2) ...\n",
            "Setting up python3-dbus (1.2.4-1build3) ...\n",
            "Setting up python-software-properties (0.96.24.17) ...\n",
            "Setting up software-properties-common (0.96.24.17) ...\n",
            "Processing triggers for libc-bin (2.26-0ubuntu2.1) ...\n",
            "Processing triggers for dbus (1.10.22-1ubuntu1) ...\n",
            "gpg: keybox '/tmp/tmp6yorbdbj/pubring.gpg' created\n",
            "gpg: /tmp/tmp6yorbdbj/trustdb.gpg: trustdb created\n",
            "gpg: key AD5F235DF639B041: public key \"Launchpad PPA for Alessandro Strada\" imported\n",
            "gpg: Total number processed: 1\n",
            "gpg:               imported: 1\n",
            "Warning: apt-key output should not be parsed (stdout is not a terminal)\n",
            "Selecting previously unselected package libfuse2:amd64.\n",
            "(Reading database ... 19816 files and directories currently installed.)\n",
            "Preparing to unpack .../libfuse2_2.9.7-1ubuntu1_amd64.deb ...\n",
            "Unpacking libfuse2:amd64 (2.9.7-1ubuntu1) ...\n",
            "Selecting previously unselected package fuse.\n",
            "Preparing to unpack .../fuse_2.9.7-1ubuntu1_amd64.deb ...\n",
            "Unpacking fuse (2.9.7-1ubuntu1) ...\n",
            "Selecting previously unselected package google-drive-ocamlfuse.\n",
            "Preparing to unpack .../google-drive-ocamlfuse_0.6.21-0ubuntu2_amd64.deb ...\n",
            "Unpacking google-drive-ocamlfuse (0.6.21-0ubuntu2) ...\n",
            "Setting up libfuse2:amd64 (2.9.7-1ubuntu1) ...\n",
            "Processing triggers for libc-bin (2.26-0ubuntu2.1) ...\n",
            "Setting up fuse (2.9.7-1ubuntu1) ...\n",
            "Setting up google-drive-ocamlfuse (0.6.21-0ubuntu2) ...\n",
            "Please, open the following URL in a web browser: https://accounts.google.com/o/oauth2/auth?client_id=32555940559.apps.googleusercontent.com&redirect_uri=urn%3Aietf%3Awg%3Aoauth%3A2.0%3Aoob&scope=https%3A%2F%2Fwww.googleapis.com%2Fauth%2Fdrive&response_type=code&access_type=offline&approval_prompt=force\n",
            "··········\n",
            "Please, open the following URL in a web browser: https://accounts.google.com/o/oauth2/auth?client_id=32555940559.apps.googleusercontent.com&redirect_uri=urn%3Aietf%3Awg%3Aoauth%3A2.0%3Aoob&scope=https%3A%2F%2Fwww.googleapis.com%2Fauth%2Fdrive&response_type=code&access_type=offline&approval_prompt=force\n",
            "Please enter the verification code: Access token retrieved correctly.\n"
          ],
          "name": "stdout"
        }
      ]
    },
    {
      "metadata": {
        "id": "Aa0Cs6imaTpA",
        "colab_type": "code",
        "colab": {}
      },
      "cell_type": "code",
      "source": [
        "!mkdir -p drive\n",
        "!google-drive-ocamlfuse drive"
      ],
      "execution_count": 0,
      "outputs": []
    },
    {
      "metadata": {
        "id": "L4LP_pvcWXyC",
        "colab_type": "code",
        "colab": {}
      },
      "cell_type": "code",
      "source": [
        "\n",
        "from keras.layers import Input, Dense, Conv3D, MaxPooling3D, UpSampling3D, Activation, BatchNormalization\n",
        "from keras.models import Model\n",
        "from keras.preprocessing import image\n",
        "from keras import backend as K\n",
        "from keras.optimizers import Adam\n",
        "import cv2\n",
        "import numpy as np\n",
        "import os\n",
        "from tqdm import tqdm\n",
        "import fnmatch\n",
        "import scipy.misc\n",
        "from keras.models import load_model"
      ],
      "execution_count": 0,
      "outputs": []
    },
    {
      "metadata": {
        "id": "vVWGyvWv13fF",
        "colab_type": "code",
        "colab": {}
      },
      "cell_type": "code",
      "source": [
        "\n",
        "from keras.layers import Input, Dense, Conv3D, MaxPooling3D, UpSampling3D, Activation, BatchNormalization\n",
        "from keras.models import Model\n",
        "from keras.preprocessing import image\n",
        "from keras import backend as K\n",
        "import cv2\n",
        "import numpy as np\n",
        "import os\n",
        "from tqdm import tqdm\n",
        "import fnmatch\n",
        "import scipy.misc\n",
        "from keras.models import load_model\n",
        "\n",
        "TRAIN_DIR ='SpatioAE/Train'\n",
        "TEST_DIR = 'drive/Data/datasets/Test032'\n",
        "IMG_SIZE = 128\n",
        "\n",
        "\n",
        "\n",
        "def create_training_set():\n",
        "  train_data = []\n",
        "  matches = []\n",
        "  for root, dirnames, filenames in tqdm(os.walk(TRAIN_DIR)):\n",
        "    for filename in fnmatch.filter(filenames, \"*.tif\"):\n",
        "      path = os.path.join(root, filename)\n",
        "      img = image.load_img(path, target_size=(128,128), grayscale = True)\n",
        "      img_array = image.img_to_array(img)\n",
        "#       print(\"img array size is \" + str(img_array.shape))\n",
        "#       img = cv2.resize(cv2.imread(path, cv2.IMREAD_GRAYSCALE),(IMG_SIZE,IMG_SIZE) )\n",
        "#       img_array = np.expand_dims(img_array, axis = 2)\n",
        "      train_data.append(np.array(img_array))\n",
        "          \n",
        "  np.save('training_data.npy' , train_data)\n",
        "  \n",
        "  return train_data\n",
        "\n",
        "      \n",
        "    \n",
        "    \n",
        "#   for img in tqdm(os.listdir(TRAIN_DIR)):\n",
        "#     path = os.path.join(TRAIN_DIR, img)\n",
        "#     img = cv2.resize(cv2.imread(path, cv2.IMREAD_GRAYSCALE),(IMG_SIZE,IMG_SIZE) )\n",
        "#     img = np.expand_dims(img, axis = 2)\n",
        "#     train_data.append(np.array(img))\n",
        "    \n",
        "    \n",
        "#   np.save('training_data.npy' , train_data)\n",
        "  \n",
        "#   return train_data\n",
        "\n",
        "\n",
        "def create_test_set():\n",
        "  test_data = []\n",
        "  for img in tqdm(os.listdir(TEST_DIR)):\n",
        "    path = os.path.join(TEST_DIR, img)\n",
        "    img = image.load_img(path, target_size=(128,128), grayscale = True)\n",
        "    img_array =image.img_to_array(img)\n",
        "    \n",
        "#     img = cv2.resize(cv2.imread(path, cv2.IMREAD_GRAYSCALE),(IMG_SIZE,IMG_SIZE) )\n",
        "#     img = np.expand_dims(img, axis = 2)\n",
        "    test_data.append(np.array(img_array))\n",
        "    \n",
        "    \n",
        "  np.save('test_data32.npy' , test_data)\n",
        "  return test_data"
      ],
      "execution_count": 0,
      "outputs": []
    },
    {
      "metadata": {
        "id": "m8BDl7HwQVqk",
        "colab_type": "code",
        "colab": {}
      },
      "cell_type": "code",
      "source": [
        "def create_cuboid(input_imgs):\n",
        "  \n",
        "  win_size = 8\n",
        "  m = input_imgs.shape[0]\n",
        "  h = input_imgs.shape[1]\n",
        "  w = input_imgs.shape[2]\n",
        "  c = input_imgs.shape[3]\n",
        "  \n",
        "  a = []                                    # a python list to hold the windows\n",
        "  for i in range(0, input_imgs.shape[0]-win_size+1):\n",
        "    window = input_imgs[i:i+win_size,:,:,:].reshape((-1,h,w,c)) # each individual window\n",
        "    a.append(window)\n",
        "#     print('i = ' + str(i))\n",
        "   \n",
        "#   cuboid = np.hstack(a)\n",
        "  np.save('hyper_cuboid_win8.npy' , a)\n",
        "  return a\n",
        "\n",
        "  \n",
        "  "
      ],
      "execution_count": 0,
      "outputs": []
    },
    {
      "metadata": {
        "id": "m4sTP0uiHbPh",
        "colab_type": "code",
        "colab": {}
      },
      "cell_type": "code",
      "source": [
        "def create_test_cuboid(input_imgs):\n",
        "  \n",
        "  win_size = 8\n",
        "  m = input_imgs.shape[0]\n",
        "  h = input_imgs.shape[1]\n",
        "  w = input_imgs.shape[2]\n",
        "  c = input_imgs.shape[3]\n",
        "  \n",
        "  t = []                                    # a python list to hold the windows\n",
        "  for i in range(0, input_imgs.shape[0]-win_size+1):\n",
        "    window = input_imgs[i:i+win_size,:,:,:].reshape((-1,h,w,c)) # each individual window\n",
        "    t.append(window)\n",
        "   \n",
        "#   cuboid = np.hstack(a)\n",
        "  np.save('test_hyper_cuboid_win8_32.npy' , t)\n",
        "  return t"
      ],
      "execution_count": 0,
      "outputs": []
    },
    {
      "metadata": {
        "id": "M0XdRt3hT87K",
        "colab_type": "code",
        "colab": {
          "base_uri": "https://localhost:8080/",
          "height": 125
        },
        "outputId": "68e02bb8-d234-4774-86a6-f224ddb8d8a3"
      },
      "cell_type": "code",
      "source": [
        "create_training_set()\n",
        "print('started')\n",
        "input_data = np.load('training_data.npy')\n",
        "print('training data loaded')\n",
        "input_data = input_data.astype('float32') / 255\n",
        "print('data normalized')\n",
        "create_cuboid(input_data)\n",
        "print('cuboid created')\n",
        "img_cuboids = np.load('hyper_cuboid_win8.npy')\n",
        "print(img_cuboids.shape)\n"
      ],
      "execution_count": 10,
      "outputs": [
        {
          "output_type": "stream",
          "text": [
            "35it [00:06,  5.45it/s]\n"
          ],
          "name": "stderr"
        },
        {
          "output_type": "stream",
          "text": [
            "started\n",
            "training data loaded\n",
            "data normalized\n",
            "cuboid created\n",
            "(6793, 8, 128, 128, 1)\n"
          ],
          "name": "stdout"
        }
      ]
    },
    {
      "metadata": {
        "id": "cerYwI2RFlLo",
        "colab_type": "code",
        "colab": {}
      },
      "cell_type": "code",
      "source": [
        "input_data = np.load('drive/Data/training_data.npy')"
      ],
      "execution_count": 0,
      "outputs": []
    },
    {
      "metadata": {
        "id": "R1iWpPv5FVUD",
        "colab_type": "code",
        "colab": {}
      },
      "cell_type": "code",
      "source": [
        "\n",
        "input_data = input_data.astype('float32') / 255.\n",
        "create_cuboid(input_data)"
      ],
      "execution_count": 0,
      "outputs": []
    },
    {
      "metadata": {
        "id": "5HzwbnaFFj7q",
        "colab_type": "code",
        "colab": {}
      },
      "cell_type": "code",
      "source": [
        ""
      ],
      "execution_count": 0,
      "outputs": []
    },
    {
      "metadata": {
        "id": "-vpC1FzX0dlx",
        "colab_type": "code",
        "colab": {
          "base_uri": "https://localhost:8080/",
          "height": 34
        },
        "outputId": "fbd25ffa-0bb7-480d-83d1-79ac1def3717"
      },
      "cell_type": "code",
      "source": [
        "print(img_cuboids.shape)"
      ],
      "execution_count": 0,
      "outputs": [
        {
          "output_type": "stream",
          "text": [
            "(6785, 16, 128, 128, 1)\n"
          ],
          "name": "stdout"
        }
      ]
    },
    {
      "metadata": {
        "id": "dU-0lJYruBC2",
        "colab_type": "code",
        "colab": {
          "base_uri": "https://localhost:8080/",
          "height": 34
        },
        "outputId": "c9042828-f6c7-4cb8-bcc7-59996520fa9e"
      },
      "cell_type": "code",
      "source": [
        "print(img_cuboids.shape)"
      ],
      "execution_count": 0,
      "outputs": [
        {
          "output_type": "stream",
          "text": [
            "(6785, 16, 128, 128, 1)\n"
          ],
          "name": "stdout"
        }
      ]
    },
    {
      "metadata": {
        "id": "YsFMyhC32c28",
        "colab_type": "code",
        "colab": {}
      },
      "cell_type": "code",
      "source": [
        "\n",
        "def model_autoencoder():\n",
        "  \n",
        "  input_img  = Input(shape = (8,128,128,1))  #channel last\n",
        "  \n",
        "  x = Conv3D(filters = 32, kernel_size = (3,3,3),strides = (1,1,1) , padding ='same' , kernel_initializer = 'glorot_uniform')(input_img)\n",
        "  x = BatchNormalization(axis = 4)(x)\n",
        "  x = Activation('relu')(x)\n",
        "  x = MaxPooling3D(pool_size = (2,2,2), strides = (2,2,2))(x)\n",
        "  print(\"layer one conv \" + str(x.shape))\n",
        "  \n",
        "  x = Conv3D(filters = 48, kernel_size = (3,3,3),strides = (1,1,1) , padding ='same' , kernel_initializer = 'glorot_uniform')(x)\n",
        "  x = BatchNormalization(axis = 4)(x)\n",
        "  x = Activation('relu')(x)\n",
        "  x = MaxPooling3D(pool_size = (2,2,2), strides = (2,2,2))(x)\n",
        "  print(\"layer two conv \" + str(x.shape))\n",
        "  \n",
        " \n",
        "  x = Conv3D(filters = 64, kernel_size = (3,3,3),strides = (1,1,1) , padding ='same' , kernel_initializer = 'glorot_uniform')(x)\n",
        "  x = BatchNormalization(axis = 4)(x)\n",
        "  x = Activation('relu')(x)\n",
        "  x = MaxPooling3D(pool_size = (2,2,2), strides = (2,2,2), padding= 'same')(x)\n",
        "  print(\"layer three conv \" + str(x.shape))\n",
        "  \n",
        "  x = Conv3D(filters = 64, kernel_size = (3,3,3),strides = (1,1,1) , padding ='same' , kernel_initializer = 'glorot_uniform')(x)\n",
        "  x = BatchNormalization(axis = 4)(x)\n",
        "  x = Activation('relu')(x)\n",
        "  encoded = MaxPooling3D(pool_size = (1,1,1), strides = (1,1,1))(x)\n",
        "  print(\"layer four conv \" + str(encoded.shape))\n",
        "  \n",
        "  \n",
        "  ## decoder branch\n",
        "  \n",
        "  x = Conv3D(filters = 48, kernel_size = (3,3,3),strides = (1,1,1) , padding ='same' , kernel_initializer = 'glorot_uniform')(encoded)\n",
        "  x = UpSampling3D(size = (2,2,2))(x)\n",
        "  x = BatchNormalization(axis = 4)(x)\n",
        "  x = Activation('relu')(x)\n",
        "  print(\"layer one deconv \" + str(x.shape))\n",
        " \n",
        "  x = Conv3D(filters = 32, kernel_size = (3,3,3),strides = (1,1,1) , padding ='same' , kernel_initializer = 'glorot_uniform')(x)\n",
        "  x = UpSampling3D(size = (2,2,2))(x)\n",
        "  x = BatchNormalization(axis = 4)(x)\n",
        "  x = Activation('relu')(x)\n",
        "  print(\"layer two deconv \" + str(x.shape))\n",
        "  \n",
        "  x = Conv3D(filters = 32, kernel_size = (3,3,3),strides = (1,1,1) , padding ='same' , kernel_initializer = 'glorot_uniform')(x)\n",
        "  x = UpSampling3D(size = (2,2,2))(x)\n",
        "  x = BatchNormalization(axis = 4)(x)\n",
        "  x = Activation('relu')(x)\n",
        "  print(\"layer three deconv \" + str(x.shape))\n",
        "  decoded = Conv3D(filters = 1, kernel_size = (3,3,3), strides = (1,1,1), padding = 'same', activation = 'sigmoid')(x)\n",
        "  print(\"output\" + str(decoded.shape))\n",
        "\n",
        "  \n",
        "  \n",
        "  autoencoder = Model(input_img, decoded)\n",
        "  \n",
        "  return autoencoder\n",
        "  "
      ],
      "execution_count": 0,
      "outputs": []
    },
    {
      "metadata": {
        "id": "ZZ1yBJ2F0H-4",
        "colab_type": "code",
        "colab": {}
      },
      "cell_type": "code",
      "source": [
        "os.chdir('SpatioAE')\n",
        "!pwd\n",
        "!git config --global user.email \"charmiemawela02@gmail.com\"\n",
        "!git config --global user.name \"MChamith\"\n",
        "!git add hyper_cuboid.npy\n",
        "!git commit -m \"hyper cuboid\"\n",
        "!git push origin master\n",
        "!pwd\n",
        "os.chdir('/content')  \n",
        "!pwd\n"
      ],
      "execution_count": 0,
      "outputs": []
    },
    {
      "metadata": {
        "id": "CpE59IPNQvQt",
        "colab_type": "code",
        "colab": {
          "base_uri": "https://localhost:8080/",
          "height": 593
        },
        "outputId": "e3335624-a0f1-4656-a35d-537d1f499af1"
      },
      "cell_type": "code",
      "source": [
        "# create_training_set()\n",
        "# input_imgs = np.load('training_data.npy')\n",
        "# create_cuboid(input_imgs)\n",
        "img_cuboids = np.load('hyper_cuboid_win8.npy')\n",
        "print(\"hyper cuboid loaded\")\n",
        "# img_cuboids = img_cuboids.astype('float32') / 255.\n",
        "print(\"data normalized\")\n",
        "K.clear_session()\n",
        "autoencoder = model_autoencoder()\n",
        "autoencoder.compile(optimizer = 'adam' , loss = 'mean_squared_error', metrics = ['acc'])\n",
        "print(\"model compiled\")\n",
        "autoencoder.fit(img_cuboids,img_cuboids,  epochs =10, batch_size= 32)\n",
        "print(\"model fitted\")\n",
        "  \n",
        "    "
      ],
      "execution_count": 4,
      "outputs": [
        {
          "output_type": "stream",
          "text": [
            "hyper cuboid loaded\n",
            "data normalized\n",
            "layer one conv (?, 4, 64, 64, 32)\n",
            "layer two conv (?, 2, 32, 32, 48)\n",
            "layer three conv (?, 1, 16, 16, 64)\n",
            "layer four conv (?, 1, 16, 16, 64)\n",
            "layer one deconv (?, 2, 32, 32, 48)\n",
            "layer two deconv (?, 4, 64, 64, 32)\n",
            "layer three deconv (?, 8, 128, 128, 32)\n",
            "output(?, 8, 128, 128, 1)\n",
            "model compiled\n",
            "Epoch 1/10\n",
            "6793/6793 [==============================] - 385s 57ms/step - loss: 0.0074 - acc: 1.4824e-05\n",
            "Epoch 2/10\n",
            "6793/6793 [==============================] - 374s 55ms/step - loss: 0.0050 - acc: 1.6024e-05\n",
            "Epoch 3/10\n",
            "6793/6793 [==============================] - 374s 55ms/step - loss: 0.0043 - acc: 1.7720e-05\n",
            "Epoch 4/10\n",
            "6793/6793 [==============================] - 374s 55ms/step - loss: 0.0039 - acc: 1.8995e-05\n",
            "Epoch 5/10\n",
            "6793/6793 [==============================] - 374s 55ms/step - loss: 0.0036 - acc: 1.9964e-05\n",
            "Epoch 6/10\n",
            "6793/6793 [==============================] - 375s 55ms/step - loss: 0.0034 - acc: 2.0579e-05\n",
            "Epoch 7/10\n",
            "6793/6793 [==============================] - 375s 55ms/step - loss: 0.0032 - acc: 2.1220e-05\n",
            "Epoch 8/10\n",
            "6793/6793 [==============================] - 374s 55ms/step - loss: 0.0031 - acc: 2.1630e-05\n",
            "Epoch 9/10\n",
            "6793/6793 [==============================] - 375s 55ms/step - loss: 0.0030 - acc: 2.1902e-05\n",
            "Epoch 10/10\n",
            "6793/6793 [==============================] - 374s 55ms/step - loss: 0.0029 - acc: 2.2156e-05\n",
            "model fitted\n"
          ],
          "name": "stdout"
        }
      ]
    },
    {
      "metadata": {
        "id": "OrdqrXMykFAe",
        "colab_type": "code",
        "colab": {}
      },
      "cell_type": "code",
      "source": [
        "autoencoder.save('3d_autoencoder_model_iter1_win4.h5')\n",
        "\n"
      ],
      "execution_count": 0,
      "outputs": []
    },
    {
      "metadata": {
        "id": "NaA9i6zvE-3s",
        "colab_type": "code",
        "colab": {}
      },
      "cell_type": "code",
      "source": [
        "autoencoder.save('drive/Data/3d_autoencoder_model_iter1_win8.h5')"
      ],
      "execution_count": 0,
      "outputs": []
    },
    {
      "metadata": {
        "id": "ah5JPNWxZJQU",
        "colab_type": "code",
        "colab": {
          "base_uri": "https://localhost:8080/",
          "height": 732
        },
        "outputId": "8fe67364-45d2-4c60-b29b-6c4bab93735c"
      },
      "cell_type": "code",
      "source": [
        "from keras.models import load_model \n",
        "K.clear_session()\n",
        "autoencoder_model = load_model('drive/Data/3d_autoencoder_model_iter3_win8.h5')\n",
        "# autoencoder_model.summary()"
      ],
      "execution_count": 52,
      "outputs": [
        {
          "output_type": "error",
          "ename": "OSError",
          "evalue": "ignored",
          "traceback": [
            "\u001b[0;31m---------------------------------------------------------------------------\u001b[0m",
            "\u001b[0;31mOSError\u001b[0m                                   Traceback (most recent call last)",
            "\u001b[0;32m<ipython-input-52-f16f5dc4bbd7>\u001b[0m in \u001b[0;36m<module>\u001b[0;34m()\u001b[0m\n\u001b[1;32m      1\u001b[0m \u001b[0;32mfrom\u001b[0m \u001b[0mkeras\u001b[0m\u001b[0;34m.\u001b[0m\u001b[0mmodels\u001b[0m \u001b[0;32mimport\u001b[0m \u001b[0mload_model\u001b[0m\u001b[0;34m\u001b[0m\u001b[0m\n\u001b[1;32m      2\u001b[0m \u001b[0mK\u001b[0m\u001b[0;34m.\u001b[0m\u001b[0mclear_session\u001b[0m\u001b[0;34m(\u001b[0m\u001b[0;34m)\u001b[0m\u001b[0;34m\u001b[0m\u001b[0m\n\u001b[0;32m----> 3\u001b[0;31m \u001b[0mautoencoder_model\u001b[0m \u001b[0;34m=\u001b[0m \u001b[0mload_model\u001b[0m\u001b[0;34m(\u001b[0m\u001b[0;34m'drive/Data/3d_autoencoder_model_iter3_win8.h5'\u001b[0m\u001b[0;34m)\u001b[0m\u001b[0;34m\u001b[0m\u001b[0m\n\u001b[0m\u001b[1;32m      4\u001b[0m \u001b[0;31m# autoencoder_model.summary()\u001b[0m\u001b[0;34m\u001b[0m\u001b[0;34m\u001b[0m\u001b[0m\n",
            "\u001b[0;32m/usr/local/lib/python3.6/dist-packages/keras/models.py\u001b[0m in \u001b[0;36mload_model\u001b[0;34m(filepath, custom_objects, compile)\u001b[0m\n\u001b[1;32m    258\u001b[0m     \u001b[0mopened_new_file\u001b[0m \u001b[0;34m=\u001b[0m \u001b[0;32mnot\u001b[0m \u001b[0misinstance\u001b[0m\u001b[0;34m(\u001b[0m\u001b[0mfilepath\u001b[0m\u001b[0;34m,\u001b[0m \u001b[0mh5py\u001b[0m\u001b[0;34m.\u001b[0m\u001b[0mFile\u001b[0m\u001b[0;34m)\u001b[0m\u001b[0;34m\u001b[0m\u001b[0m\n\u001b[1;32m    259\u001b[0m     \u001b[0;32mif\u001b[0m \u001b[0mopened_new_file\u001b[0m\u001b[0;34m:\u001b[0m\u001b[0;34m\u001b[0m\u001b[0m\n\u001b[0;32m--> 260\u001b[0;31m         \u001b[0mf\u001b[0m \u001b[0;34m=\u001b[0m \u001b[0mh5py\u001b[0m\u001b[0;34m.\u001b[0m\u001b[0mFile\u001b[0m\u001b[0;34m(\u001b[0m\u001b[0mfilepath\u001b[0m\u001b[0;34m,\u001b[0m \u001b[0mmode\u001b[0m\u001b[0;34m=\u001b[0m\u001b[0;34m'r'\u001b[0m\u001b[0;34m)\u001b[0m\u001b[0;34m\u001b[0m\u001b[0m\n\u001b[0m\u001b[1;32m    261\u001b[0m     \u001b[0;32melse\u001b[0m\u001b[0;34m:\u001b[0m\u001b[0;34m\u001b[0m\u001b[0m\n\u001b[1;32m    262\u001b[0m         \u001b[0mf\u001b[0m \u001b[0;34m=\u001b[0m \u001b[0mfilepath\u001b[0m\u001b[0;34m\u001b[0m\u001b[0m\n",
            "\u001b[0;32m/usr/local/lib/python3.6/dist-packages/h5py/_hl/files.py\u001b[0m in \u001b[0;36m__init__\u001b[0;34m(self, name, mode, driver, libver, userblock_size, swmr, **kwds)\u001b[0m\n\u001b[1;32m    310\u001b[0m             \u001b[0;32mwith\u001b[0m \u001b[0mphil\u001b[0m\u001b[0;34m:\u001b[0m\u001b[0;34m\u001b[0m\u001b[0m\n\u001b[1;32m    311\u001b[0m                 \u001b[0mfapl\u001b[0m \u001b[0;34m=\u001b[0m \u001b[0mmake_fapl\u001b[0m\u001b[0;34m(\u001b[0m\u001b[0mdriver\u001b[0m\u001b[0;34m,\u001b[0m \u001b[0mlibver\u001b[0m\u001b[0;34m,\u001b[0m \u001b[0;34m**\u001b[0m\u001b[0mkwds\u001b[0m\u001b[0;34m)\u001b[0m\u001b[0;34m\u001b[0m\u001b[0m\n\u001b[0;32m--> 312\u001b[0;31m                 \u001b[0mfid\u001b[0m \u001b[0;34m=\u001b[0m \u001b[0mmake_fid\u001b[0m\u001b[0;34m(\u001b[0m\u001b[0mname\u001b[0m\u001b[0;34m,\u001b[0m \u001b[0mmode\u001b[0m\u001b[0;34m,\u001b[0m \u001b[0muserblock_size\u001b[0m\u001b[0;34m,\u001b[0m \u001b[0mfapl\u001b[0m\u001b[0;34m,\u001b[0m \u001b[0mswmr\u001b[0m\u001b[0;34m=\u001b[0m\u001b[0mswmr\u001b[0m\u001b[0;34m)\u001b[0m\u001b[0;34m\u001b[0m\u001b[0m\n\u001b[0m\u001b[1;32m    313\u001b[0m \u001b[0;34m\u001b[0m\u001b[0m\n\u001b[1;32m    314\u001b[0m                 \u001b[0;32mif\u001b[0m \u001b[0mswmr_support\u001b[0m\u001b[0;34m:\u001b[0m\u001b[0;34m\u001b[0m\u001b[0m\n",
            "\u001b[0;32m/usr/local/lib/python3.6/dist-packages/h5py/_hl/files.py\u001b[0m in \u001b[0;36mmake_fid\u001b[0;34m(name, mode, userblock_size, fapl, fcpl, swmr)\u001b[0m\n\u001b[1;32m    140\u001b[0m         \u001b[0;32mif\u001b[0m \u001b[0mswmr\u001b[0m \u001b[0;32mand\u001b[0m \u001b[0mswmr_support\u001b[0m\u001b[0;34m:\u001b[0m\u001b[0;34m\u001b[0m\u001b[0m\n\u001b[1;32m    141\u001b[0m             \u001b[0mflags\u001b[0m \u001b[0;34m|=\u001b[0m \u001b[0mh5f\u001b[0m\u001b[0;34m.\u001b[0m\u001b[0mACC_SWMR_READ\u001b[0m\u001b[0;34m\u001b[0m\u001b[0m\n\u001b[0;32m--> 142\u001b[0;31m         \u001b[0mfid\u001b[0m \u001b[0;34m=\u001b[0m \u001b[0mh5f\u001b[0m\u001b[0;34m.\u001b[0m\u001b[0mopen\u001b[0m\u001b[0;34m(\u001b[0m\u001b[0mname\u001b[0m\u001b[0;34m,\u001b[0m \u001b[0mflags\u001b[0m\u001b[0;34m,\u001b[0m \u001b[0mfapl\u001b[0m\u001b[0;34m=\u001b[0m\u001b[0mfapl\u001b[0m\u001b[0;34m)\u001b[0m\u001b[0;34m\u001b[0m\u001b[0m\n\u001b[0m\u001b[1;32m    143\u001b[0m     \u001b[0;32melif\u001b[0m \u001b[0mmode\u001b[0m \u001b[0;34m==\u001b[0m \u001b[0;34m'r+'\u001b[0m\u001b[0;34m:\u001b[0m\u001b[0;34m\u001b[0m\u001b[0m\n\u001b[1;32m    144\u001b[0m         \u001b[0mfid\u001b[0m \u001b[0;34m=\u001b[0m \u001b[0mh5f\u001b[0m\u001b[0;34m.\u001b[0m\u001b[0mopen\u001b[0m\u001b[0;34m(\u001b[0m\u001b[0mname\u001b[0m\u001b[0;34m,\u001b[0m \u001b[0mh5f\u001b[0m\u001b[0;34m.\u001b[0m\u001b[0mACC_RDWR\u001b[0m\u001b[0;34m,\u001b[0m \u001b[0mfapl\u001b[0m\u001b[0;34m=\u001b[0m\u001b[0mfapl\u001b[0m\u001b[0;34m)\u001b[0m\u001b[0;34m\u001b[0m\u001b[0m\n",
            "\u001b[0;32mh5py/_objects.pyx\u001b[0m in \u001b[0;36mh5py._objects.with_phil.wrapper\u001b[0;34m()\u001b[0m\n",
            "\u001b[0;32mh5py/_objects.pyx\u001b[0m in \u001b[0;36mh5py._objects.with_phil.wrapper\u001b[0;34m()\u001b[0m\n",
            "\u001b[0;32mh5py/h5f.pyx\u001b[0m in \u001b[0;36mh5py.h5f.open\u001b[0;34m()\u001b[0m\n",
            "\u001b[0;31mOSError\u001b[0m: Unable to open file (unable to open file: name = 'drive/Data/3d_autoencoder_model_iter3_win8.h5', errno = 2, error message = 'No such file or directory', flags = 0, o_flags = 0)"
          ]
        }
      ]
    },
    {
      "metadata": {
        "id": "uBntqoBvCdrE",
        "colab_type": "code",
        "colab": {}
      },
      "cell_type": "code",
      "source": [
        "autoencoder_model.compile(optimizer = 'adam' , loss = 'mean_squared_error', metrics = ['acc','mae'])\n",
        "# print(\"model compiled\")\n",
        "# # autoencoder.fit(img_cuboids,img_cuboids,  epochs =10, batch_size= 32)\n",
        "# print(\"model fitted\")"
      ],
      "execution_count": 0,
      "outputs": []
    },
    {
      "metadata": {
        "id": "b72briwEEzw6",
        "colab_type": "code",
        "colab": {
          "base_uri": "https://localhost:8080/",
          "height": 35
        },
        "outputId": "dcf8b464-8230-4ea6-88bf-dbd81e479953"
      },
      "cell_type": "code",
      "source": [
        "print(K.eval(autoencoder_model.optimizer.lr))"
      ],
      "execution_count": 78,
      "outputs": [
        {
          "output_type": "stream",
          "text": [
            "0.001\n"
          ],
          "name": "stdout"
        }
      ]
    },
    {
      "metadata": {
        "id": "lk1NJ1Q8Mmku",
        "colab_type": "code",
        "colab": {
          "base_uri": "https://localhost:8080/",
          "height": 955
        },
        "outputId": "27463399-e04b-4f69-b6fa-78ce6bebfd88"
      },
      "cell_type": "code",
      "source": [
        "from keras.callbacks import Callback\n",
        "from keras.callbacks import ReduceLROnPlateau\n",
        "class LossHistory(Callback):\n",
        "    def on_train_begin(self, logs={}):\n",
        "        self.losses = []\n",
        "\n",
        "    def on_batch_end(self, batch, logs={}):\n",
        "        self.losses.append(logs.get('loss'))\n",
        "        \n",
        "history = LossHistory()  \n",
        "reduce_lr = ReduceLROnPlateau(monitor='loss', factor=0.2,\n",
        "                              patience=3 ,min_lr=0.00001)\n",
        "\n",
        "img_cuboids = np.load('hyper_cuboid_win8.npy')       \n",
        "model_history = autoencoder_model.fit(img_cuboids,img_cuboids,  epochs =25, batch_size=32, callbacks=[history,reduce_lr],validation_split = 0.1)  \n",
        "autoencoder_model.save('3d_autoencoder_model_iter3_win8.h5')\n",
        "autoencoder_model.save('drive/Data/3d_autoencoder_model_win8_iter4.h5')"
      ],
      "execution_count": 12,
      "outputs": [
        {
          "output_type": "stream",
          "text": [
            "Train on 6113 samples, validate on 680 samples\n",
            "Epoch 1/25\n",
            "6113/6113 [==============================] - 371s 61ms/step - loss: 0.0021 - acc: 2.6981e-05 - val_loss: 0.0011 - val_acc: 9.4245e-06\n",
            "Epoch 2/25\n",
            "6113/6113 [==============================] - 364s 59ms/step - loss: 0.0021 - acc: 2.7029e-05 - val_loss: 0.0016 - val_acc: 8.0557e-06\n",
            "Epoch 3/25\n",
            "6113/6113 [==============================] - 364s 59ms/step - loss: 0.0021 - acc: 2.7102e-05 - val_loss: 0.0091 - val_acc: 1.1433e-05\n",
            "Epoch 4/25\n",
            "6113/6113 [==============================] - 364s 59ms/step - loss: 0.0022 - acc: 2.6884e-05 - val_loss: 0.0019 - val_acc: 1.1063e-05\n",
            "Epoch 5/25\n",
            "6113/6113 [==============================] - 364s 59ms/step - loss: 0.0020 - acc: 2.7275e-05 - val_loss: 9.8487e-04 - val_acc: 1.0154e-05\n",
            "Epoch 6/25\n",
            "6113/6113 [==============================] - 364s 59ms/step - loss: 0.0020 - acc: 2.7316e-05 - val_loss: 9.6878e-04 - val_acc: 1.0266e-05\n",
            "Epoch 7/25\n",
            "6113/6113 [==============================] - 364s 59ms/step - loss: 0.0020 - acc: 2.7401e-05 - val_loss: 0.0011 - val_acc: 1.0737e-05\n",
            "Epoch 8/25\n",
            "6113/6113 [==============================] - 363s 59ms/step - loss: 0.0020 - acc: 2.7396e-05 - val_loss: 0.0010 - val_acc: 1.0446e-05\n",
            "Epoch 9/25\n",
            "6113/6113 [==============================] - 364s 59ms/step - loss: 0.0020 - acc: 2.7429e-05 - val_loss: 9.6883e-04 - val_acc: 1.0210e-05\n",
            "Epoch 10/25\n",
            "6113/6113 [==============================] - 363s 59ms/step - loss: 0.0020 - acc: 2.7386e-05 - val_loss: 0.0013 - val_acc: 1.1208e-05\n",
            "Epoch 11/25\n",
            "6113/6113 [==============================] - 363s 59ms/step - loss: 0.0020 - acc: 2.7436e-05 - val_loss: 9.4768e-04 - val_acc: 1.0479e-05\n",
            "Epoch 12/25\n",
            "6113/6113 [==============================] - 364s 59ms/step - loss: 0.0020 - acc: 2.7396e-05 - val_loss: 9.5652e-04 - val_acc: 1.0603e-05\n",
            "Epoch 13/25\n",
            "6113/6113 [==============================] - 364s 59ms/step - loss: 0.0020 - acc: 2.7422e-05 - val_loss: 9.5282e-04 - val_acc: 1.0502e-05\n",
            "Epoch 14/25\n",
            "6113/6113 [==============================] - 363s 59ms/step - loss: 0.0020 - acc: 2.7504e-05 - val_loss: 9.4444e-04 - val_acc: 1.0434e-05\n",
            "Epoch 15/25\n",
            "6113/6113 [==============================] - 364s 59ms/step - loss: 0.0020 - acc: 2.7513e-05 - val_loss: 9.4338e-04 - val_acc: 1.0401e-05\n",
            "Epoch 16/25\n",
            "6113/6113 [==============================] - 363s 59ms/step - loss: 0.0020 - acc: 2.7447e-05 - val_loss: 9.4312e-04 - val_acc: 1.0378e-05\n",
            "Epoch 17/25\n",
            "6113/6113 [==============================] - 364s 59ms/step - loss: 0.0020 - acc: 2.7477e-05 - val_loss: 9.4350e-04 - val_acc: 1.0322e-05\n",
            "Epoch 18/25\n",
            "6113/6113 [==============================] - 364s 60ms/step - loss: 0.0020 - acc: 2.7477e-05 - val_loss: 9.4556e-04 - val_acc: 1.0558e-05\n",
            "Epoch 19/25\n",
            "6113/6113 [==============================] - 363s 59ms/step - loss: 0.0020 - acc: 2.7495e-05 - val_loss: 9.4448e-04 - val_acc: 1.0490e-05\n",
            "Epoch 20/25\n",
            "6113/6113 [==============================] - 363s 59ms/step - loss: 0.0020 - acc: 2.7515e-05 - val_loss: 9.4247e-04 - val_acc: 1.0401e-05\n",
            "Epoch 21/25\n",
            "6113/6113 [==============================] - 364s 59ms/step - loss: 0.0020 - acc: 2.7485e-05 - val_loss: 9.4737e-04 - val_acc: 1.0591e-05\n",
            "Epoch 22/25\n",
            "6113/6113 [==============================] - 363s 59ms/step - loss: 0.0020 - acc: 2.7512e-05 - val_loss: 9.4372e-04 - val_acc: 1.0423e-05\n",
            "Epoch 23/25\n",
            "6113/6113 [==============================] - 363s 59ms/step - loss: 0.0020 - acc: 2.7489e-05 - val_loss: 9.4533e-04 - val_acc: 1.0490e-05\n",
            "Epoch 24/25\n",
            "6113/6113 [==============================] - 364s 59ms/step - loss: 0.0020 - acc: 2.7502e-05 - val_loss: 9.4219e-04 - val_acc: 1.0434e-05\n",
            "Epoch 25/25\n",
            "6113/6113 [==============================] - 363s 59ms/step - loss: 0.0020 - acc: 2.7510e-05 - val_loss: 9.4391e-04 - val_acc: 1.0244e-05\n"
          ],
          "name": "stdout"
        }
      ]
    },
    {
      "metadata": {
        "id": "VFOQ0OHv0zMk",
        "colab_type": "code",
        "colab": {
          "base_uri": "https://localhost:8080/",
          "height": 190
        },
        "outputId": "15bffdc1-b252-48ec-d220-1f94447f42d0"
      },
      "cell_type": "code",
      "source": [
        "autoencoder_model.save('3d_autoencoder_model_iter2.h5')\n"
      ],
      "execution_count": 0,
      "outputs": [
        {
          "output_type": "error",
          "ename": "NameError",
          "evalue": "ignored",
          "traceback": [
            "\u001b[0;31m---------------------------------------------------------------------------\u001b[0m",
            "\u001b[0;31mNameError\u001b[0m                                 Traceback (most recent call last)",
            "\u001b[0;32m<ipython-input-1-306c045e2588>\u001b[0m in \u001b[0;36m<module>\u001b[0;34m()\u001b[0m\n\u001b[0;32m----> 1\u001b[0;31m \u001b[0mautoencoder_model\u001b[0m\u001b[0;34m.\u001b[0m\u001b[0msave\u001b[0m\u001b[0;34m(\u001b[0m\u001b[0;34m'3d_autoencoder_model_iter2.h5'\u001b[0m\u001b[0;34m)\u001b[0m\u001b[0;34m\u001b[0m\u001b[0m\n\u001b[0m\u001b[1;32m      2\u001b[0m \u001b[0mautoencoder_model\u001b[0m\u001b[0;34m.\u001b[0m\u001b[0msummary\u001b[0m\u001b[0;34m(\u001b[0m\u001b[0;34m)\u001b[0m\u001b[0;34m\u001b[0m\u001b[0m\n",
            "\u001b[0;31mNameError\u001b[0m: name 'autoencoder_model' is not defined"
          ]
        }
      ]
    },
    {
      "metadata": {
        "id": "GZ-7OkUc1DGE",
        "colab_type": "code",
        "colab": {
          "base_uri": "https://localhost:8080/",
          "height": 34
        },
        "outputId": "67b4de80-371a-4f7d-85ba-900f12b24535"
      },
      "cell_type": "code",
      "source": [
        "train_loss = np.array(history.losses)\n",
        "# train_loss = train_loss[16965-6785:16965]\n",
        "# train_loss_normed = np.linalg.norm(train_loss)\n",
        "min_ex = min(train_loss)\n",
        "max_ex = max(train_loss)\n",
        "\n",
        "print('minimum loss = ' + str(min_ex) + 'maximum loss= ' + str(max_ex)+ 'train losss = '+str(train_loss.shape))"
      ],
      "execution_count": 0,
      "outputs": [
        {
          "output_type": "stream",
          "text": [
            "minimum loss = 0.0006428565maximum loss= 0.0050993245train losss = (1697,)\n"
          ],
          "name": "stdout"
        }
      ]
    },
    {
      "metadata": {
        "id": "aTSQcBIGHE9f",
        "colab_type": "code",
        "colab": {
          "base_uri": "https://localhost:8080/",
          "height": 35
        },
        "outputId": "5851b251-64ba-4954-d2c5-8c336be3f750"
      },
      "cell_type": "code",
      "source": [
        "# get_test_data = create_test_set()\n",
        "test_imgs = np.load('test_data36.npy')\n",
        "test_imgs = test_imgs.astype('float32') / 255.\n",
        "create_test_cuboid(test_imgs)\n",
        "test_cuboid = np.load('test_hyper_cuboid_win8_36.npy')\n",
        "\n",
        "print(test_cuboid.shape)\n",
        "\n",
        "\n"
      ],
      "execution_count": 39,
      "outputs": [
        {
          "output_type": "stream",
          "text": [
            "(193, 8, 128, 128, 1)\n"
          ],
          "name": "stdout"
        }
      ]
    },
    {
      "metadata": {
        "id": "Uw3pz12GwE98",
        "colab_type": "code",
        "colab": {}
      },
      "cell_type": "code",
      "source": [
        "for i in range(2):\n",
        "  for j in range(8):\n",
        "    scipy.misc.imsave('drive/Data/testimage'+str(n)+'.png', np.squeeze(test_cuboid[i][j], axis = 2))\n",
        "#   sq_img = np.squeeze(test_cuboid[n][1], axis = 2)\n",
        "#   sq_img = sq_img*255\n",
        "#   sq_img = sq_img.astype('uint8')\n",
        "\n",
        "#   dec_img = np.squeeze(decode_imgs[n][1], axis = 2)\n",
        "#   dec_img = dec_img*255\n",
        "#   dec_img = dec_img.astype('uint8')\n",
        "\n",
        "  \n",
        "#   scipy.misc.imsave('drive/Data/dec'+str(n)+'.png', dec_img)\n",
        "  "
      ],
      "execution_count": 0,
      "outputs": []
    },
    {
      "metadata": {
        "id": "3FtwjpLWiDK3",
        "colab_type": "code",
        "colab": {}
      },
      "cell_type": "code",
      "source": [
        "decode_imgs = autoencoder_model.predict(test_cuboid)"
      ],
      "execution_count": 0,
      "outputs": []
    },
    {
      "metadata": {
        "id": "N-DVJ0-4I1Py",
        "colab_type": "code",
        "colab": {
          "base_uri": "https://localhost:8080/",
          "height": 269
        },
        "outputId": "0f870824-c13d-4f1b-a8fb-dcee64ca979b"
      },
      "cell_type": "code",
      "source": [
        "print(np.squeeze(decode_imgs[1][1]))\n",
        "print(np.squeeze(test_cuboid[1][1]))"
      ],
      "execution_count": 48,
      "outputs": [
        {
          "output_type": "stream",
          "text": [
            "[[0.3665918  0.31407773 0.4027053  ... 0.33415452 0.15355128 0.2725734 ]\n",
            " [0.28767076 0.25165272 0.4176241  ... 0.33526462 0.19010405 0.32217863]\n",
            " [0.3285036  0.36008832 0.26042366 ... 0.3353285  0.29230455 0.4493007 ]\n",
            " ...\n",
            " [0.41672572 0.41849038 0.41418377 ... 0.6470401  0.66060466 0.75101554]\n",
            " [0.43709612 0.44734138 0.4424473  ... 0.6860009  0.67404884 0.7712986 ]\n",
            " [0.439424   0.4661526  0.475611   ... 0.72254467 0.70244664 0.7338248 ]]\n",
            "[[0.34901962 0.30588236 0.3882353  ... 0.31764707 0.16078432 0.26666668]\n",
            " [0.2509804  0.26666668 0.41568628 ... 0.32156864 0.1764706  0.31764707]\n",
            " [0.30980393 0.36862746 0.2627451  ... 0.34117648 0.2784314  0.49803922]\n",
            " ...\n",
            " [0.40784314 0.4        0.40784314 ... 0.654902   0.6627451  0.7137255 ]\n",
            " [0.44705883 0.4627451  0.45490196 ... 0.67058825 0.64705884 0.72156864]\n",
            " [0.4627451  0.4627451  0.4745098  ... 0.69411767 0.6666667  0.7372549 ]]\n"
          ],
          "name": "stdout"
        }
      ]
    },
    {
      "metadata": {
        "id": "AsGATYK79HnP",
        "colab_type": "code",
        "colab": {}
      },
      "cell_type": "code",
      "source": [
        "real_img = np.load('test_data.npy')\n",
        "\tdiff=x1-x2\n",
        "\ta,b,c,d,e=diff.shape\n",
        "\tn_samples=a*b*c*d*e\n",
        "\tsq_diff=diff**2\n",
        "\tSum=sq_diff.sum()\n",
        "\tdist=np.sqrt(Sum)\n",
        "\tmean_dist=dist/n_samples\n",
        "\n",
        "\treturn mean_dist"
      ],
      "execution_count": 0,
      "outputs": []
    },
    {
      "metadata": {
        "id": "IOgtugVD23y7",
        "colab_type": "code",
        "colab": {}
      },
      "cell_type": "code",
      "source": [
        "def calculate_score(input_img, reconstructed_img):\n",
        "  diff = input_img - reconstructed_img\n",
        "  a,b,c=diff.shape\n",
        "  n_samples=a*b*c\n",
        "  sq_diff=diff**2\n",
        "  Sum=sq_diff.sum()\n",
        "  dist=np.sqrt(Sum)\n",
        "  mean_dist=dist/n_samples\n",
        "  return mean_dist\n",
        "  "
      ],
      "execution_count": 0,
      "outputs": []
    },
    {
      "metadata": {
        "id": "Dcv6mNCeZBWW",
        "colab_type": "code",
        "colab": {}
      },
      "cell_type": "code",
      "source": [
        "def calculate_costs(img_size, win_size):\n",
        "  \n",
        "  input_size = img_size+win_size\n",
        "  costs = np.zeros(img_size+win_size-1, dtype= float)\n",
        "#   if img_size+win_size > num_input:\n",
        "#     break\n",
        "    \n",
        "  for i in range(0, img_size):\n",
        "    for k in range(win_size):\n",
        "      temp = np.squeeze(test_cuboid[i][k])-np.squeeze(decode_imgs[i][k])\n",
        "      costs[i+k]= np.linalg.norm(temp)\n",
        "\t\t\t\n",
        "  \n",
        "  np.save('test_costs_win8_iter3_win8_36.npy',costs)\n",
        "  return costs\n",
        "    \n",
        "  \n",
        "  \n",
        "  \n",
        "  "
      ],
      "execution_count": 0,
      "outputs": []
    },
    {
      "metadata": {
        "id": "fW7wqYVX3_wN",
        "colab_type": "code",
        "colab": {}
      },
      "cell_type": "code",
      "source": [
        "def calculate_costs_tset(img_size, win_size):\n",
        "  \n",
        "  input_size = img_size+win_size\n",
        "  costs = np.zeros(img_size+win_size-1, dtype= float)\n",
        "#   if img_size+win_size > num_input:\n",
        "#     break\n",
        "    \n",
        "  for i in range(0, img_size):\n",
        "    for k in range(win_size):\n",
        "#       temp = np.squeeze(test_cuboid[i][k])-np.squeeze(decode_imgs[i][k])\n",
        "      temp = calculate_score(test_cuboid[i][k],decode_imgs[i][k])\n",
        "      costs[i+k]= np.linalg.norm(temp)\n",
        "\t\t\t\n",
        "  \n",
        "  np.save('test_costs_test.npy',costs)\n",
        "  return costs\n",
        "    "
      ],
      "execution_count": 0,
      "outputs": []
    },
    {
      "metadata": {
        "id": "LX2SbSKdiYY-",
        "colab_type": "code",
        "colab": {
          "base_uri": "https://localhost:8080/",
          "height": 34
        },
        "outputId": "8eab56bf-a622-4e73-8ae1-9d21b5f97ff5"
      },
      "cell_type": "code",
      "source": [
        "print(np.linalg.norm(np.squeeze(decode_imgs[1][2])-np.squeeze(test_cuboid[1][2])))"
      ],
      "execution_count": 0,
      "outputs": [
        {
          "output_type": "stream",
          "text": [
            "7.740723\n"
          ],
          "name": "stdout"
        }
      ]
    },
    {
      "metadata": {
        "id": "sIoIMEsGfQ8o",
        "colab_type": "code",
        "colab": {
          "base_uri": "https://localhost:8080/",
          "height": 629
        },
        "outputId": "6817a309-432f-4b45-ffa4-cf5fcfb15b29"
      },
      "cell_type": "code",
      "source": [
        "calculate_costs(test_cuboid.shape[0],8)\n",
        "cost_val = np.load('test_costs_win8_iter3_win8_36.npy')\n",
        "print(cost_val)\n"
      ],
      "execution_count": 42,
      "outputs": [
        {
          "output_type": "stream",
          "text": [
            "[5.76282263 5.70791912 5.80208206 5.87384939 6.07381344 5.9526372\n",
            " 5.92053604 6.14933872 6.11261225 6.16212559 6.00901365 6.04444122\n",
            " 5.93829775 6.0296874  6.11841154 6.1722827  5.97474957 5.92866039\n",
            " 6.11010647 5.91953993 5.89307308 5.75277042 5.70615673 5.8333683\n",
            " 5.90384722 6.2070446  6.26275969 6.11730671 6.10752344 6.31683922\n",
            " 6.41351318 6.30013895 6.45542049 6.60027885 6.5090661  6.50354576\n",
            " 6.47749138 6.40338469 6.77324295 6.984869   7.02648211 6.7337575\n",
            " 6.56055593 6.80423164 7.31851292 6.77315712 6.71831465 6.81902218\n",
            " 6.97134972 6.91001654 6.91539335 6.93933344 7.02991533 7.12908077\n",
            " 6.94613647 6.8118577  6.61042833 6.66638851 6.60852575 6.97420311\n",
            " 6.60329771 6.48869228 6.50910807 6.46971464 7.01800156 6.60865545\n",
            " 6.47950172 6.38847971 6.52735186 6.61356211 6.64756536 6.8576951\n",
            " 7.20105124 6.06593132 6.56715345 6.5167613  6.10990858 7.08507013\n",
            " 6.99797535 7.63155937 5.90315628 5.65215731 5.53256702 5.57416344\n",
            " 5.75255346 5.61812019 5.96663427 5.7911911  5.63055706 5.76348782\n",
            " 5.63737488 5.8446784  5.69051933 5.69193745 5.84959126 5.86445093\n",
            " 5.77081728 5.72771168 5.80078268 5.9858408  5.63591957 5.6816082\n",
            " 5.95173025 5.47016621 5.48609114 5.58702469 5.99510622 5.21206093\n",
            " 5.21812153 5.86469603 5.27114153 5.36249971 5.59232283 5.35800076\n",
            " 5.29293728 5.59245539 5.59512138 5.69935036 5.71530342 5.66355085\n",
            " 5.79064226 6.04890299 6.07044268 5.94775963 5.87576818 5.56487131\n",
            " 5.66635752 5.8265934  5.64905119 5.72748184 5.93192434 6.09214973\n",
            " 5.59853172 6.12563229 5.61123085 5.43767834 5.99315786 5.30446291\n",
            " 5.49398565 5.51885843 5.65873384 5.25958776 5.44860935 5.61880636\n",
            " 5.40730286 5.22551727 5.41081095 5.57434273 5.38641834 5.82100964\n",
            " 5.67625237 5.87666798 5.73380804 5.8806529  5.73986435 5.96456575\n",
            " 5.87944555 5.74089146 5.97952223 6.06960344 5.74777985 5.98565674\n",
            " 5.93508244 6.26616812 6.11585522 5.97231674 6.23226261 6.35188341\n",
            " 6.76378059 6.4486537  6.7976079  6.78434086 7.04978418 6.89606047\n",
            " 6.89816666 6.98278618 6.91013813 6.93683434 6.94118214 7.05791092\n",
            " 7.01323032 6.86707926 6.98412943 7.02162075 6.87427044 6.95320559\n",
            " 7.24685001 7.20441294 7.12411499 7.73278332 7.45765591 7.4648633\n",
            " 7.70902061 7.36208153 7.45707798 6.15559912 7.74721956 6.0117116\n",
            " 5.88600731 6.0395689 ]\n"
          ],
          "name": "stdout"
        }
      ]
    },
    {
      "metadata": {
        "id": "daCMtk648ijC",
        "colab_type": "code",
        "colab": {}
      },
      "cell_type": "code",
      "source": [
        "print(cost_val)"
      ],
      "execution_count": 0,
      "outputs": []
    },
    {
      "metadata": {
        "id": "DzbEhh2OgobR",
        "colab_type": "code",
        "colab": {}
      },
      "cell_type": "code",
      "source": [
        "cost_val1 = np.load('test_costs_win8_iter2.npy')"
      ],
      "execution_count": 0,
      "outputs": []
    },
    {
      "metadata": {
        "id": "IBvqBf4Z4p9A",
        "colab_type": "code",
        "colab": {
          "base_uri": "https://localhost:8080/",
          "height": 35
        },
        "outputId": "7a6fc643-00db-4157-fcbb-feae07ce37fb"
      },
      "cell_type": "code",
      "source": [
        "score = cost_val - min(cost_val)\n",
        "score = 1 - (score/max(cost_val))\n",
        "print('maximum score = ' +str(max(score))+ 'min score = ' + str(min(score)))"
      ],
      "execution_count": 46,
      "outputs": [
        {
          "output_type": "stream",
          "text": [
            "maximum score = 1.0min score = 0.6727653561740907\n"
          ],
          "name": "stdout"
        }
      ]
    },
    {
      "metadata": {
        "id": "CTCiZGEegvY-",
        "colab_type": "code",
        "colab": {}
      },
      "cell_type": "code",
      "source": [
        "score1 = cost_val1 - min(cost_val1)\n",
        "score1 = 1 - (score1/max(score1)) "
      ],
      "execution_count": 0,
      "outputs": []
    },
    {
      "metadata": {
        "id": "3CwLp55F5FTQ",
        "colab_type": "code",
        "colab": {
          "base_uri": "https://localhost:8080/",
          "height": 629
        },
        "outputId": "02cc3673-75de-4761-9350-eaa2b10c6f88"
      },
      "cell_type": "code",
      "source": [
        "print(score)"
      ],
      "execution_count": 44,
      "outputs": [
        {
          "output_type": "stream",
          "text": [
            "[0.7827506  0.80440743 0.76726461 0.7389558  0.66007945 0.70787774\n",
            " 0.72054013 0.63028831 0.64477516 0.62524449 0.6856399  0.6716654\n",
            " 0.71353397 0.67748508 0.64248761 0.62123799 0.69915546 0.71733545\n",
            " 0.64576357 0.72093305 0.73137296 0.78671572 0.80510261 0.75492367\n",
            " 0.72712308 0.60752607 0.58554911 0.64292342 0.64678245 0.56421729\n",
            " 0.52608399 0.57080476 0.50955354 0.45241378 0.48839289 0.49057041\n",
            " 0.50084763 0.53007921 0.38418764 0.30071119 0.28429679 0.39976278\n",
            " 0.46808259 0.37196407 0.16910447 0.3842215  0.40585425 0.3661299\n",
            " 0.3060439  0.33023694 0.32811604 0.31867281 0.28294254 0.24382647\n",
            " 0.31598933 0.36895595 0.44841029 0.42633665 0.44916077 0.30491838\n",
            " 0.45122299 0.4964294  0.48837634 0.50391518 0.28764196 0.44910961\n",
            " 0.50005464 0.53595851 0.48118003 0.44717417 0.43376149 0.35087527\n",
            " 0.21543754 0.66318858 0.46548018 0.4853575  0.64584163 0.26118659\n",
            " 0.29554135 0.04562247 0.72739562 0.82640282 0.87357553 0.85716771\n",
            " 0.7868013  0.83982885 0.70235656 0.77156058 0.8349231  0.78248821\n",
            " 0.83223379 0.75046237 0.81127082 0.81071144 0.74852448 0.74266305\n",
            " 0.77959709 0.7966002  0.76777715 0.69478049 0.83280784 0.81478584\n",
            " 0.70823549 0.89818969 0.89190806 0.85209456 0.69112572 1.\n",
            " 0.99760938 0.74256637 0.9766955  0.94065902 0.85000469 0.94243365\n",
            " 0.96809811 0.8499524  0.84890079 0.8077874  0.80149467 0.82190861\n",
            " 0.77177707 0.66990545 0.66140906 0.70980171 0.73819892 0.86083302\n",
            " 0.82080151 0.75759605 0.82762804 0.79669086 0.71604798 0.65284665\n",
            " 0.84755558 0.63963937 0.84254637 0.91100462 0.69189426 0.9635518\n",
            " 0.88879405 0.87898292 0.82380869 0.98125291 0.90669285 0.83955819\n",
            " 0.92298631 0.99469211 0.92160253 0.85709699 0.93122426 0.75979858\n",
            " 0.81689847 0.737844   0.79419548 0.73627213 0.79180655 0.70317249\n",
            " 0.73674838 0.79140141 0.69727287 0.6617401  0.78868426 0.6948531\n",
            " 0.71480226 0.58420464 0.64349596 0.70011509 0.59757876 0.55039402\n",
            " 0.38792009 0.51222273 0.37457682 0.37981004 0.27510522 0.33574195\n",
            " 0.33491115 0.30153276 0.33018898 0.31965859 0.31794359 0.27189961\n",
            " 0.28952399 0.34717366 0.30100291 0.28621436 0.34433708 0.3132009\n",
            " 0.19737209 0.2141115  0.24578524 0.00569441 0.11421915 0.11137617\n",
            " 0.01506768 0.15191871 0.11444711 0.62781888 0.         0.68457569\n",
            " 0.73416008 0.6735873 ]\n"
          ],
          "name": "stdout"
        }
      ]
    },
    {
      "metadata": {
        "id": "27uyGTNWc61q",
        "colab_type": "code",
        "colab": {
          "base_uri": "https://localhost:8080/",
          "height": 347
        },
        "outputId": "26c4d4de-ad81-405c-d089-d203eab99ff9"
      },
      "cell_type": "code",
      "source": [
        "import matplotlib.pyplot as plt\n",
        "# plt.plot(score1)\n",
        "plt.plot(score)\n",
        "# plt.legend(['epoch 47', 'epoch 35'], loc='upper left')\n",
        "plt.show()\n"
      ],
      "execution_count": 47,
      "outputs": [
        {
          "output_type": "display_data",
          "data": {
            "image/png": "[encoded data removed]",
            "text/plain": [
              "<matplotlib.figure.Figure at 0x7f48ce00f400>"
            ]
          },
          "metadata": {
            "tags": []
          }
        }
      ]
    },
    {
      "metadata": {
        "id": "Q7hdos1PS9UW",
        "colab_type": "code",
        "colab": {}
      },
      "cell_type": "code",
      "source": [
        "import matplotlib.pyplot as plt\n",
        "from PIL import Image\n",
        "\n",
        "for n in range(100,125):\n",
        "  sq_img = np.squeeze(test_cuboid[n][1], axis = 2)\n",
        "  sq_img = sq_img*255\n",
        "  sq_img = sq_img.astype('uint8')\n",
        "\n",
        "  dec_img = np.squeeze(decode_imgs[n][1], axis = 2)\n",
        "  dec_img = dec_img*255\n",
        "  dec_img = dec_img.astype('uint8')\n",
        "\n",
        "  scipy.misc.imsave('drive/Data/testimage'+str(n)+'.png', sq_img)\n",
        "  scipy.misc.imsave('drive/Data/dec'+str(n)+'.png', dec_img)\n",
        "\n",
        "\n",
        "# plt.imshow(sq_img)"
      ],
      "execution_count": 0,
      "outputs": []
    },
    {
      "metadata": {
        "id": "kwHY8hK-xENB",
        "colab_type": "code",
        "colab": {
          "base_uri": "https://localhost:8080/",
          "height": 367
        },
        "outputId": "d53d3b70-fb45-4f05-b282-94d363633c94"
      },
      "cell_type": "code",
      "source": [
        "plt.imshow(np.squeeze(decode_imgs[1][1], axis = 2))\n",
        "  "
      ],
      "execution_count": 0,
      "outputs": [
        {
          "output_type": "execute_result",
          "data": {
            "text/plain": [
              "<matplotlib.image.AxesImage at 0x7fc73874b588>"
            ]
          },
          "metadata": {
            "tags": []
          },
          "execution_count": 52
        },
        {
          "output_type": "display_data",
          "data": {
            "image/png": "[encoded data removed]",
            "text/plain": [
              "<matplotlib.figure.Figure at 0x7fc7511c9f60>"
            ]
          },
          "metadata": {
            "tags": []
          }
        }
      ]
    },
    {
      "metadata": {
        "id": "2TIYGRB0f57D",
        "colab_type": "code",
        "colab": {
          "base_uri": "https://localhost:8080/",
          "height": 53
        },
        "outputId": "f2c61b49-6b13-41fe-8c72-32b4640fafab"
      },
      "cell_type": "code",
      "source": [
        "autoencoder_model.evaluate(test_cuboid, test_cuboid)\n"
      ],
      "execution_count": 75,
      "outputs": [
        {
          "output_type": "stream",
          "text": [
            "193/193 [==============================] - 4s 21ms/step\n"
          ],
          "name": "stdout"
        },
        {
          "output_type": "execute_result",
          "data": {
            "text/plain": [
              "[0.00776640931385632, 1.1977754108646373e-05, 0.05647316436075794]"
            ]
          },
          "metadata": {
            "tags": []
          },
          "execution_count": 75
        }
      ]
    },
    {
      "metadata": {
        "id": "awEV6CRBIMaY",
        "colab_type": "text"
      },
      "cell_type": "markdown",
      "source": [
        ""
      ]
    },
    {
      "metadata": {
        "id": "48DhaLLsgQm9",
        "colab_type": "code",
        "colab": {}
      },
      "cell_type": "code",
      "source": [
        "import pydot\n",
        "import graphviz\n",
        "from keras.utils import plot_model\n",
        "plot_model(autoencoder, to_file='model.png',show_shapes=True)"
      ],
      "execution_count": 0,
      "outputs": []
    },
    {
      "metadata": {
        "id": "0TQJNbY3mnoR",
        "colab_type": "code",
        "colab": {
          "base_uri": "https://localhost:8080/",
          "height": 107
        },
        "outputId": "1fa32cd6-75f2-4d9f-91e4-263f19636495"
      },
      "cell_type": "code",
      "source": [
        "!apt-get install -q graphviz"
      ],
      "execution_count": 0,
      "outputs": [
        {
          "output_type": "stream",
          "text": [
            "Reading package lists...\n",
            "Building dependency tree...\n",
            "Reading state information...\n",
            "graphviz is already the newest version (2.38.0-16ubuntu2).\n",
            "0 upgraded, 0 newly installed, 0 to remove and 0 not upgraded.\n"
          ],
          "name": "stdout"
        }
      ]
    },
    {
      "metadata": {
        "id": "OTJG031Wnv1H",
        "colab_type": "code",
        "colab": {}
      },
      "cell_type": "code",
      "source": [
        ""
      ],
      "execution_count": 0,
      "outputs": []
    }
  ]
}