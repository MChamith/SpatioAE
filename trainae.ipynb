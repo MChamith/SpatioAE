{
  "nbformat": 4,
  "nbformat_minor": 0,
  "metadata": {
    "colab": {
      "name": "trainae.ipynb",
      "version": "0.3.2",
      "provenance": [],
      "toc_visible": true,
      "include_colab_link": true
    },
    "kernelspec": {
      "name": "python3",
      "display_name": "Python 3"
    },
    "accelerator": "GPU"
  },
  "cells": [
    {
      "cell_type": "markdown",
      "metadata": {
        "id": "view-in-github",
        "colab_type": "text"
      },
      "source": [
        "[View in Colaboratory](https://colab.research.google.com/github/MChamith/SpatioAE/blob/master/trainae.ipynb)"
      ]
    },
    {
      "metadata": {
        "id": "ufZ5aF0L1pDy",
        "colab_type": "code",
        "colab": {
          "base_uri": "https://localhost:8080/",
          "height": 35
        },
        "outputId": "eb30100e-6e8a-4913-c040-a887c9786050"
      },
      "cell_type": "code",
      "source": [
        "!git clone https://github.com/MChamith/SpatioAE"
      ],
      "execution_count": 3,
      "outputs": [
        {
          "output_type": "stream",
          "text": [
            "fatal: destination path 'SpatioAE' already exists and is not an empty directory.\n"
          ],
          "name": "stdout"
        }
      ]
    },
    {
      "metadata": {
        "id": "vVWGyvWv13fF",
        "colab_type": "code",
        "colab": {
          "base_uri": "https://localhost:8080/",
          "height": 35
        },
        "outputId": "6b3d6c34-7e9a-4d41-8c6c-e367b98731af"
      },
      "cell_type": "code",
      "source": [
        "\n",
        "from keras.layers import Input, Dense, Conv2D, MaxPooling2D, UpSampling2D, Activation, BatchNormalization\n",
        "from keras.models import Model\n",
        "from keras.preprocessing import image\n",
        "from keras import backend as K\n",
        "import cv2\n",
        "import numpy as np\n",
        "import os\n",
        "from tqdm import tqdm\n",
        "import fnmatch\n",
        "import scipy.misc\n",
        "\n",
        "TRAIN_DIR ='SpatioAE/Train'\n",
        "TEST_DIR = 'SpatioAE/Test'\n",
        "IMG_SIZE = 128\n",
        "\n",
        "\n",
        "\n",
        "def create_training_set():\n",
        "  train_data = []\n",
        "  matches = []\n",
        "  for root, dirnames, filenames in tqdm(os.walk(TRAIN_DIR)):\n",
        "    for filename in fnmatch.filter(filenames, \"*.tif\"):\n",
        "      path = os.path.join(root, filename)\n",
        "      img = image.load_img(path, target_size=(128,128), grayscale = True)\n",
        "      img_array = image.img_to_array(img)\n",
        "#       print(\"img array size is \" + str(img_array.shape))\n",
        "#       img = cv2.resize(cv2.imread(path, cv2.IMREAD_GRAYSCALE),(IMG_SIZE,IMG_SIZE) )\n",
        "#       img_array = np.expand_dims(img_array, axis = 2)\n",
        "      train_data.append(np.array(img_array))\n",
        "          \n",
        "  np.save('training_data.npy' , train_data)\n",
        "  \n",
        "  return train_data\n",
        "\n",
        "      \n",
        "    \n",
        "    \n",
        "#   for img in tqdm(os.listdir(TRAIN_DIR)):\n",
        "#     path = os.path.join(TRAIN_DIR, img)\n",
        "#     img = cv2.resize(cv2.imread(path, cv2.IMREAD_GRAYSCALE),(IMG_SIZE,IMG_SIZE) )\n",
        "#     img = np.expand_dims(img, axis = 2)\n",
        "#     train_data.append(np.array(img))\n",
        "    \n",
        "    \n",
        "#   np.save('training_data.npy' , train_data)\n",
        "  \n",
        "#   return train_data\n",
        "\n",
        "\n",
        "def create_test_set():\n",
        "  test_data = []\n",
        "  for img in tqdm(os.listdir(TEST_DIR)):\n",
        "    path = os.path.join(TEST_DIR, img)\n",
        "    img = image.load_img(path, target_size=(128,128), grayscale = True)\n",
        "    img_array =image.img_to_array(img)\n",
        "    \n",
        "#     img = cv2.resize(cv2.imread(path, cv2.IMREAD_GRAYSCALE),(IMG_SIZE,IMG_SIZE) )\n",
        "#     img = np.expand_dims(img, axis = 2)\n",
        "    test_data.append(np.array(img_array))\n",
        "    \n",
        "    \n",
        "  np.save('test_data.npy' , test_data)\n",
        "  return test_data"
      ],
      "execution_count": 1,
      "outputs": [
        {
          "output_type": "stream",
          "text": [
            "Using TensorFlow backend.\n"
          ],
          "name": "stderr"
        }
      ]
    },
    {
      "metadata": {
        "id": "YsFMyhC32c28",
        "colab_type": "code",
        "colab": {}
      },
      "cell_type": "code",
      "source": [
        "\n",
        "def model_autoencoder():\n",
        "  \n",
        "  input_img  = Input(shape = (128,128,1))  #channel last\n",
        "  \n",
        "  x = Conv2D(filters = 32, kernel_size = (3,3),strides = (1,1) , padding ='same' , kernel_initializer = 'glorot_uniform')(input_img)\n",
        "  x = BatchNormalization(axis = 3)(x)\n",
        "  x = Activation('relu')(x)\n",
        "  x = MaxPooling2D(pool_size = (2,2), strides = (2,2))(x)\n",
        "  print(\"layer one conv \" + str(x.shape))\n",
        "  \n",
        "  x = Conv2D(filters = 48, kernel_size = (3,3),strides = (1,1) , padding ='same' , kernel_initializer = 'glorot_uniform')(x)\n",
        "  x = BatchNormalization(axis = 3)(x)\n",
        "  x = Activation('relu')(x)\n",
        "  x = MaxPooling2D(pool_size = (2,2), strides = (2,2))(x)\n",
        "  print(\"layer two conv \" + str(x.shape))\n",
        "  \n",
        " \n",
        "  x = Conv2D(filters = 64, kernel_size = (3,3),strides = (1,1) , padding ='same' , kernel_initializer = 'glorot_uniform')(x)\n",
        "  x = BatchNormalization(axis = 3)(x)\n",
        "  x = Activation('relu')(x)\n",
        "  x = MaxPooling2D(pool_size = (2,2), strides = (2,2))(x)\n",
        "  print(\"layer three conv \" + str(x.shape))\n",
        "  \n",
        "  x = Conv2D(filters = 64, kernel_size = (3,3),strides = (1,1) , padding ='same' , kernel_initializer = 'glorot_uniform')(x)\n",
        "  x = BatchNormalization(axis = 3)(x)\n",
        "  x = Activation('relu')(x)\n",
        "  encoded = MaxPooling2D(pool_size = (1,1), strides = (1,1))(x)\n",
        "  print(\"layer four conv \" + str(encoded.shape))\n",
        "  \n",
        "  \n",
        "  ## decoder branch\n",
        "  \n",
        "  x = Conv2D(filters = 48, kernel_size = (3,3),strides = (1,1) , padding ='same' , kernel_initializer = 'glorot_uniform')(encoded)\n",
        "  x = UpSampling2D(size = (2,2))(x)\n",
        "  x = BatchNormalization(axis = 3)(x)\n",
        "  x = Activation('relu')(x)\n",
        "  print(\"layer one deconv \" + str(x.shape))\n",
        " \n",
        "  x = Conv2D(filters = 32, kernel_size = (3,3),strides = (1,1) , padding ='same' , kernel_initializer = 'glorot_uniform')(x)\n",
        "  x = UpSampling2D(size = (2,2))(x)\n",
        "  x = BatchNormalization(axis = 3)(x)\n",
        "  x = Activation('relu')(x)\n",
        "  print(\"layer two deconv \" + str(x.shape))\n",
        "  \n",
        "  x = Conv2D(filters = 32, kernel_size = (3,3),strides = (1,1) , padding ='same' , kernel_initializer = 'glorot_uniform')(x)\n",
        "  x = UpSampling2D(size = (2,2))(x)\n",
        "  x = BatchNormalization(axis = 3)(x)\n",
        "  x = Activation('relu')(x)\n",
        "  print(\"layer three deconv \" + str(x.shape))\n",
        "  decoded = Conv2D(filters = 1, kernel_size = (3,3), strides = (1,1), padding = 'same', activation = 'sigmoid')(x)\n",
        "  print(\"output\" + str(decoded.shape))\n",
        "\n",
        "  \n",
        "  \n",
        "  autoencoder = Model(input_img, decoded)\n",
        "  \n",
        "  return autoencoder\n",
        "  "
      ],
      "execution_count": 0,
      "outputs": []
    },
    {
      "metadata": {
        "id": "CpE59IPNQvQt",
        "colab_type": "code",
        "colab": {
          "base_uri": "https://localhost:8080/",
          "height": 2015
        },
        "outputId": "072b5c31-620c-4eaf-e1c2-767e0b5e46a0"
      },
      "cell_type": "code",
      "source": [
        "get_data = create_training_set()\n",
        "input_imgs = np.load('training_data.npy')\n",
        "input_imgs = input_imgs.astype('float32') / 255.\n",
        "print(input_imgs.shape)\n",
        "K.clear_session()\n",
        "autoencoder = model_autoencoder()\n",
        "autoencoder.compile(optimizer = 'adam' , loss = 'mean_squared_error')\n",
        "\n",
        "autoencoder.fit(input_imgs,input_imgs,  epochs =50, batch_size= 100)\n",
        "  \n",
        "    "
      ],
      "execution_count": 6,
      "outputs": [
        {
          "output_type": "stream",
          "text": [
            "35it [00:06,  5.45it/s]\n"
          ],
          "name": "stderr"
        },
        {
          "output_type": "stream",
          "text": [
            "(6800, 128, 128, 1)\n",
            "layer one conv (?, 64, 64, 32)\n",
            "layer two conv (?, 32, 32, 48)\n",
            "layer three conv (?, 16, 16, 64)\n",
            "layer four conv (?, 16, 16, 64)\n",
            "layer one deconv (?, 32, 32, 48)\n",
            "layer two deconv (?, 64, 64, 32)\n",
            "layer three deconv (?, 128, 128, 32)\n",
            "output(?, 128, 128, 1)\n",
            "Epoch 1/50\n",
            "6800/6800 [==============================] - 21s 3ms/step - loss: 0.0089\n",
            "Epoch 2/50\n",
            "6800/6800 [==============================] - 20s 3ms/step - loss: 0.0046\n",
            "Epoch 3/50\n",
            "6800/6800 [==============================] - 20s 3ms/step - loss: 0.0039\n",
            "Epoch 4/50\n",
            "6800/6800 [==============================] - 20s 3ms/step - loss: 0.0035\n",
            "Epoch 5/50\n",
            "6800/6800 [==============================] - 20s 3ms/step - loss: 0.0031\n",
            "Epoch 6/50\n",
            "6800/6800 [==============================] - 20s 3ms/step - loss: 0.0029\n",
            "Epoch 7/50\n",
            "6800/6800 [==============================] - 20s 3ms/step - loss: 0.0027\n",
            "Epoch 8/50\n",
            "6800/6800 [==============================] - 20s 3ms/step - loss: 0.0025\n",
            "Epoch 9/50\n",
            "6800/6800 [==============================] - 20s 3ms/step - loss: 0.0024\n",
            "Epoch 10/50\n",
            "6800/6800 [==============================] - 20s 3ms/step - loss: 0.0023\n",
            "Epoch 11/50\n",
            "6800/6800 [==============================] - 20s 3ms/step - loss: 0.0022\n",
            "Epoch 12/50\n",
            "6800/6800 [==============================] - 20s 3ms/step - loss: 0.0021\n",
            "Epoch 13/50\n",
            "6800/6800 [==============================] - 20s 3ms/step - loss: 0.0021\n",
            "Epoch 14/50\n",
            "6800/6800 [==============================] - 20s 3ms/step - loss: 0.0020\n",
            "Epoch 15/50\n",
            "6800/6800 [==============================] - 20s 3ms/step - loss: 0.0019\n",
            "Epoch 16/50\n",
            "6800/6800 [==============================] - 20s 3ms/step - loss: 0.0019\n",
            "Epoch 17/50\n",
            "6800/6800 [==============================] - 20s 3ms/step - loss: 0.0018\n",
            "Epoch 18/50\n",
            "6800/6800 [==============================] - 20s 3ms/step - loss: 0.0018\n",
            "Epoch 19/50\n",
            "6800/6800 [==============================] - 20s 3ms/step - loss: 0.0018\n",
            "Epoch 20/50\n",
            "6800/6800 [==============================] - 20s 3ms/step - loss: 0.0017\n",
            "Epoch 21/50\n",
            "6800/6800 [==============================] - 20s 3ms/step - loss: 0.0017\n",
            "Epoch 22/50\n",
            "6800/6800 [==============================] - 20s 3ms/step - loss: 0.0017\n",
            "Epoch 23/50\n",
            "6800/6800 [==============================] - 20s 3ms/step - loss: 0.0017\n",
            "Epoch 24/50\n",
            "6800/6800 [==============================] - 20s 3ms/step - loss: 0.0016\n",
            "Epoch 25/50\n",
            "6800/6800 [==============================] - 20s 3ms/step - loss: 0.0016\n",
            "Epoch 26/50\n",
            "6800/6800 [==============================] - 20s 3ms/step - loss: 0.0016\n",
            "Epoch 27/50\n",
            "6800/6800 [==============================] - 20s 3ms/step - loss: 0.0016\n",
            "Epoch 28/50\n",
            "6800/6800 [==============================] - 20s 3ms/step - loss: 0.0016\n",
            "Epoch 29/50\n",
            "6800/6800 [==============================] - 20s 3ms/step - loss: 0.0015\n",
            "Epoch 30/50\n",
            "6800/6800 [==============================] - 20s 3ms/step - loss: 0.0015\n",
            "Epoch 31/50\n",
            "6800/6800 [==============================] - 20s 3ms/step - loss: 0.0015\n",
            "Epoch 32/50\n",
            "6800/6800 [==============================] - 20s 3ms/step - loss: 0.0015\n",
            "Epoch 33/50\n",
            "6800/6800 [==============================] - 20s 3ms/step - loss: 0.0015\n",
            "Epoch 34/50\n",
            "6800/6800 [==============================] - 20s 3ms/step - loss: 0.0015\n",
            "Epoch 35/50\n",
            "6800/6800 [==============================] - 20s 3ms/step - loss: 0.0014\n",
            "Epoch 36/50\n",
            "6800/6800 [==============================] - 20s 3ms/step - loss: 0.0014\n",
            "Epoch 37/50\n",
            "6800/6800 [==============================] - 20s 3ms/step - loss: 0.0014\n",
            "Epoch 38/50\n",
            "6800/6800 [==============================] - 20s 3ms/step - loss: 0.0014\n",
            "Epoch 39/50\n",
            "6800/6800 [==============================] - 20s 3ms/step - loss: 0.0014\n",
            "Epoch 40/50\n",
            "6800/6800 [==============================] - 20s 3ms/step - loss: 0.0014\n",
            "Epoch 41/50\n",
            "6800/6800 [==============================] - 20s 3ms/step - loss: 0.0014\n",
            "Epoch 42/50\n",
            "6800/6800 [==============================] - 20s 3ms/step - loss: 0.0014\n",
            "Epoch 43/50\n",
            "6800/6800 [==============================] - 20s 3ms/step - loss: 0.0014\n",
            "Epoch 44/50\n",
            "6800/6800 [==============================] - 20s 3ms/step - loss: 0.0014\n",
            "Epoch 45/50\n",
            "6800/6800 [==============================] - 20s 3ms/step - loss: 0.0013\n",
            "Epoch 46/50\n",
            "6800/6800 [==============================] - 20s 3ms/step - loss: 0.0013\n",
            "Epoch 47/50\n",
            "6800/6800 [==============================] - 20s 3ms/step - loss: 0.0013\n",
            "Epoch 48/50\n",
            "6800/6800 [==============================] - 20s 3ms/step - loss: 0.0013\n",
            "Epoch 49/50\n",
            "6800/6800 [==============================] - 20s 3ms/step - loss: 0.0013\n",
            "Epoch 50/50\n",
            "6800/6800 [==============================] - 20s 3ms/step - loss: 0.0013\n"
          ],
          "name": "stdout"
        },
        {
          "output_type": "execute_result",
          "data": {
            "text/plain": [
              "<keras.callbacks.History at 0x7f11ae4abeb8>"
            ]
          },
          "metadata": {
            "tags": []
          },
          "execution_count": 6
        }
      ]
    },
    {
      "metadata": {
        "id": "aTSQcBIGHE9f",
        "colab_type": "code",
        "colab": {
          "base_uri": "https://localhost:8080/",
          "height": 53
        },
        "outputId": "bb023efd-b5a1-409c-b4c6-ff6669e25703"
      },
      "cell_type": "code",
      "source": [
        "get_test_data = create_test_set()\n",
        "test_imgs = np.load('test_data.npy')\n",
        "test_imgs = test_imgs.astype('float32') / 255.\n",
        "print(input_imgs.shape)\n",
        "\n",
        "decode_imgs = autoencoder.predict(test_imgs)"
      ],
      "execution_count": 23,
      "outputs": [
        {
          "output_type": "stream",
          "text": [
            "100%|██████████| 200/200 [00:00<00:00, 1042.10it/s]\n"
          ],
          "name": "stderr"
        },
        {
          "output_type": "stream",
          "text": [
            "(6800, 128, 128, 1)\n"
          ],
          "name": "stdout"
        }
      ]
    },
    {
      "metadata": {
        "id": "Q7hdos1PS9UW",
        "colab_type": "code",
        "colab": {}
      },
      "cell_type": "code",
      "source": [
        "import matplotlib.pyplot as plt\n",
        "from PIL import Image\n",
        "\n",
        "for n in range(10):\n",
        "  sq_img = np.squeeze(test_imgs[n], axis = 2)\n",
        "  sq_img = sq_img*255\n",
        "  sq_img = sq_img.astype('uint8')\n",
        "\n",
        "  dec_img = np.squeeze(decode_imgs[n], axis = 2)\n",
        "  dec_img = dec_img*255\n",
        "  dec_img = dec_img.astype('uint8')\n",
        "\n",
        "  scipy.misc.imsave('testimage'+str(n)+'.png', sq_img)\n",
        "  scipy.misc.imsave('dec'+str(n)+'.png', dec_img)\n",
        "\n",
        "\n",
        "# plt.imshow(sq_img)"
      ],
      "execution_count": 0,
      "outputs": []
    },
    {
      "metadata": {
        "id": "kwHY8hK-xENB",
        "colab_type": "code",
        "colab": {
          "base_uri": "https://localhost:8080/",
          "height": 368
        },
        "outputId": "a80ebc04-0f41-497f-e51d-e0f0d45fcce6"
      },
      "cell_type": "code",
      "source": [
        "plt.imshow(np.squeeze(decode_imgs[1], axis = 2))\n",
        "  "
      ],
      "execution_count": 35,
      "outputs": [
        {
          "output_type": "execute_result",
          "data": {
            "text/plain": [
              "<matplotlib.image.AxesImage at 0x7f2097aa3400>"
            ]
          },
          "metadata": {
            "tags": []
          },
          "execution_count": 35
        },
        {
          "output_type": "display_data",
          "data": {
            "image/png": "[encoded data removed]",
            "text/plain": [
              "<matplotlib.figure.Figure at 0x7f209512d0f0>"
            ]
          },
          "metadata": {
            "tags": []
          }
        }
      ]
    },
    {
      "metadata": {
        "id": "2TIYGRB0f57D",
        "colab_type": "code",
        "colab": {
          "base_uri": "https://localhost:8080/",
          "height": 172
        },
        "outputId": "ee765cb8-cc7e-4955-9ed8-dbaef03c5d27"
      },
      "cell_type": "code",
      "source": [
        "autoencoder.evaluate(test_imgs, test_imgs)\n"
      ],
      "execution_count": 2,
      "outputs": [
        {
          "output_type": "error",
          "ename": "NameError",
          "evalue": "ignored",
          "traceback": [
            "\u001b[0;31m---------------------------------------------------------------------------\u001b[0m",
            "\u001b[0;31mNameError\u001b[0m                                 Traceback (most recent call last)",
            "\u001b[0;32m<ipython-input-2-44283d3cdccf>\u001b[0m in \u001b[0;36m<module>\u001b[0;34m()\u001b[0m\n\u001b[0;32m----> 1\u001b[0;31m \u001b[0mautoencoder\u001b[0m\u001b[0;34m.\u001b[0m\u001b[0mevaluate\u001b[0m\u001b[0;34m(\u001b[0m\u001b[0mtest_imgs\u001b[0m\u001b[0;34m,\u001b[0m \u001b[0mtest_imgs\u001b[0m\u001b[0;34m)\u001b[0m\u001b[0;34m\u001b[0m\u001b[0m\n\u001b[0m",
            "\u001b[0;31mNameError\u001b[0m: name 'autoencoder' is not defined"
          ]
        }
      ]
    },
    {
      "metadata": {
        "id": "48DhaLLsgQm9",
        "colab_type": "code",
        "colab": {}
      },
      "cell_type": "code",
      "source": [
        "import pydot\n",
        "import graphviz\n",
        "from keras.utils import plot_model\n",
        "plot_model(autoencoder, to_file='model.png',show_shapes=True)"
      ],
      "execution_count": 0,
      "outputs": []
    },
    {
      "metadata": {
        "id": "0TQJNbY3mnoR",
        "colab_type": "code",
        "colab": {
          "base_uri": "https://localhost:8080/",
          "height": 107
        },
        "outputId": "1fa32cd6-75f2-4d9f-91e4-263f19636495"
      },
      "cell_type": "code",
      "source": [
        "!apt-get install -q graphviz"
      ],
      "execution_count": 10,
      "outputs": [
        {
          "output_type": "stream",
          "text": [
            "Reading package lists...\n",
            "Building dependency tree...\n",
            "Reading state information...\n",
            "graphviz is already the newest version (2.38.0-16ubuntu2).\n",
            "0 upgraded, 0 newly installed, 0 to remove and 0 not upgraded.\n"
          ],
          "name": "stdout"
        }
      ]
    },
    {
      "metadata": {
        "id": "OTJG031Wnv1H",
        "colab_type": "code",
        "colab": {}
      },
      "cell_type": "code",
      "source": [
        ""
      ],
      "execution_count": 0,
      "outputs": []
    }
  ]
}