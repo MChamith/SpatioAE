{
  "nbformat": 4,
  "nbformat_minor": 0,
  "metadata": {
    "colab": {
      "name": "dataAugmentation.ipynb",
      "version": "0.3.2",
      "provenance": [],
      "collapsed_sections": [],
      "toc_visible": true,
      "include_colab_link": true
    },
    "kernelspec": {
      "name": "python3",
      "display_name": "Python 3"
    }
  },
  "cells": [
    {
      "cell_type": "markdown",
      "metadata": {
        "id": "view-in-github",
        "colab_type": "text"
      },
      "source": [
        "[View in Colaboratory](https://colab.research.google.com/github/MChamith/SpatioAE/blob/master/dataAugmentation.ipynb)"
      ]
    },
    {
      "metadata": {
        "id": "BQqMw4siqY7v",
        "colab_type": "code",
        "colab": {
          "base_uri": "https://localhost:8080/",
          "height": 161
        },
        "outputId": "28933680-bde8-49df-852a-c6c6db97ce50"
      },
      "cell_type": "code",
      "source": [
        "!git clone https://github.com/MChamith/SpatioAE"
      ],
      "execution_count": 2,
      "outputs": [
        {
          "output_type": "stream",
          "text": [
            "Cloning into 'SpatioAE'...\n",
            "remote: Enumerating objects: 65, done.\u001b[K\n",
            "remote: Counting objects: 100% (65/65), done.\u001b[K\n",
            "remote: Compressing objects: 100% (63/63), done.\u001b[K\n",
            "remote: Total 7207 (delta 37), reused 5 (delta 2), pack-reused 7142\u001b[K\n",
            "Receiving objects: 100% (7207/7207), 275.65 MiB | 26.26 MiB/s, done.\n",
            "Resolving deltas: 100% (91/91), done.\n",
            "Checking out files: 100% (7207/7207), done.\n"
          ],
          "name": "stdout"
        }
      ]
    },
    {
      "metadata": {
        "id": "g4-gvvBXqeGf",
        "colab_type": "code",
        "colab": {
          "base_uri": "https://localhost:8080/",
          "height": 127
        },
        "outputId": "c025383e-b91d-44e5-d43d-162fb6cd896a"
      },
      "cell_type": "code",
      "source": [
        "from google.colab import drive\n",
        "drive.mount('/content/gdrive')"
      ],
      "execution_count": 3,
      "outputs": [
        {
          "output_type": "stream",
          "text": [
            "Go to this URL in a browser: https://accounts.google.com/o/oauth2/auth?client_id=947318989803-6bn6qk8qdgf4n4g3pfee6491hc0brc4i.apps.googleusercontent.com&redirect_uri=urn%3Aietf%3Awg%3Aoauth%3A2.0%3Aoob&scope=email%20https%3A%2F%2Fwww.googleapis.com%2Fauth%2Fdocs.test%20https%3A%2F%2Fwww.googleapis.com%2Fauth%2Fdrive%20https%3A%2F%2Fwww.googleapis.com%2Fauth%2Fdrive.photos.readonly%20https%3A%2F%2Fwww.googleapis.com%2Fauth%2Fpeopleapi.readonly&response_type=code\n",
            "\n",
            "Enter your authorization code:\n",
            "··········\n",
            "Mounted at /content/gdrive\n"
          ],
          "name": "stdout"
        }
      ]
    },
    {
      "metadata": {
        "id": "m-owjtyWqzdv",
        "colab_type": "code",
        "colab": {}
      },
      "cell_type": "code",
      "source": [
        "import numpy as np\n",
        "import cv2\n",
        "from tqdm import tqdm\n",
        "import fnmatch\n",
        "import os\n",
        "import re\n",
        "from keras.preprocessing import image\n",
        "import random\n",
        "import tensorflow as tf\n",
        "\n",
        "\n",
        "TRAIN_DIR ='SpatioAE/Train'\n",
        "IMG_SIZE = 128"
      ],
      "execution_count": 0,
      "outputs": []
    },
    {
      "metadata": {
        "id": "5vO-6RppmdPg",
        "colab_type": "code",
        "colab": {}
      },
      "cell_type": "code",
      "source": [
        "# This program deals with augmenting the data to create more data\n",
        "\n",
        "def create_training_set():\n",
        "  train_data = []\n",
        "  matches = []\n",
        "  dirs = []\n",
        "  count = 1\n",
        "  for root, dirnames, filenames in tqdm(os.walk(TRAIN_DIR)):\n",
        "    alist= dirnames\n",
        "    if(root is not None):\n",
        "      dirs.append(root)\n",
        "#     blist = filenames\n",
        "#     print(alist)\n",
        "    print(count)\n",
        "\n",
        "    alist.sort(key=natural_keys)\n",
        "#     blist.sort(key=natural_keys)\n",
        "    count += 1\n",
        "    \n",
        "#     for filename in fnmatch.filter(filenames, \"*.tif\"):\n",
        "#       path = os.path.join(root, filename)\n",
        "#       print('path is = ' + str(path))\n",
        "#       img = image.load_img(path, target_size=(128,128), grayscale = True)\n",
        "#       img_array = image.img_to_array(img)\n",
        "# #       print(\"img array size is \" + str(img_array.shape))\n",
        "# #       img = cv2.resize(cv2.imread(path, cv2.IMREAD_GRAYSCALE),(IMG_SIZE,IMG_SIZE) )\n",
        "# #       img_array = np.expand_dims(img_array, axis = 2)\n",
        "#       train_data.append(np.array(img_array))\n",
        "          \n",
        "#   np.save('training_data.npy' , train_data)\n",
        "#   \n",
        "#   return train_data\n",
        "  print(random.choice(os.listdir(TRAIN_DIR)))\n",
        "def atof(text):\n",
        "    try:\n",
        "        retval = float(text)\n",
        "    except ValueError:\n",
        "        retval = text\n",
        "    return retval\n",
        "\n",
        "def natural_keys(text):\n",
        "    '''\n",
        "    alist.sort(key=natural_keys) sorts in human order\n",
        "    http://nedbatchelder.com/blog/200712/human_sorting.html\n",
        "    (See Toothy's implementation in the comments)\n",
        "    float regex comes from https://stackoverflow.com/a/12643073/190597\n",
        "    '''\n",
        "    return [ atof(c) for c in re.split(r'[+-]?([0-9]+(?:[.][0-9]*)?|[.][0-9]+)', text) ]\n",
        "\n"
      ],
      "execution_count": 0,
      "outputs": []
    },
    {
      "metadata": {
        "id": "EsJPh_zKqTEN",
        "colab_type": "code",
        "colab": {}
      },
      "cell_type": "code",
      "source": [
        "class AugmentData():\n",
        "  # initializing data\n",
        "  def __init__(self, image,  brightness = False, blur = False,\n",
        "                   hue = False, gamma = False, saturation = False):\n",
        "    self.image = image\n",
        "    self.change_brightness = change_brightness\n",
        "    self.blur = blur\n",
        "    self.hue = hue\n",
        "    self.gamma = gamma\n",
        "    self.saturation = saturation\n",
        "  \n",
        "  def change_brightness(self, delta = 0.3):\n",
        "    if self.brightness:\n",
        "          tf.image.adjust_brightness(self.image,\n",
        "                                     delta)\n",
        "\n",
        "  \n",
        "  def change_hue(self,)"
      ],
      "execution_count": 0,
      "outputs": []
    },
    {
      "metadata": {
        "id": "SjiSaiysqw3T",
        "colab_type": "code",
        "colab": {}
      },
      "cell_type": "code",
      "source": [
        ""
      ],
      "execution_count": 0,
      "outputs": []
    }
  ]
}