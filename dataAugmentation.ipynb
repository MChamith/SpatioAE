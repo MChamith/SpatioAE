{
  "nbformat": 4,
  "nbformat_minor": 0,
  "metadata": {
    "colab": {
      "name": "dataAugmentation.ipynb",
      "version": "0.3.2",
      "provenance": [],
      "collapsed_sections": [],
      "toc_visible": true,
      "include_colab_link": true
    },
    "kernelspec": {
      "name": "python3",
      "display_name": "Python 3"
    }
  },
  "cells": [
    {
      "cell_type": "markdown",
      "metadata": {
        "id": "view-in-github",
        "colab_type": "text"
      },
      "source": [
        "[![Open In Colab](https://colab.research.google.com/assets/colab-badge.svg)](https://colab.research.google.com/github/MChamith/SpatioAE/blob/master/dataAugmentation.ipynb)"
      ]
    },
    {
      "metadata": {
        "id": "BQqMw4siqY7v",
        "colab_type": "code",
        "colab": {
          "base_uri": "https://localhost:8080/",
          "height": 161
        },
        "outputId": "61f76956-11af-4d14-b21b-47be61a750e7"
      },
      "cell_type": "code",
      "source": [
        "!git clone https://github.com/MChamith/SpatioAE"
      ],
      "execution_count": 1,
      "outputs": [
        {
          "output_type": "stream",
          "text": [
            "Cloning into 'SpatioAE'...\n",
            "remote: Enumerating objects: 68, done.\u001b[K\n",
            "remote: Counting objects:   1% (1/68)   \u001b[K\rremote: Counting objects:   2% (2/68)   \u001b[K\rremote: Counting objects:   4% (3/68)   \u001b[K\rremote: Counting objects:   5% (4/68)   \u001b[K\rremote: Counting objects:   7% (5/68)   \u001b[K\rremote: Counting objects:   8% (6/68)   \u001b[K\rremote: Counting objects:  10% (7/68)   \u001b[K\rremote: Counting objects:  11% (8/68)   \u001b[K\rremote: Counting objects:  13% (9/68)   \u001b[K\rremote: Counting objects:  14% (10/68)   \u001b[K\rremote: Counting objects:  16% (11/68)   \u001b[K\rremote: Counting objects:  17% (12/68)   \u001b[K\rremote: Counting objects:  19% (13/68)   \u001b[K\rremote: Counting objects:  20% (14/68)   \u001b[K\rremote: Counting objects:  22% (15/68)   \u001b[K\rremote: Counting objects:  23% (16/68)   \u001b[K\rremote: Counting objects:  25% (17/68)   \u001b[K\rremote: Counting objects:  26% (18/68)   \u001b[K\rremote: Counting objects:  27% (19/68)   \u001b[K\rremote: Counting objects:  29% (20/68)   \u001b[K\rremote: Counting objects:  30% (21/68)   \u001b[K\rremote: Counting objects:  32% (22/68)   \u001b[K\rremote: Counting objects:  33% (23/68)   \u001b[K\rremote: Counting objects:  35% (24/68)   \u001b[K\rremote: Counting objects:  36% (25/68)   \u001b[K\rremote: Counting objects:  38% (26/68)   \u001b[K\rremote: Counting objects:  39% (27/68)   \u001b[K\rremote: Counting objects:  41% (28/68)   \u001b[K\rremote: Counting objects:  42% (29/68)   \u001b[K\rremote: Counting objects:  44% (30/68)   \u001b[K\rremote: Counting objects:  45% (31/68)   \u001b[K\rremote: Counting objects:  47% (32/68)   \u001b[K\rremote: Counting objects:  48% (33/68)   \u001b[K\rremote: Counting objects:  50% (34/68)   \u001b[K\rremote: Counting objects:  51% (35/68)   \u001b[K\rremote: Counting objects:  52% (36/68)   \u001b[K\rremote: Counting objects:  54% (37/68)   \u001b[K\rremote: Counting objects:  55% (38/68)   \u001b[K\rremote: Counting objects:  57% (39/68)   \u001b[K\rremote: Counting objects:  58% (40/68)   \u001b[K\rremote: Counting objects:  60% (41/68)   \u001b[K\rremote: Counting objects:  61% (42/68)   \u001b[K\rremote: Counting objects:  63% (43/68)   \u001b[K\rremote: Counting objects:  64% (44/68)   \u001b[K\rremote: Counting objects:  66% (45/68)   \u001b[K\rremote: Counting objects:  67% (46/68)   \u001b[K\rremote: Counting objects:  69% (47/68)   \u001b[K\rremote: Counting objects:  70% (48/68)   \u001b[K\rremote: Counting objects:  72% (49/68)   \u001b[K\rremote: Counting objects:  73% (50/68)   \u001b[K\rremote: Counting objects:  75% (51/68)   \u001b[K\rremote: Counting objects:  76% (52/68)   \u001b[K\rremote: Counting objects:  77% (53/68)   \u001b[K\rremote: Counting objects:  79% (54/68)   \u001b[K\rremote: Counting objects:  80% (55/68)   \u001b[K\rremote: Counting objects:  82% (56/68)   \u001b[K\rremote: Counting objects:  83% (57/68)   \u001b[K\rremote: Counting objects:  85% (58/68)   \u001b[K\rremote: Counting objects:  86% (59/68)   \u001b[K\rremote: Counting objects:  88% (60/68)   \u001b[K\rremote: Counting objects:  89% (61/68)   \u001b[K\rremote: Counting objects:  91% (62/68)   \u001b[K\rremote: Counting objects:  92% (63/68)   \u001b[K\rremote: Counting objects:  94% (64/68)   \u001b[K\rremote: Counting objects:  95% (65/68)   \u001b[K\rremote: Counting objects:  97% (66/68)   \u001b[K\rremote: Counting objects:  98% (67/68)   \u001b[K\rremote: Counting objects: 100% (68/68)   \u001b[K\rremote: Counting objects: 100% (68/68), done.\u001b[K\n",
            "remote: Compressing objects: 100% (66/66), done.\u001b[K\n",
            "remote: Total 7210 (delta 39), reused 5 (delta 2), pack-reused 7142\u001b[K\n",
            "Receiving objects: 100% (7210/7210), 275.66 MiB | 28.00 MiB/s, done.\n",
            "Resolving deltas: 100% (93/93), done.\n",
            "Checking out files: 100% (7207/7207), done.\n"
          ],
          "name": "stdout"
        }
      ]
    },
    {
      "metadata": {
        "id": "g4-gvvBXqeGf",
        "colab_type": "code",
        "colab": {
          "base_uri": "https://localhost:8080/",
          "height": 127
        },
        "outputId": "8c401c7f-5368-47e5-d2ea-c2932a8d6eea"
      },
      "cell_type": "code",
      "source": [
        "from google.colab import drive\n",
        "drive.mount('/content/gdrive')"
      ],
      "execution_count": 2,
      "outputs": [
        {
          "output_type": "stream",
          "text": [
            "Go to this URL in a browser: https://accounts.google.com/o/oauth2/auth?client_id=947318989803-6bn6qk8qdgf4n4g3pfee6491hc0brc4i.apps.googleusercontent.com&redirect_uri=urn%3Aietf%3Awg%3Aoauth%3A2.0%3Aoob&scope=email%20https%3A%2F%2Fwww.googleapis.com%2Fauth%2Fdocs.test%20https%3A%2F%2Fwww.googleapis.com%2Fauth%2Fdrive%20https%3A%2F%2Fwww.googleapis.com%2Fauth%2Fdrive.photos.readonly%20https%3A%2F%2Fwww.googleapis.com%2Fauth%2Fpeopleapi.readonly&response_type=code\n",
            "\n",
            "Enter your authorization code:\n",
            "··········\n",
            "Mounted at /content/gdrive\n"
          ],
          "name": "stdout"
        }
      ]
    },
    {
      "metadata": {
        "id": "m-owjtyWqzdv",
        "colab_type": "code",
        "colab": {}
      },
      "cell_type": "code",
      "source": [
        "import numpy as np\n",
        "import cv2\n",
        "from tqdm import tqdm\n",
        "import fnmatch\n",
        "import os\n",
        "import re\n",
        "from keras.preprocessing import image\n",
        "import random\n",
        "\n",
        "import tensorflow as tf\n",
        "from skimage.filters import gaussian\n",
        "import scipy.misc\n",
        "\n",
        "\n",
        "TRAIN_DIR ='SpatioAE/Train'\n",
        "IMG_SIZE = 128"
      ],
      "execution_count": 0,
      "outputs": []
    },
    {
      "metadata": {
        "id": "5vO-6RppmdPg",
        "colab_type": "code",
        "colab": {}
      },
      "cell_type": "code",
      "source": [
        "# This program deals with augmenting the data to create more data\n",
        "\n",
        "def create_training_set():\n",
        "  train_data = []\n",
        "  matches = []\n",
        "  dirs = []\n",
        "  count = 1\n",
        "  for root, dirnames, filenames in tqdm(os.walk(TRAIN_DIR)):\n",
        "    alist= dirnames\n",
        "    if(root is not None):\n",
        "      dirs.append(root)\n",
        "    print(count)\n",
        "\n",
        "    alist.sort(key=natural_keys)\n",
        "#     blist.sort(key=natural_keys)\n",
        "    count += 1\n",
        "  return dirs\n",
        "    \n",
        "  print(dirs)\n",
        "def atof(text):\n",
        "    try:\n",
        "        retval = float(text)\n",
        "    except ValueError:\n",
        "        retval = text\n",
        "    return retval\n",
        "\n",
        "def natural_keys(text):\n",
        "    '''\n",
        "    alist.sort(key=natural_keys) sorts in human order\n",
        "    http://nedbatchelder.com/blog/200712/human_sorting.html\n",
        "    (See Toothy's implementation in the comments)\n",
        "    float regex comes from https://stackoverflow.com/a/12643073/190597\n",
        "    '''\n",
        "    return [ atof(c) for c in re.split(r'[+-]?([0-9]+(?:[.][0-9]*)?|[.][0-9]+)', text) ]\n",
        "\n"
      ],
      "execution_count": 0,
      "outputs": []
    },
    {
      "metadata": {
        "id": "EsJPh_zKqTEN",
        "colab_type": "code",
        "colab": {}
      },
      "cell_type": "code",
      "source": [
        "class AugmentData():\n",
        "  '''The python class for applying augmentation to create more traninig data'''\n",
        "  \n",
        "  # initializing data\n",
        "  def __init__(self, image,  brightness = False, blur = False,\n",
        "               gamma = False):\n",
        "    self.image = image\n",
        "    self.change_brightness = change_brightness\n",
        "    self.blur = blur\n",
        "    self.hue = hue\n",
        "    self.gamma = gamma\n",
        "    self.saturation = saturation\n",
        "  \n",
        "  \n",
        "  def change_brightness(self, delta = 0.3):\n",
        "    '''This is called if changing brightness is set True'''\n",
        "    if self.brightness:\n",
        "      self.image = tf.image.adjust_brightness(self.image,\n",
        "                                     delta)\n",
        "      \n",
        "      \n",
        "  def change_gamma(self,gamma = 3.0):\n",
        "    '''This is called if changing gamma is set True'''\n",
        "    if self.gamma:\n",
        "      self.image = tf.image.adjust_gamma(self.image, gamma) \n",
        "      \n",
        "  \n",
        "  def blur_image(self, sigma = 5.0 ):\n",
        "    '''This is called if blur is set True'''\n",
        "    if self.bur:\n",
        "      self.image = gaussian_filter(self.image, sigma)\n"
      ],
      "execution_count": 0,
      "outputs": []
    },
    {
      "metadata": {
        "id": "SjiSaiysqw3T",
        "colab_type": "code",
        "colab": {}
      },
      "cell_type": "code",
      "source": [
        "def apply_augmentation():\n",
        "  "
      ],
      "execution_count": 0,
      "outputs": []
    },
    {
      "metadata": {
        "id": "oxS83zAhPxwq",
        "colab_type": "code",
        "colab": {}
      },
      "cell_type": "code",
      "source": [
        "dirs = create_training_set()\n",
        "\n",
        "for i in range(5):\n",
        "  \n",
        "  rand = random.choice(dirs)\n",
        "  dirs.remove(rand)\n",
        "  \n"
      ],
      "execution_count": 0,
      "outputs": []
    },
    {
      "metadata": {
        "id": "rq_JwgtwPzf5",
        "colab_type": "code",
        "colab": {}
      },
      "cell_type": "code",
      "source": [
        "img = image.load_img('gdrive/My Drive/Data/datasets/Test001/005.tif', grayscale = True)\n",
        "img_array = image.img_to_array(img)\n",
        "# print(img_array)\n",
        "# bright_image = tf.image.adjust_brightness(img_array,1)\n",
        "# gamma_image = tf.image.adjust_gamma(bright_image, 0.09)\n",
        "blur_img = gaussian(img_array.astype('uint8'), 1.4)\n",
        "cnv_img = tf.image.convert_image_dtype(blur_img, tf.uint8)\n",
        "enc_img = tf.image.encode_jpeg(cnv_img)\n",
        "write = tf.write_file('blur_1.jpeg', enc_img)\n",
        "sess = tf.Session()\n",
        "sess.run(write)\n"
      ],
      "execution_count": 0,
      "outputs": []
    },
    {
      "metadata": {
        "id": "idAmTIhjL_PS",
        "colab_type": "code",
        "colab": {}
      },
      "cell_type": "code",
      "source": [
        "brightness = 1.5\n",
        "brightness 1.5 and gamma 0.09\n",
        "blur = 1.4\n"
      ],
      "execution_count": 0,
      "outputs": []
    }
  ]
}